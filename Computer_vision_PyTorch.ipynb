{
  "nbformat": 4,
  "nbformat_minor": 0,
  "metadata": {
    "colab": {
      "provenance": [],
      "gpuType": "T4",
      "include_colab_link": true
    },
    "kernelspec": {
      "name": "python3",
      "display_name": "Python 3"
    },
    "language_info": {
      "name": "python"
    },
    "accelerator": "GPU",
    "widgets": {
      "application/vnd.jupyter.widget-state+json": {
        "daf0e254cbdb42ce9e17c7c3d3aa2a92": {
          "model_module": "@jupyter-widgets/controls",
          "model_name": "HBoxModel",
          "model_module_version": "1.5.0",
          "state": {
            "_dom_classes": [],
            "_model_module": "@jupyter-widgets/controls",
            "_model_module_version": "1.5.0",
            "_model_name": "HBoxModel",
            "_view_count": null,
            "_view_module": "@jupyter-widgets/controls",
            "_view_module_version": "1.5.0",
            "_view_name": "HBoxView",
            "box_style": "",
            "children": [
              "IPY_MODEL_bf026a3d24bd41a6b68b095a26a30d41",
              "IPY_MODEL_5de33b30e311430682b93eb8e313266c",
              "IPY_MODEL_de745b1f3daf4eae9b829871821a9c7e"
            ],
            "layout": "IPY_MODEL_de12b76799d14b0eaddc697941678f4f"
          }
        },
        "bf026a3d24bd41a6b68b095a26a30d41": {
          "model_module": "@jupyter-widgets/controls",
          "model_name": "HTMLModel",
          "model_module_version": "1.5.0",
          "state": {
            "_dom_classes": [],
            "_model_module": "@jupyter-widgets/controls",
            "_model_module_version": "1.5.0",
            "_model_name": "HTMLModel",
            "_view_count": null,
            "_view_module": "@jupyter-widgets/controls",
            "_view_module_version": "1.5.0",
            "_view_name": "HTMLView",
            "description": "",
            "description_tooltip": null,
            "layout": "IPY_MODEL_2cedefd6db014595b9dfd126d82987a2",
            "placeholder": "​",
            "style": "IPY_MODEL_e134fb63dd754d57b6ee54f851fef66d",
            "value": "100%"
          }
        },
        "5de33b30e311430682b93eb8e313266c": {
          "model_module": "@jupyter-widgets/controls",
          "model_name": "FloatProgressModel",
          "model_module_version": "1.5.0",
          "state": {
            "_dom_classes": [],
            "_model_module": "@jupyter-widgets/controls",
            "_model_module_version": "1.5.0",
            "_model_name": "FloatProgressModel",
            "_view_count": null,
            "_view_module": "@jupyter-widgets/controls",
            "_view_module_version": "1.5.0",
            "_view_name": "ProgressView",
            "bar_style": "success",
            "description": "",
            "description_tooltip": null,
            "layout": "IPY_MODEL_9cc6abb9ab9945a2b8ceb8fcc36943cd",
            "max": 3,
            "min": 0,
            "orientation": "horizontal",
            "style": "IPY_MODEL_ab7287c9cc41496a945f9768cab25d06",
            "value": 3
          }
        },
        "de745b1f3daf4eae9b829871821a9c7e": {
          "model_module": "@jupyter-widgets/controls",
          "model_name": "HTMLModel",
          "model_module_version": "1.5.0",
          "state": {
            "_dom_classes": [],
            "_model_module": "@jupyter-widgets/controls",
            "_model_module_version": "1.5.0",
            "_model_name": "HTMLModel",
            "_view_count": null,
            "_view_module": "@jupyter-widgets/controls",
            "_view_module_version": "1.5.0",
            "_view_name": "HTMLView",
            "description": "",
            "description_tooltip": null,
            "layout": "IPY_MODEL_03ea30d4845243d385b23d314e2fd5a3",
            "placeholder": "​",
            "style": "IPY_MODEL_07622e36731148cba7600f0f1ca04ff4",
            "value": " 3/3 [00:24&lt;00:00,  8.24s/it]"
          }
        },
        "de12b76799d14b0eaddc697941678f4f": {
          "model_module": "@jupyter-widgets/base",
          "model_name": "LayoutModel",
          "model_module_version": "1.2.0",
          "state": {
            "_model_module": "@jupyter-widgets/base",
            "_model_module_version": "1.2.0",
            "_model_name": "LayoutModel",
            "_view_count": null,
            "_view_module": "@jupyter-widgets/base",
            "_view_module_version": "1.2.0",
            "_view_name": "LayoutView",
            "align_content": null,
            "align_items": null,
            "align_self": null,
            "border": null,
            "bottom": null,
            "display": null,
            "flex": null,
            "flex_flow": null,
            "grid_area": null,
            "grid_auto_columns": null,
            "grid_auto_flow": null,
            "grid_auto_rows": null,
            "grid_column": null,
            "grid_gap": null,
            "grid_row": null,
            "grid_template_areas": null,
            "grid_template_columns": null,
            "grid_template_rows": null,
            "height": null,
            "justify_content": null,
            "justify_items": null,
            "left": null,
            "margin": null,
            "max_height": null,
            "max_width": null,
            "min_height": null,
            "min_width": null,
            "object_fit": null,
            "object_position": null,
            "order": null,
            "overflow": null,
            "overflow_x": null,
            "overflow_y": null,
            "padding": null,
            "right": null,
            "top": null,
            "visibility": null,
            "width": null
          }
        },
        "2cedefd6db014595b9dfd126d82987a2": {
          "model_module": "@jupyter-widgets/base",
          "model_name": "LayoutModel",
          "model_module_version": "1.2.0",
          "state": {
            "_model_module": "@jupyter-widgets/base",
            "_model_module_version": "1.2.0",
            "_model_name": "LayoutModel",
            "_view_count": null,
            "_view_module": "@jupyter-widgets/base",
            "_view_module_version": "1.2.0",
            "_view_name": "LayoutView",
            "align_content": null,
            "align_items": null,
            "align_self": null,
            "border": null,
            "bottom": null,
            "display": null,
            "flex": null,
            "flex_flow": null,
            "grid_area": null,
            "grid_auto_columns": null,
            "grid_auto_flow": null,
            "grid_auto_rows": null,
            "grid_column": null,
            "grid_gap": null,
            "grid_row": null,
            "grid_template_areas": null,
            "grid_template_columns": null,
            "grid_template_rows": null,
            "height": null,
            "justify_content": null,
            "justify_items": null,
            "left": null,
            "margin": null,
            "max_height": null,
            "max_width": null,
            "min_height": null,
            "min_width": null,
            "object_fit": null,
            "object_position": null,
            "order": null,
            "overflow": null,
            "overflow_x": null,
            "overflow_y": null,
            "padding": null,
            "right": null,
            "top": null,
            "visibility": null,
            "width": null
          }
        },
        "e134fb63dd754d57b6ee54f851fef66d": {
          "model_module": "@jupyter-widgets/controls",
          "model_name": "DescriptionStyleModel",
          "model_module_version": "1.5.0",
          "state": {
            "_model_module": "@jupyter-widgets/controls",
            "_model_module_version": "1.5.0",
            "_model_name": "DescriptionStyleModel",
            "_view_count": null,
            "_view_module": "@jupyter-widgets/base",
            "_view_module_version": "1.2.0",
            "_view_name": "StyleView",
            "description_width": ""
          }
        },
        "9cc6abb9ab9945a2b8ceb8fcc36943cd": {
          "model_module": "@jupyter-widgets/base",
          "model_name": "LayoutModel",
          "model_module_version": "1.2.0",
          "state": {
            "_model_module": "@jupyter-widgets/base",
            "_model_module_version": "1.2.0",
            "_model_name": "LayoutModel",
            "_view_count": null,
            "_view_module": "@jupyter-widgets/base",
            "_view_module_version": "1.2.0",
            "_view_name": "LayoutView",
            "align_content": null,
            "align_items": null,
            "align_self": null,
            "border": null,
            "bottom": null,
            "display": null,
            "flex": null,
            "flex_flow": null,
            "grid_area": null,
            "grid_auto_columns": null,
            "grid_auto_flow": null,
            "grid_auto_rows": null,
            "grid_column": null,
            "grid_gap": null,
            "grid_row": null,
            "grid_template_areas": null,
            "grid_template_columns": null,
            "grid_template_rows": null,
            "height": null,
            "justify_content": null,
            "justify_items": null,
            "left": null,
            "margin": null,
            "max_height": null,
            "max_width": null,
            "min_height": null,
            "min_width": null,
            "object_fit": null,
            "object_position": null,
            "order": null,
            "overflow": null,
            "overflow_x": null,
            "overflow_y": null,
            "padding": null,
            "right": null,
            "top": null,
            "visibility": null,
            "width": null
          }
        },
        "ab7287c9cc41496a945f9768cab25d06": {
          "model_module": "@jupyter-widgets/controls",
          "model_name": "ProgressStyleModel",
          "model_module_version": "1.5.0",
          "state": {
            "_model_module": "@jupyter-widgets/controls",
            "_model_module_version": "1.5.0",
            "_model_name": "ProgressStyleModel",
            "_view_count": null,
            "_view_module": "@jupyter-widgets/base",
            "_view_module_version": "1.2.0",
            "_view_name": "StyleView",
            "bar_color": null,
            "description_width": ""
          }
        },
        "03ea30d4845243d385b23d314e2fd5a3": {
          "model_module": "@jupyter-widgets/base",
          "model_name": "LayoutModel",
          "model_module_version": "1.2.0",
          "state": {
            "_model_module": "@jupyter-widgets/base",
            "_model_module_version": "1.2.0",
            "_model_name": "LayoutModel",
            "_view_count": null,
            "_view_module": "@jupyter-widgets/base",
            "_view_module_version": "1.2.0",
            "_view_name": "LayoutView",
            "align_content": null,
            "align_items": null,
            "align_self": null,
            "border": null,
            "bottom": null,
            "display": null,
            "flex": null,
            "flex_flow": null,
            "grid_area": null,
            "grid_auto_columns": null,
            "grid_auto_flow": null,
            "grid_auto_rows": null,
            "grid_column": null,
            "grid_gap": null,
            "grid_row": null,
            "grid_template_areas": null,
            "grid_template_columns": null,
            "grid_template_rows": null,
            "height": null,
            "justify_content": null,
            "justify_items": null,
            "left": null,
            "margin": null,
            "max_height": null,
            "max_width": null,
            "min_height": null,
            "min_width": null,
            "object_fit": null,
            "object_position": null,
            "order": null,
            "overflow": null,
            "overflow_x": null,
            "overflow_y": null,
            "padding": null,
            "right": null,
            "top": null,
            "visibility": null,
            "width": null
          }
        },
        "07622e36731148cba7600f0f1ca04ff4": {
          "model_module": "@jupyter-widgets/controls",
          "model_name": "DescriptionStyleModel",
          "model_module_version": "1.5.0",
          "state": {
            "_model_module": "@jupyter-widgets/controls",
            "_model_module_version": "1.5.0",
            "_model_name": "DescriptionStyleModel",
            "_view_count": null,
            "_view_module": "@jupyter-widgets/base",
            "_view_module_version": "1.2.0",
            "_view_name": "StyleView",
            "description_width": ""
          }
        },
        "cceb591e049341ffadfdda7e0b55e2fa": {
          "model_module": "@jupyter-widgets/controls",
          "model_name": "HBoxModel",
          "model_module_version": "1.5.0",
          "state": {
            "_dom_classes": [],
            "_model_module": "@jupyter-widgets/controls",
            "_model_module_version": "1.5.0",
            "_model_name": "HBoxModel",
            "_view_count": null,
            "_view_module": "@jupyter-widgets/controls",
            "_view_module_version": "1.5.0",
            "_view_name": "HBoxView",
            "box_style": "",
            "children": [
              "IPY_MODEL_acd51e6551424218884b36903e382d94",
              "IPY_MODEL_08b3625ea3054a378372338cdb7749a1",
              "IPY_MODEL_c06c1e7d82f24049a0a1f74f7fdffa3b"
            ],
            "layout": "IPY_MODEL_95d51d5965ae470cb99cac155bdbcfb2"
          }
        },
        "acd51e6551424218884b36903e382d94": {
          "model_module": "@jupyter-widgets/controls",
          "model_name": "HTMLModel",
          "model_module_version": "1.5.0",
          "state": {
            "_dom_classes": [],
            "_model_module": "@jupyter-widgets/controls",
            "_model_module_version": "1.5.0",
            "_model_name": "HTMLModel",
            "_view_count": null,
            "_view_module": "@jupyter-widgets/controls",
            "_view_module_version": "1.5.0",
            "_view_name": "HTMLView",
            "description": "",
            "description_tooltip": null,
            "layout": "IPY_MODEL_245799cb80f24961890e9358c45f3391",
            "placeholder": "​",
            "style": "IPY_MODEL_71cb1b09e187447e86a298878ef35cbc",
            "value": "100%"
          }
        },
        "08b3625ea3054a378372338cdb7749a1": {
          "model_module": "@jupyter-widgets/controls",
          "model_name": "FloatProgressModel",
          "model_module_version": "1.5.0",
          "state": {
            "_dom_classes": [],
            "_model_module": "@jupyter-widgets/controls",
            "_model_module_version": "1.5.0",
            "_model_name": "FloatProgressModel",
            "_view_count": null,
            "_view_module": "@jupyter-widgets/controls",
            "_view_module_version": "1.5.0",
            "_view_name": "ProgressView",
            "bar_style": "success",
            "description": "",
            "description_tooltip": null,
            "layout": "IPY_MODEL_df62b8ae56b54f27b8567b34408a571d",
            "max": 3,
            "min": 0,
            "orientation": "horizontal",
            "style": "IPY_MODEL_f55d8b032fe7476c913db0d0cd9a42bf",
            "value": 3
          }
        },
        "c06c1e7d82f24049a0a1f74f7fdffa3b": {
          "model_module": "@jupyter-widgets/controls",
          "model_name": "HTMLModel",
          "model_module_version": "1.5.0",
          "state": {
            "_dom_classes": [],
            "_model_module": "@jupyter-widgets/controls",
            "_model_module_version": "1.5.0",
            "_model_name": "HTMLModel",
            "_view_count": null,
            "_view_module": "@jupyter-widgets/controls",
            "_view_module_version": "1.5.0",
            "_view_name": "HTMLView",
            "description": "",
            "description_tooltip": null,
            "layout": "IPY_MODEL_886e4ad537a7434bb321a457fffbcbc1",
            "placeholder": "​",
            "style": "IPY_MODEL_28b6fff7fb4246348914a294358b6e69",
            "value": " 3/3 [00:31&lt;00:00, 10.26s/it]"
          }
        },
        "95d51d5965ae470cb99cac155bdbcfb2": {
          "model_module": "@jupyter-widgets/base",
          "model_name": "LayoutModel",
          "model_module_version": "1.2.0",
          "state": {
            "_model_module": "@jupyter-widgets/base",
            "_model_module_version": "1.2.0",
            "_model_name": "LayoutModel",
            "_view_count": null,
            "_view_module": "@jupyter-widgets/base",
            "_view_module_version": "1.2.0",
            "_view_name": "LayoutView",
            "align_content": null,
            "align_items": null,
            "align_self": null,
            "border": null,
            "bottom": null,
            "display": null,
            "flex": null,
            "flex_flow": null,
            "grid_area": null,
            "grid_auto_columns": null,
            "grid_auto_flow": null,
            "grid_auto_rows": null,
            "grid_column": null,
            "grid_gap": null,
            "grid_row": null,
            "grid_template_areas": null,
            "grid_template_columns": null,
            "grid_template_rows": null,
            "height": null,
            "justify_content": null,
            "justify_items": null,
            "left": null,
            "margin": null,
            "max_height": null,
            "max_width": null,
            "min_height": null,
            "min_width": null,
            "object_fit": null,
            "object_position": null,
            "order": null,
            "overflow": null,
            "overflow_x": null,
            "overflow_y": null,
            "padding": null,
            "right": null,
            "top": null,
            "visibility": null,
            "width": null
          }
        },
        "245799cb80f24961890e9358c45f3391": {
          "model_module": "@jupyter-widgets/base",
          "model_name": "LayoutModel",
          "model_module_version": "1.2.0",
          "state": {
            "_model_module": "@jupyter-widgets/base",
            "_model_module_version": "1.2.0",
            "_model_name": "LayoutModel",
            "_view_count": null,
            "_view_module": "@jupyter-widgets/base",
            "_view_module_version": "1.2.0",
            "_view_name": "LayoutView",
            "align_content": null,
            "align_items": null,
            "align_self": null,
            "border": null,
            "bottom": null,
            "display": null,
            "flex": null,
            "flex_flow": null,
            "grid_area": null,
            "grid_auto_columns": null,
            "grid_auto_flow": null,
            "grid_auto_rows": null,
            "grid_column": null,
            "grid_gap": null,
            "grid_row": null,
            "grid_template_areas": null,
            "grid_template_columns": null,
            "grid_template_rows": null,
            "height": null,
            "justify_content": null,
            "justify_items": null,
            "left": null,
            "margin": null,
            "max_height": null,
            "max_width": null,
            "min_height": null,
            "min_width": null,
            "object_fit": null,
            "object_position": null,
            "order": null,
            "overflow": null,
            "overflow_x": null,
            "overflow_y": null,
            "padding": null,
            "right": null,
            "top": null,
            "visibility": null,
            "width": null
          }
        },
        "71cb1b09e187447e86a298878ef35cbc": {
          "model_module": "@jupyter-widgets/controls",
          "model_name": "DescriptionStyleModel",
          "model_module_version": "1.5.0",
          "state": {
            "_model_module": "@jupyter-widgets/controls",
            "_model_module_version": "1.5.0",
            "_model_name": "DescriptionStyleModel",
            "_view_count": null,
            "_view_module": "@jupyter-widgets/base",
            "_view_module_version": "1.2.0",
            "_view_name": "StyleView",
            "description_width": ""
          }
        },
        "df62b8ae56b54f27b8567b34408a571d": {
          "model_module": "@jupyter-widgets/base",
          "model_name": "LayoutModel",
          "model_module_version": "1.2.0",
          "state": {
            "_model_module": "@jupyter-widgets/base",
            "_model_module_version": "1.2.0",
            "_model_name": "LayoutModel",
            "_view_count": null,
            "_view_module": "@jupyter-widgets/base",
            "_view_module_version": "1.2.0",
            "_view_name": "LayoutView",
            "align_content": null,
            "align_items": null,
            "align_self": null,
            "border": null,
            "bottom": null,
            "display": null,
            "flex": null,
            "flex_flow": null,
            "grid_area": null,
            "grid_auto_columns": null,
            "grid_auto_flow": null,
            "grid_auto_rows": null,
            "grid_column": null,
            "grid_gap": null,
            "grid_row": null,
            "grid_template_areas": null,
            "grid_template_columns": null,
            "grid_template_rows": null,
            "height": null,
            "justify_content": null,
            "justify_items": null,
            "left": null,
            "margin": null,
            "max_height": null,
            "max_width": null,
            "min_height": null,
            "min_width": null,
            "object_fit": null,
            "object_position": null,
            "order": null,
            "overflow": null,
            "overflow_x": null,
            "overflow_y": null,
            "padding": null,
            "right": null,
            "top": null,
            "visibility": null,
            "width": null
          }
        },
        "f55d8b032fe7476c913db0d0cd9a42bf": {
          "model_module": "@jupyter-widgets/controls",
          "model_name": "ProgressStyleModel",
          "model_module_version": "1.5.0",
          "state": {
            "_model_module": "@jupyter-widgets/controls",
            "_model_module_version": "1.5.0",
            "_model_name": "ProgressStyleModel",
            "_view_count": null,
            "_view_module": "@jupyter-widgets/base",
            "_view_module_version": "1.2.0",
            "_view_name": "StyleView",
            "bar_color": null,
            "description_width": ""
          }
        },
        "886e4ad537a7434bb321a457fffbcbc1": {
          "model_module": "@jupyter-widgets/base",
          "model_name": "LayoutModel",
          "model_module_version": "1.2.0",
          "state": {
            "_model_module": "@jupyter-widgets/base",
            "_model_module_version": "1.2.0",
            "_model_name": "LayoutModel",
            "_view_count": null,
            "_view_module": "@jupyter-widgets/base",
            "_view_module_version": "1.2.0",
            "_view_name": "LayoutView",
            "align_content": null,
            "align_items": null,
            "align_self": null,
            "border": null,
            "bottom": null,
            "display": null,
            "flex": null,
            "flex_flow": null,
            "grid_area": null,
            "grid_auto_columns": null,
            "grid_auto_flow": null,
            "grid_auto_rows": null,
            "grid_column": null,
            "grid_gap": null,
            "grid_row": null,
            "grid_template_areas": null,
            "grid_template_columns": null,
            "grid_template_rows": null,
            "height": null,
            "justify_content": null,
            "justify_items": null,
            "left": null,
            "margin": null,
            "max_height": null,
            "max_width": null,
            "min_height": null,
            "min_width": null,
            "object_fit": null,
            "object_position": null,
            "order": null,
            "overflow": null,
            "overflow_x": null,
            "overflow_y": null,
            "padding": null,
            "right": null,
            "top": null,
            "visibility": null,
            "width": null
          }
        },
        "28b6fff7fb4246348914a294358b6e69": {
          "model_module": "@jupyter-widgets/controls",
          "model_name": "DescriptionStyleModel",
          "model_module_version": "1.5.0",
          "state": {
            "_model_module": "@jupyter-widgets/controls",
            "_model_module_version": "1.5.0",
            "_model_name": "DescriptionStyleModel",
            "_view_count": null,
            "_view_module": "@jupyter-widgets/base",
            "_view_module_version": "1.2.0",
            "_view_name": "StyleView",
            "description_width": ""
          }
        },
        "0fc5a38a0648426d9b7a4e7f60046d8e": {
          "model_module": "@jupyter-widgets/controls",
          "model_name": "HBoxModel",
          "model_module_version": "1.5.0",
          "state": {
            "_dom_classes": [],
            "_model_module": "@jupyter-widgets/controls",
            "_model_module_version": "1.5.0",
            "_model_name": "HBoxModel",
            "_view_count": null,
            "_view_module": "@jupyter-widgets/controls",
            "_view_module_version": "1.5.0",
            "_view_name": "HBoxView",
            "box_style": "",
            "children": [
              "IPY_MODEL_19e260ce5a294811a6e160ae7fcfc377",
              "IPY_MODEL_55f5ab55b8f541ac86c495527ca02fb9",
              "IPY_MODEL_dc38a716dd3a4d5d9097bcf46607b0b9"
            ],
            "layout": "IPY_MODEL_1180c2f3a2e4476184ac383ad5a0e7c2"
          }
        },
        "19e260ce5a294811a6e160ae7fcfc377": {
          "model_module": "@jupyter-widgets/controls",
          "model_name": "HTMLModel",
          "model_module_version": "1.5.0",
          "state": {
            "_dom_classes": [],
            "_model_module": "@jupyter-widgets/controls",
            "_model_module_version": "1.5.0",
            "_model_name": "HTMLModel",
            "_view_count": null,
            "_view_module": "@jupyter-widgets/controls",
            "_view_module_version": "1.5.0",
            "_view_name": "HTMLView",
            "description": "",
            "description_tooltip": null,
            "layout": "IPY_MODEL_1f3a80735c4f42babf2eea4ce5dbaeb6",
            "placeholder": "​",
            "style": "IPY_MODEL_51c48f4d59d642818893169bf413a356",
            "value": "100%"
          }
        },
        "55f5ab55b8f541ac86c495527ca02fb9": {
          "model_module": "@jupyter-widgets/controls",
          "model_name": "FloatProgressModel",
          "model_module_version": "1.5.0",
          "state": {
            "_dom_classes": [],
            "_model_module": "@jupyter-widgets/controls",
            "_model_module_version": "1.5.0",
            "_model_name": "FloatProgressModel",
            "_view_count": null,
            "_view_module": "@jupyter-widgets/controls",
            "_view_module_version": "1.5.0",
            "_view_name": "ProgressView",
            "bar_style": "success",
            "description": "",
            "description_tooltip": null,
            "layout": "IPY_MODEL_a0127ceed0fb46e1a0de2bf9befbc44d",
            "max": 3,
            "min": 0,
            "orientation": "horizontal",
            "style": "IPY_MODEL_2df06cbb95e543399df3d3a953d40ab0",
            "value": 3
          }
        },
        "dc38a716dd3a4d5d9097bcf46607b0b9": {
          "model_module": "@jupyter-widgets/controls",
          "model_name": "HTMLModel",
          "model_module_version": "1.5.0",
          "state": {
            "_dom_classes": [],
            "_model_module": "@jupyter-widgets/controls",
            "_model_module_version": "1.5.0",
            "_model_name": "HTMLModel",
            "_view_count": null,
            "_view_module": "@jupyter-widgets/controls",
            "_view_module_version": "1.5.0",
            "_view_name": "HTMLView",
            "description": "",
            "description_tooltip": null,
            "layout": "IPY_MODEL_6ffcfd709b4e4da689369aa9c84a0603",
            "placeholder": "​",
            "style": "IPY_MODEL_24dd918ea9dc414e99a9b9ea348f7295",
            "value": " 3/3 [00:39&lt;00:00, 13.61s/it]"
          }
        },
        "1180c2f3a2e4476184ac383ad5a0e7c2": {
          "model_module": "@jupyter-widgets/base",
          "model_name": "LayoutModel",
          "model_module_version": "1.2.0",
          "state": {
            "_model_module": "@jupyter-widgets/base",
            "_model_module_version": "1.2.0",
            "_model_name": "LayoutModel",
            "_view_count": null,
            "_view_module": "@jupyter-widgets/base",
            "_view_module_version": "1.2.0",
            "_view_name": "LayoutView",
            "align_content": null,
            "align_items": null,
            "align_self": null,
            "border": null,
            "bottom": null,
            "display": null,
            "flex": null,
            "flex_flow": null,
            "grid_area": null,
            "grid_auto_columns": null,
            "grid_auto_flow": null,
            "grid_auto_rows": null,
            "grid_column": null,
            "grid_gap": null,
            "grid_row": null,
            "grid_template_areas": null,
            "grid_template_columns": null,
            "grid_template_rows": null,
            "height": null,
            "justify_content": null,
            "justify_items": null,
            "left": null,
            "margin": null,
            "max_height": null,
            "max_width": null,
            "min_height": null,
            "min_width": null,
            "object_fit": null,
            "object_position": null,
            "order": null,
            "overflow": null,
            "overflow_x": null,
            "overflow_y": null,
            "padding": null,
            "right": null,
            "top": null,
            "visibility": null,
            "width": null
          }
        },
        "1f3a80735c4f42babf2eea4ce5dbaeb6": {
          "model_module": "@jupyter-widgets/base",
          "model_name": "LayoutModel",
          "model_module_version": "1.2.0",
          "state": {
            "_model_module": "@jupyter-widgets/base",
            "_model_module_version": "1.2.0",
            "_model_name": "LayoutModel",
            "_view_count": null,
            "_view_module": "@jupyter-widgets/base",
            "_view_module_version": "1.2.0",
            "_view_name": "LayoutView",
            "align_content": null,
            "align_items": null,
            "align_self": null,
            "border": null,
            "bottom": null,
            "display": null,
            "flex": null,
            "flex_flow": null,
            "grid_area": null,
            "grid_auto_columns": null,
            "grid_auto_flow": null,
            "grid_auto_rows": null,
            "grid_column": null,
            "grid_gap": null,
            "grid_row": null,
            "grid_template_areas": null,
            "grid_template_columns": null,
            "grid_template_rows": null,
            "height": null,
            "justify_content": null,
            "justify_items": null,
            "left": null,
            "margin": null,
            "max_height": null,
            "max_width": null,
            "min_height": null,
            "min_width": null,
            "object_fit": null,
            "object_position": null,
            "order": null,
            "overflow": null,
            "overflow_x": null,
            "overflow_y": null,
            "padding": null,
            "right": null,
            "top": null,
            "visibility": null,
            "width": null
          }
        },
        "51c48f4d59d642818893169bf413a356": {
          "model_module": "@jupyter-widgets/controls",
          "model_name": "DescriptionStyleModel",
          "model_module_version": "1.5.0",
          "state": {
            "_model_module": "@jupyter-widgets/controls",
            "_model_module_version": "1.5.0",
            "_model_name": "DescriptionStyleModel",
            "_view_count": null,
            "_view_module": "@jupyter-widgets/base",
            "_view_module_version": "1.2.0",
            "_view_name": "StyleView",
            "description_width": ""
          }
        },
        "a0127ceed0fb46e1a0de2bf9befbc44d": {
          "model_module": "@jupyter-widgets/base",
          "model_name": "LayoutModel",
          "model_module_version": "1.2.0",
          "state": {
            "_model_module": "@jupyter-widgets/base",
            "_model_module_version": "1.2.0",
            "_model_name": "LayoutModel",
            "_view_count": null,
            "_view_module": "@jupyter-widgets/base",
            "_view_module_version": "1.2.0",
            "_view_name": "LayoutView",
            "align_content": null,
            "align_items": null,
            "align_self": null,
            "border": null,
            "bottom": null,
            "display": null,
            "flex": null,
            "flex_flow": null,
            "grid_area": null,
            "grid_auto_columns": null,
            "grid_auto_flow": null,
            "grid_auto_rows": null,
            "grid_column": null,
            "grid_gap": null,
            "grid_row": null,
            "grid_template_areas": null,
            "grid_template_columns": null,
            "grid_template_rows": null,
            "height": null,
            "justify_content": null,
            "justify_items": null,
            "left": null,
            "margin": null,
            "max_height": null,
            "max_width": null,
            "min_height": null,
            "min_width": null,
            "object_fit": null,
            "object_position": null,
            "order": null,
            "overflow": null,
            "overflow_x": null,
            "overflow_y": null,
            "padding": null,
            "right": null,
            "top": null,
            "visibility": null,
            "width": null
          }
        },
        "2df06cbb95e543399df3d3a953d40ab0": {
          "model_module": "@jupyter-widgets/controls",
          "model_name": "ProgressStyleModel",
          "model_module_version": "1.5.0",
          "state": {
            "_model_module": "@jupyter-widgets/controls",
            "_model_module_version": "1.5.0",
            "_model_name": "ProgressStyleModel",
            "_view_count": null,
            "_view_module": "@jupyter-widgets/base",
            "_view_module_version": "1.2.0",
            "_view_name": "StyleView",
            "bar_color": null,
            "description_width": ""
          }
        },
        "6ffcfd709b4e4da689369aa9c84a0603": {
          "model_module": "@jupyter-widgets/base",
          "model_name": "LayoutModel",
          "model_module_version": "1.2.0",
          "state": {
            "_model_module": "@jupyter-widgets/base",
            "_model_module_version": "1.2.0",
            "_model_name": "LayoutModel",
            "_view_count": null,
            "_view_module": "@jupyter-widgets/base",
            "_view_module_version": "1.2.0",
            "_view_name": "LayoutView",
            "align_content": null,
            "align_items": null,
            "align_self": null,
            "border": null,
            "bottom": null,
            "display": null,
            "flex": null,
            "flex_flow": null,
            "grid_area": null,
            "grid_auto_columns": null,
            "grid_auto_flow": null,
            "grid_auto_rows": null,
            "grid_column": null,
            "grid_gap": null,
            "grid_row": null,
            "grid_template_areas": null,
            "grid_template_columns": null,
            "grid_template_rows": null,
            "height": null,
            "justify_content": null,
            "justify_items": null,
            "left": null,
            "margin": null,
            "max_height": null,
            "max_width": null,
            "min_height": null,
            "min_width": null,
            "object_fit": null,
            "object_position": null,
            "order": null,
            "overflow": null,
            "overflow_x": null,
            "overflow_y": null,
            "padding": null,
            "right": null,
            "top": null,
            "visibility": null,
            "width": null
          }
        },
        "24dd918ea9dc414e99a9b9ea348f7295": {
          "model_module": "@jupyter-widgets/controls",
          "model_name": "DescriptionStyleModel",
          "model_module_version": "1.5.0",
          "state": {
            "_model_module": "@jupyter-widgets/controls",
            "_model_module_version": "1.5.0",
            "_model_name": "DescriptionStyleModel",
            "_view_count": null,
            "_view_module": "@jupyter-widgets/base",
            "_view_module_version": "1.2.0",
            "_view_name": "StyleView",
            "description_width": ""
          }
        },
        "a2bf320f00584d19b72e85526cf42db6": {
          "model_module": "@jupyter-widgets/controls",
          "model_name": "HBoxModel",
          "model_module_version": "1.5.0",
          "state": {
            "_dom_classes": [],
            "_model_module": "@jupyter-widgets/controls",
            "_model_module_version": "1.5.0",
            "_model_name": "HBoxModel",
            "_view_count": null,
            "_view_module": "@jupyter-widgets/controls",
            "_view_module_version": "1.5.0",
            "_view_name": "HBoxView",
            "box_style": "",
            "children": [
              "IPY_MODEL_f851799ead3145c19eebdaf828e507b0",
              "IPY_MODEL_97d3cae7ea924da7a7b409c0c938702d",
              "IPY_MODEL_4906c61f3d004fa1b19b33e4677a8cdb"
            ],
            "layout": "IPY_MODEL_9727a1173ccb41c1acc0e18f99b96afa"
          }
        },
        "f851799ead3145c19eebdaf828e507b0": {
          "model_module": "@jupyter-widgets/controls",
          "model_name": "HTMLModel",
          "model_module_version": "1.5.0",
          "state": {
            "_dom_classes": [],
            "_model_module": "@jupyter-widgets/controls",
            "_model_module_version": "1.5.0",
            "_model_name": "HTMLModel",
            "_view_count": null,
            "_view_module": "@jupyter-widgets/controls",
            "_view_module_version": "1.5.0",
            "_view_name": "HTMLView",
            "description": "",
            "description_tooltip": null,
            "layout": "IPY_MODEL_4de09f6940db4629a7b58d075aeb694a",
            "placeholder": "​",
            "style": "IPY_MODEL_0bde1c36e1f04221984b9d255a17b0b0",
            "value": "Making predictions: 100%"
          }
        },
        "97d3cae7ea924da7a7b409c0c938702d": {
          "model_module": "@jupyter-widgets/controls",
          "model_name": "FloatProgressModel",
          "model_module_version": "1.5.0",
          "state": {
            "_dom_classes": [],
            "_model_module": "@jupyter-widgets/controls",
            "_model_module_version": "1.5.0",
            "_model_name": "FloatProgressModel",
            "_view_count": null,
            "_view_module": "@jupyter-widgets/controls",
            "_view_module_version": "1.5.0",
            "_view_name": "ProgressView",
            "bar_style": "success",
            "description": "",
            "description_tooltip": null,
            "layout": "IPY_MODEL_dbc17954c613491f9b5088e40dded54a",
            "max": 313,
            "min": 0,
            "orientation": "horizontal",
            "style": "IPY_MODEL_e0c2deb812f242149d0bdbc948d71261",
            "value": 313
          }
        },
        "4906c61f3d004fa1b19b33e4677a8cdb": {
          "model_module": "@jupyter-widgets/controls",
          "model_name": "HTMLModel",
          "model_module_version": "1.5.0",
          "state": {
            "_dom_classes": [],
            "_model_module": "@jupyter-widgets/controls",
            "_model_module_version": "1.5.0",
            "_model_name": "HTMLModel",
            "_view_count": null,
            "_view_module": "@jupyter-widgets/controls",
            "_view_module_version": "1.5.0",
            "_view_name": "HTMLView",
            "description": "",
            "description_tooltip": null,
            "layout": "IPY_MODEL_72a3c037910947fe9b41ce839083389a",
            "placeholder": "​",
            "style": "IPY_MODEL_d10fab5aac4a4c34838f7ac9dfbbf91a",
            "value": " 313/313 [00:01&lt;00:00, 257.48it/s]"
          }
        },
        "9727a1173ccb41c1acc0e18f99b96afa": {
          "model_module": "@jupyter-widgets/base",
          "model_name": "LayoutModel",
          "model_module_version": "1.2.0",
          "state": {
            "_model_module": "@jupyter-widgets/base",
            "_model_module_version": "1.2.0",
            "_model_name": "LayoutModel",
            "_view_count": null,
            "_view_module": "@jupyter-widgets/base",
            "_view_module_version": "1.2.0",
            "_view_name": "LayoutView",
            "align_content": null,
            "align_items": null,
            "align_self": null,
            "border": null,
            "bottom": null,
            "display": null,
            "flex": null,
            "flex_flow": null,
            "grid_area": null,
            "grid_auto_columns": null,
            "grid_auto_flow": null,
            "grid_auto_rows": null,
            "grid_column": null,
            "grid_gap": null,
            "grid_row": null,
            "grid_template_areas": null,
            "grid_template_columns": null,
            "grid_template_rows": null,
            "height": null,
            "justify_content": null,
            "justify_items": null,
            "left": null,
            "margin": null,
            "max_height": null,
            "max_width": null,
            "min_height": null,
            "min_width": null,
            "object_fit": null,
            "object_position": null,
            "order": null,
            "overflow": null,
            "overflow_x": null,
            "overflow_y": null,
            "padding": null,
            "right": null,
            "top": null,
            "visibility": null,
            "width": null
          }
        },
        "4de09f6940db4629a7b58d075aeb694a": {
          "model_module": "@jupyter-widgets/base",
          "model_name": "LayoutModel",
          "model_module_version": "1.2.0",
          "state": {
            "_model_module": "@jupyter-widgets/base",
            "_model_module_version": "1.2.0",
            "_model_name": "LayoutModel",
            "_view_count": null,
            "_view_module": "@jupyter-widgets/base",
            "_view_module_version": "1.2.0",
            "_view_name": "LayoutView",
            "align_content": null,
            "align_items": null,
            "align_self": null,
            "border": null,
            "bottom": null,
            "display": null,
            "flex": null,
            "flex_flow": null,
            "grid_area": null,
            "grid_auto_columns": null,
            "grid_auto_flow": null,
            "grid_auto_rows": null,
            "grid_column": null,
            "grid_gap": null,
            "grid_row": null,
            "grid_template_areas": null,
            "grid_template_columns": null,
            "grid_template_rows": null,
            "height": null,
            "justify_content": null,
            "justify_items": null,
            "left": null,
            "margin": null,
            "max_height": null,
            "max_width": null,
            "min_height": null,
            "min_width": null,
            "object_fit": null,
            "object_position": null,
            "order": null,
            "overflow": null,
            "overflow_x": null,
            "overflow_y": null,
            "padding": null,
            "right": null,
            "top": null,
            "visibility": null,
            "width": null
          }
        },
        "0bde1c36e1f04221984b9d255a17b0b0": {
          "model_module": "@jupyter-widgets/controls",
          "model_name": "DescriptionStyleModel",
          "model_module_version": "1.5.0",
          "state": {
            "_model_module": "@jupyter-widgets/controls",
            "_model_module_version": "1.5.0",
            "_model_name": "DescriptionStyleModel",
            "_view_count": null,
            "_view_module": "@jupyter-widgets/base",
            "_view_module_version": "1.2.0",
            "_view_name": "StyleView",
            "description_width": ""
          }
        },
        "dbc17954c613491f9b5088e40dded54a": {
          "model_module": "@jupyter-widgets/base",
          "model_name": "LayoutModel",
          "model_module_version": "1.2.0",
          "state": {
            "_model_module": "@jupyter-widgets/base",
            "_model_module_version": "1.2.0",
            "_model_name": "LayoutModel",
            "_view_count": null,
            "_view_module": "@jupyter-widgets/base",
            "_view_module_version": "1.2.0",
            "_view_name": "LayoutView",
            "align_content": null,
            "align_items": null,
            "align_self": null,
            "border": null,
            "bottom": null,
            "display": null,
            "flex": null,
            "flex_flow": null,
            "grid_area": null,
            "grid_auto_columns": null,
            "grid_auto_flow": null,
            "grid_auto_rows": null,
            "grid_column": null,
            "grid_gap": null,
            "grid_row": null,
            "grid_template_areas": null,
            "grid_template_columns": null,
            "grid_template_rows": null,
            "height": null,
            "justify_content": null,
            "justify_items": null,
            "left": null,
            "margin": null,
            "max_height": null,
            "max_width": null,
            "min_height": null,
            "min_width": null,
            "object_fit": null,
            "object_position": null,
            "order": null,
            "overflow": null,
            "overflow_x": null,
            "overflow_y": null,
            "padding": null,
            "right": null,
            "top": null,
            "visibility": null,
            "width": null
          }
        },
        "e0c2deb812f242149d0bdbc948d71261": {
          "model_module": "@jupyter-widgets/controls",
          "model_name": "ProgressStyleModel",
          "model_module_version": "1.5.0",
          "state": {
            "_model_module": "@jupyter-widgets/controls",
            "_model_module_version": "1.5.0",
            "_model_name": "ProgressStyleModel",
            "_view_count": null,
            "_view_module": "@jupyter-widgets/base",
            "_view_module_version": "1.2.0",
            "_view_name": "StyleView",
            "bar_color": null,
            "description_width": ""
          }
        },
        "72a3c037910947fe9b41ce839083389a": {
          "model_module": "@jupyter-widgets/base",
          "model_name": "LayoutModel",
          "model_module_version": "1.2.0",
          "state": {
            "_model_module": "@jupyter-widgets/base",
            "_model_module_version": "1.2.0",
            "_model_name": "LayoutModel",
            "_view_count": null,
            "_view_module": "@jupyter-widgets/base",
            "_view_module_version": "1.2.0",
            "_view_name": "LayoutView",
            "align_content": null,
            "align_items": null,
            "align_self": null,
            "border": null,
            "bottom": null,
            "display": null,
            "flex": null,
            "flex_flow": null,
            "grid_area": null,
            "grid_auto_columns": null,
            "grid_auto_flow": null,
            "grid_auto_rows": null,
            "grid_column": null,
            "grid_gap": null,
            "grid_row": null,
            "grid_template_areas": null,
            "grid_template_columns": null,
            "grid_template_rows": null,
            "height": null,
            "justify_content": null,
            "justify_items": null,
            "left": null,
            "margin": null,
            "max_height": null,
            "max_width": null,
            "min_height": null,
            "min_width": null,
            "object_fit": null,
            "object_position": null,
            "order": null,
            "overflow": null,
            "overflow_x": null,
            "overflow_y": null,
            "padding": null,
            "right": null,
            "top": null,
            "visibility": null,
            "width": null
          }
        },
        "d10fab5aac4a4c34838f7ac9dfbbf91a": {
          "model_module": "@jupyter-widgets/controls",
          "model_name": "DescriptionStyleModel",
          "model_module_version": "1.5.0",
          "state": {
            "_model_module": "@jupyter-widgets/controls",
            "_model_module_version": "1.5.0",
            "_model_name": "DescriptionStyleModel",
            "_view_count": null,
            "_view_module": "@jupyter-widgets/base",
            "_view_module_version": "1.2.0",
            "_view_name": "StyleView",
            "description_width": ""
          }
        }
      }
    }
  },
  "cells": [
    {
      "cell_type": "markdown",
      "metadata": {
        "id": "view-in-github",
        "colab_type": "text"
      },
      "source": [
        "<a href=\"https://colab.research.google.com/github/ShivinM-17/PyTorch-practices/blob/main/Computer_vision_PyTorch.ipynb\" target=\"_parent\"><img src=\"https://colab.research.google.com/assets/colab-badge.svg\" alt=\"Open In Colab\"/></a>"
      ]
    },
    {
      "cell_type": "markdown",
      "source": [
        "## PyTorch Computer Vision"
      ],
      "metadata": {
        "id": "pTm7sLJIfzwV"
      }
    },
    {
      "cell_type": "markdown",
      "source": [
        "**Computer vision libraries in PyTorch**\n",
        "* `torchVision` - base domain library for PyTorch Computer vision\n",
        "* `torchvision.datasets` - get datasets and loading functions for computer vision\n",
        "* `torchvision.models` - get pretrained computer vision models for own usage\n",
        "* `torchvision.transforms` - functions for manipulating the vision data\n",
        "* `torch.utils.data.dataset` - base dataset calss for pytorch\n",
        "* `torch.utils.data.DataLoader` - creates a python iterable over a dataset\n"
      ],
      "metadata": {
        "id": "HhTDCS5df47T"
      }
    },
    {
      "cell_type": "code",
      "execution_count": 1,
      "metadata": {
        "colab": {
          "base_uri": "https://localhost:8080/"
        },
        "id": "GKBZXuQRfy49",
        "outputId": "d63586ff-b382-4c57-a2f7-353b35839237"
      },
      "outputs": [
        {
          "output_type": "stream",
          "name": "stdout",
          "text": [
            "2.0.1+cu118\n",
            "0.15.2+cu118\n"
          ]
        }
      ],
      "source": [
        "# Importing pytorch\n",
        "import torch\n",
        "from torch import nn\n",
        "\n",
        "# import torchvision\n",
        "import torchvision\n",
        "from torchvision import datasets\n",
        "from torchvision import transforms\n",
        "from torchvision.transforms import ToTensor\n",
        "\n",
        "# Importing matplotlib for visualisation\n",
        "import matplotlib.pyplot as plt\n",
        "\n",
        "# Checking the versions\n",
        "print(torch.__version__)\n",
        "print(torchvision.__version__)\n"
      ]
    },
    {
      "cell_type": "markdown",
      "source": [
        "### Getting dataset\n",
        "Here, we'll be using the FashionMNIST dataset (contains 10 different kinds of clothing, i.e. 10 classes in total)\n",
        "\n",
        "This is included in `torchvision.datasets.FashionMNIST()`"
      ],
      "metadata": {
        "id": "aU3e05PMi6aZ"
      }
    },
    {
      "cell_type": "code",
      "source": [
        "# Setup training data\n",
        "train_data = datasets.FashionMNIST(\n",
        "    root=\"data\", # where to download data to?\n",
        "    train=True, # get training data\n",
        "    download=True, # download data if it doesn't exist on disk\n",
        "    transform=ToTensor(), # images come as PIL format, we want to turn into Torch tensors\n",
        "    target_transform=None # you can transform labels as well\n",
        ")\n",
        "\n",
        "# Setup testing data\n",
        "test_data = datasets.FashionMNIST(\n",
        "    root=\"data\",\n",
        "    train=False, # get test data\n",
        "    download=True,\n",
        "    transform=ToTensor()\n",
        ")"
      ],
      "metadata": {
        "colab": {
          "base_uri": "https://localhost:8080/"
        },
        "id": "qQ5HDFLuhvd6",
        "outputId": "ac91e61a-15c4-4b61-f209-9f939ad232ef"
      },
      "execution_count": 2,
      "outputs": [
        {
          "output_type": "stream",
          "name": "stdout",
          "text": [
            "Downloading http://fashion-mnist.s3-website.eu-central-1.amazonaws.com/train-images-idx3-ubyte.gz\n",
            "Downloading http://fashion-mnist.s3-website.eu-central-1.amazonaws.com/train-images-idx3-ubyte.gz to data/FashionMNIST/raw/train-images-idx3-ubyte.gz\n"
          ]
        },
        {
          "output_type": "stream",
          "name": "stderr",
          "text": [
            "100%|██████████| 26421880/26421880 [00:02<00:00, 10249193.86it/s]\n"
          ]
        },
        {
          "output_type": "stream",
          "name": "stdout",
          "text": [
            "Extracting data/FashionMNIST/raw/train-images-idx3-ubyte.gz to data/FashionMNIST/raw\n",
            "\n",
            "Downloading http://fashion-mnist.s3-website.eu-central-1.amazonaws.com/train-labels-idx1-ubyte.gz\n",
            "Downloading http://fashion-mnist.s3-website.eu-central-1.amazonaws.com/train-labels-idx1-ubyte.gz to data/FashionMNIST/raw/train-labels-idx1-ubyte.gz\n"
          ]
        },
        {
          "output_type": "stream",
          "name": "stderr",
          "text": [
            "100%|██████████| 29515/29515 [00:00<00:00, 174085.11it/s]\n"
          ]
        },
        {
          "output_type": "stream",
          "name": "stdout",
          "text": [
            "Extracting data/FashionMNIST/raw/train-labels-idx1-ubyte.gz to data/FashionMNIST/raw\n",
            "\n",
            "Downloading http://fashion-mnist.s3-website.eu-central-1.amazonaws.com/t10k-images-idx3-ubyte.gz\n",
            "Downloading http://fashion-mnist.s3-website.eu-central-1.amazonaws.com/t10k-images-idx3-ubyte.gz to data/FashionMNIST/raw/t10k-images-idx3-ubyte.gz\n"
          ]
        },
        {
          "output_type": "stream",
          "name": "stderr",
          "text": [
            "100%|██████████| 4422102/4422102 [00:01<00:00, 3227651.86it/s]\n"
          ]
        },
        {
          "output_type": "stream",
          "name": "stdout",
          "text": [
            "Extracting data/FashionMNIST/raw/t10k-images-idx3-ubyte.gz to data/FashionMNIST/raw\n",
            "\n",
            "Downloading http://fashion-mnist.s3-website.eu-central-1.amazonaws.com/t10k-labels-idx1-ubyte.gz\n",
            "Downloading http://fashion-mnist.s3-website.eu-central-1.amazonaws.com/t10k-labels-idx1-ubyte.gz to data/FashionMNIST/raw/t10k-labels-idx1-ubyte.gz\n"
          ]
        },
        {
          "output_type": "stream",
          "name": "stderr",
          "text": [
            "100%|██████████| 5148/5148 [00:00<00:00, 5598205.08it/s]"
          ]
        },
        {
          "output_type": "stream",
          "name": "stdout",
          "text": [
            "Extracting data/FashionMNIST/raw/t10k-labels-idx1-ubyte.gz to data/FashionMNIST/raw\n",
            "\n"
          ]
        },
        {
          "output_type": "stream",
          "name": "stderr",
          "text": [
            "\n"
          ]
        }
      ]
    },
    {
      "cell_type": "code",
      "source": [
        "# Checking the first training sample\n",
        "image, label = train_data[0]\n",
        "image, label"
      ],
      "metadata": {
        "colab": {
          "base_uri": "https://localhost:8080/"
        },
        "id": "wkrrZ41-kw6Q",
        "outputId": "8d55ede4-bca3-4f79-fc50-404059c3c5b2"
      },
      "execution_count": 3,
      "outputs": [
        {
          "output_type": "execute_result",
          "data": {
            "text/plain": [
              "(tensor([[[0.0000, 0.0000, 0.0000, 0.0000, 0.0000, 0.0000, 0.0000, 0.0000,\n",
              "           0.0000, 0.0000, 0.0000, 0.0000, 0.0000, 0.0000, 0.0000, 0.0000,\n",
              "           0.0000, 0.0000, 0.0000, 0.0000, 0.0000, 0.0000, 0.0000, 0.0000,\n",
              "           0.0000, 0.0000, 0.0000, 0.0000],\n",
              "          [0.0000, 0.0000, 0.0000, 0.0000, 0.0000, 0.0000, 0.0000, 0.0000,\n",
              "           0.0000, 0.0000, 0.0000, 0.0000, 0.0000, 0.0000, 0.0000, 0.0000,\n",
              "           0.0000, 0.0000, 0.0000, 0.0000, 0.0000, 0.0000, 0.0000, 0.0000,\n",
              "           0.0000, 0.0000, 0.0000, 0.0000],\n",
              "          [0.0000, 0.0000, 0.0000, 0.0000, 0.0000, 0.0000, 0.0000, 0.0000,\n",
              "           0.0000, 0.0000, 0.0000, 0.0000, 0.0000, 0.0000, 0.0000, 0.0000,\n",
              "           0.0000, 0.0000, 0.0000, 0.0000, 0.0000, 0.0000, 0.0000, 0.0000,\n",
              "           0.0000, 0.0000, 0.0000, 0.0000],\n",
              "          [0.0000, 0.0000, 0.0000, 0.0000, 0.0000, 0.0000, 0.0000, 0.0000,\n",
              "           0.0000, 0.0000, 0.0000, 0.0000, 0.0039, 0.0000, 0.0000, 0.0510,\n",
              "           0.2863, 0.0000, 0.0000, 0.0039, 0.0157, 0.0000, 0.0000, 0.0000,\n",
              "           0.0000, 0.0039, 0.0039, 0.0000],\n",
              "          [0.0000, 0.0000, 0.0000, 0.0000, 0.0000, 0.0000, 0.0000, 0.0000,\n",
              "           0.0000, 0.0000, 0.0000, 0.0000, 0.0118, 0.0000, 0.1412, 0.5333,\n",
              "           0.4980, 0.2431, 0.2118, 0.0000, 0.0000, 0.0000, 0.0039, 0.0118,\n",
              "           0.0157, 0.0000, 0.0000, 0.0118],\n",
              "          [0.0000, 0.0000, 0.0000, 0.0000, 0.0000, 0.0000, 0.0000, 0.0000,\n",
              "           0.0000, 0.0000, 0.0000, 0.0000, 0.0235, 0.0000, 0.4000, 0.8000,\n",
              "           0.6902, 0.5255, 0.5647, 0.4824, 0.0902, 0.0000, 0.0000, 0.0000,\n",
              "           0.0000, 0.0471, 0.0392, 0.0000],\n",
              "          [0.0000, 0.0000, 0.0000, 0.0000, 0.0000, 0.0000, 0.0000, 0.0000,\n",
              "           0.0000, 0.0000, 0.0000, 0.0000, 0.0000, 0.0000, 0.6078, 0.9255,\n",
              "           0.8118, 0.6980, 0.4196, 0.6118, 0.6314, 0.4275, 0.2510, 0.0902,\n",
              "           0.3020, 0.5098, 0.2824, 0.0588],\n",
              "          [0.0000, 0.0000, 0.0000, 0.0000, 0.0000, 0.0000, 0.0000, 0.0000,\n",
              "           0.0000, 0.0000, 0.0000, 0.0039, 0.0000, 0.2706, 0.8118, 0.8745,\n",
              "           0.8549, 0.8471, 0.8471, 0.6392, 0.4980, 0.4745, 0.4784, 0.5725,\n",
              "           0.5529, 0.3451, 0.6745, 0.2588],\n",
              "          [0.0000, 0.0000, 0.0000, 0.0000, 0.0000, 0.0000, 0.0000, 0.0000,\n",
              "           0.0000, 0.0039, 0.0039, 0.0039, 0.0000, 0.7843, 0.9098, 0.9098,\n",
              "           0.9137, 0.8980, 0.8745, 0.8745, 0.8431, 0.8353, 0.6431, 0.4980,\n",
              "           0.4824, 0.7686, 0.8980, 0.0000],\n",
              "          [0.0000, 0.0000, 0.0000, 0.0000, 0.0000, 0.0000, 0.0000, 0.0000,\n",
              "           0.0000, 0.0000, 0.0000, 0.0000, 0.0000, 0.7176, 0.8824, 0.8471,\n",
              "           0.8745, 0.8941, 0.9216, 0.8902, 0.8784, 0.8706, 0.8784, 0.8667,\n",
              "           0.8745, 0.9608, 0.6784, 0.0000],\n",
              "          [0.0000, 0.0000, 0.0000, 0.0000, 0.0000, 0.0000, 0.0000, 0.0000,\n",
              "           0.0000, 0.0000, 0.0000, 0.0000, 0.0000, 0.7569, 0.8941, 0.8549,\n",
              "           0.8353, 0.7765, 0.7059, 0.8314, 0.8235, 0.8275, 0.8353, 0.8745,\n",
              "           0.8627, 0.9529, 0.7922, 0.0000],\n",
              "          [0.0000, 0.0000, 0.0000, 0.0000, 0.0000, 0.0000, 0.0000, 0.0000,\n",
              "           0.0000, 0.0039, 0.0118, 0.0000, 0.0471, 0.8588, 0.8627, 0.8314,\n",
              "           0.8549, 0.7529, 0.6627, 0.8902, 0.8157, 0.8549, 0.8784, 0.8314,\n",
              "           0.8863, 0.7725, 0.8196, 0.2039],\n",
              "          [0.0000, 0.0000, 0.0000, 0.0000, 0.0000, 0.0000, 0.0000, 0.0000,\n",
              "           0.0000, 0.0000, 0.0235, 0.0000, 0.3882, 0.9569, 0.8706, 0.8627,\n",
              "           0.8549, 0.7961, 0.7765, 0.8667, 0.8431, 0.8353, 0.8706, 0.8627,\n",
              "           0.9608, 0.4667, 0.6549, 0.2196],\n",
              "          [0.0000, 0.0000, 0.0000, 0.0000, 0.0000, 0.0000, 0.0000, 0.0000,\n",
              "           0.0000, 0.0157, 0.0000, 0.0000, 0.2157, 0.9255, 0.8941, 0.9020,\n",
              "           0.8941, 0.9412, 0.9098, 0.8353, 0.8549, 0.8745, 0.9176, 0.8510,\n",
              "           0.8510, 0.8196, 0.3608, 0.0000],\n",
              "          [0.0000, 0.0000, 0.0039, 0.0157, 0.0235, 0.0275, 0.0078, 0.0000,\n",
              "           0.0000, 0.0000, 0.0000, 0.0000, 0.9294, 0.8863, 0.8510, 0.8745,\n",
              "           0.8706, 0.8588, 0.8706, 0.8667, 0.8471, 0.8745, 0.8980, 0.8431,\n",
              "           0.8549, 1.0000, 0.3020, 0.0000],\n",
              "          [0.0000, 0.0118, 0.0000, 0.0000, 0.0000, 0.0000, 0.0000, 0.0000,\n",
              "           0.0000, 0.2431, 0.5686, 0.8000, 0.8941, 0.8118, 0.8353, 0.8667,\n",
              "           0.8549, 0.8157, 0.8275, 0.8549, 0.8784, 0.8745, 0.8588, 0.8431,\n",
              "           0.8784, 0.9569, 0.6235, 0.0000],\n",
              "          [0.0000, 0.0000, 0.0000, 0.0000, 0.0706, 0.1725, 0.3216, 0.4196,\n",
              "           0.7412, 0.8941, 0.8627, 0.8706, 0.8510, 0.8863, 0.7843, 0.8039,\n",
              "           0.8275, 0.9020, 0.8784, 0.9176, 0.6902, 0.7373, 0.9804, 0.9725,\n",
              "           0.9137, 0.9333, 0.8431, 0.0000],\n",
              "          [0.0000, 0.2235, 0.7333, 0.8157, 0.8784, 0.8667, 0.8784, 0.8157,\n",
              "           0.8000, 0.8392, 0.8157, 0.8196, 0.7843, 0.6235, 0.9608, 0.7569,\n",
              "           0.8078, 0.8745, 1.0000, 1.0000, 0.8667, 0.9176, 0.8667, 0.8275,\n",
              "           0.8627, 0.9098, 0.9647, 0.0000],\n",
              "          [0.0118, 0.7922, 0.8941, 0.8784, 0.8667, 0.8275, 0.8275, 0.8392,\n",
              "           0.8039, 0.8039, 0.8039, 0.8627, 0.9412, 0.3137, 0.5882, 1.0000,\n",
              "           0.8980, 0.8667, 0.7373, 0.6039, 0.7490, 0.8235, 0.8000, 0.8196,\n",
              "           0.8706, 0.8941, 0.8824, 0.0000],\n",
              "          [0.3843, 0.9137, 0.7765, 0.8235, 0.8706, 0.8980, 0.8980, 0.9176,\n",
              "           0.9765, 0.8627, 0.7608, 0.8431, 0.8510, 0.9451, 0.2549, 0.2863,\n",
              "           0.4157, 0.4588, 0.6588, 0.8588, 0.8667, 0.8431, 0.8510, 0.8745,\n",
              "           0.8745, 0.8784, 0.8980, 0.1137],\n",
              "          [0.2941, 0.8000, 0.8314, 0.8000, 0.7569, 0.8039, 0.8275, 0.8824,\n",
              "           0.8471, 0.7255, 0.7725, 0.8078, 0.7765, 0.8353, 0.9412, 0.7647,\n",
              "           0.8902, 0.9608, 0.9373, 0.8745, 0.8549, 0.8314, 0.8196, 0.8706,\n",
              "           0.8627, 0.8667, 0.9020, 0.2627],\n",
              "          [0.1882, 0.7961, 0.7176, 0.7608, 0.8353, 0.7725, 0.7255, 0.7451,\n",
              "           0.7608, 0.7529, 0.7922, 0.8392, 0.8588, 0.8667, 0.8627, 0.9255,\n",
              "           0.8824, 0.8471, 0.7804, 0.8078, 0.7294, 0.7098, 0.6941, 0.6745,\n",
              "           0.7098, 0.8039, 0.8078, 0.4510],\n",
              "          [0.0000, 0.4784, 0.8588, 0.7569, 0.7020, 0.6706, 0.7176, 0.7686,\n",
              "           0.8000, 0.8235, 0.8353, 0.8118, 0.8275, 0.8235, 0.7843, 0.7686,\n",
              "           0.7608, 0.7490, 0.7647, 0.7490, 0.7765, 0.7529, 0.6902, 0.6118,\n",
              "           0.6549, 0.6941, 0.8235, 0.3608],\n",
              "          [0.0000, 0.0000, 0.2902, 0.7412, 0.8314, 0.7490, 0.6863, 0.6745,\n",
              "           0.6863, 0.7098, 0.7255, 0.7373, 0.7412, 0.7373, 0.7569, 0.7765,\n",
              "           0.8000, 0.8196, 0.8235, 0.8235, 0.8275, 0.7373, 0.7373, 0.7608,\n",
              "           0.7529, 0.8471, 0.6667, 0.0000],\n",
              "          [0.0078, 0.0000, 0.0000, 0.0000, 0.2588, 0.7843, 0.8706, 0.9294,\n",
              "           0.9373, 0.9490, 0.9647, 0.9529, 0.9569, 0.8667, 0.8627, 0.7569,\n",
              "           0.7490, 0.7020, 0.7137, 0.7137, 0.7098, 0.6902, 0.6510, 0.6588,\n",
              "           0.3882, 0.2275, 0.0000, 0.0000],\n",
              "          [0.0000, 0.0000, 0.0000, 0.0000, 0.0000, 0.0000, 0.0000, 0.1569,\n",
              "           0.2392, 0.1725, 0.2824, 0.1608, 0.1373, 0.0000, 0.0000, 0.0000,\n",
              "           0.0000, 0.0000, 0.0000, 0.0000, 0.0000, 0.0000, 0.0000, 0.0000,\n",
              "           0.0000, 0.0000, 0.0000, 0.0000],\n",
              "          [0.0000, 0.0000, 0.0000, 0.0000, 0.0000, 0.0000, 0.0000, 0.0000,\n",
              "           0.0000, 0.0000, 0.0000, 0.0000, 0.0000, 0.0000, 0.0000, 0.0000,\n",
              "           0.0000, 0.0000, 0.0000, 0.0000, 0.0000, 0.0000, 0.0000, 0.0000,\n",
              "           0.0000, 0.0000, 0.0000, 0.0000],\n",
              "          [0.0000, 0.0000, 0.0000, 0.0000, 0.0000, 0.0000, 0.0000, 0.0000,\n",
              "           0.0000, 0.0000, 0.0000, 0.0000, 0.0000, 0.0000, 0.0000, 0.0000,\n",
              "           0.0000, 0.0000, 0.0000, 0.0000, 0.0000, 0.0000, 0.0000, 0.0000,\n",
              "           0.0000, 0.0000, 0.0000, 0.0000]]]),\n",
              " 9)"
            ]
          },
          "metadata": {},
          "execution_count": 3
        }
      ]
    },
    {
      "cell_type": "markdown",
      "source": [
        "#### Input and output shapes"
      ],
      "metadata": {
        "id": "UKVNkt788mpf"
      }
    },
    {
      "cell_type": "code",
      "source": [
        "# shape of the image\n",
        "image.shape"
      ],
      "metadata": {
        "colab": {
          "base_uri": "https://localhost:8080/"
        },
        "id": "j6FNK_qvlB6a",
        "outputId": "8a323d9b-beff-437d-f5d8-6225e7ceb6a8"
      },
      "execution_count": 4,
      "outputs": [
        {
          "output_type": "execute_result",
          "data": {
            "text/plain": [
              "torch.Size([1, 28, 28])"
            ]
          },
          "metadata": {},
          "execution_count": 4
        }
      ]
    },
    {
      "cell_type": "markdown",
      "source": [
        "[color_channels=1, height=28, width=28]"
      ],
      "metadata": {
        "id": "LB1Yf9ZO8tsd"
      }
    },
    {
      "cell_type": "code",
      "source": [
        "# How many samples are there?\n",
        "len(train_data.data), len(train_data.targets), len(test_data.data), len(test_data.targets)\n"
      ],
      "metadata": {
        "colab": {
          "base_uri": "https://localhost:8080/"
        },
        "id": "Adlknn3N8sMB",
        "outputId": "086aa9c2-86ee-422c-d5cf-0ed389bc70e7"
      },
      "execution_count": 5,
      "outputs": [
        {
          "output_type": "execute_result",
          "data": {
            "text/plain": [
              "(60000, 60000, 10000, 10000)"
            ]
          },
          "metadata": {},
          "execution_count": 5
        }
      ]
    },
    {
      "cell_type": "code",
      "source": [
        "# getting classes\n",
        "class_names = train_data.classes\n",
        "class_names"
      ],
      "metadata": {
        "colab": {
          "base_uri": "https://localhost:8080/"
        },
        "id": "RPnLNJ7P89Kr",
        "outputId": "4e34312c-9d2a-4fcf-a67b-2b30ab2a1a89"
      },
      "execution_count": 6,
      "outputs": [
        {
          "output_type": "execute_result",
          "data": {
            "text/plain": [
              "['T-shirt/top',\n",
              " 'Trouser',\n",
              " 'Pullover',\n",
              " 'Dress',\n",
              " 'Coat',\n",
              " 'Sandal',\n",
              " 'Shirt',\n",
              " 'Sneaker',\n",
              " 'Bag',\n",
              " 'Ankle boot']"
            ]
          },
          "metadata": {},
          "execution_count": 6
        }
      ]
    },
    {
      "cell_type": "markdown",
      "source": [
        "#### Visualising the data"
      ],
      "metadata": {
        "id": "MRlyS_8c9EJQ"
      }
    },
    {
      "cell_type": "code",
      "source": [
        "import matplotlib.pyplot as plt\n",
        "image, label = train_data[0]\n",
        "print(f\"Image shape: {image.shape}\")\n",
        "plt.imshow(image.squeeze())\n",
        "plt.title(label);"
      ],
      "metadata": {
        "colab": {
          "base_uri": "https://localhost:8080/",
          "height": 469
        },
        "id": "U1ttKpvq9Cr2",
        "outputId": "5da5daec-7af2-42a4-c9af-b65ecae020d0"
      },
      "execution_count": 7,
      "outputs": [
        {
          "output_type": "stream",
          "name": "stdout",
          "text": [
            "Image shape: torch.Size([1, 28, 28])\n"
          ]
        },
        {
          "output_type": "display_data",
          "data": {
            "text/plain": [
              "<Figure size 640x480 with 1 Axes>"
            ],
            "image/png": "[encoded data removed]"
          },
          "metadata": {}
        }
      ]
    },
    {
      "cell_type": "code",
      "source": [
        "# Turning into grayscale\n",
        "plt.imshow(image.squeeze(), cmap=\"gray\")\n",
        "plt.title(class_names[label]);"
      ],
      "metadata": {
        "colab": {
          "base_uri": "https://localhost:8080/",
          "height": 452
        },
        "id": "Ta5b9cng9Uyc",
        "outputId": "557133eb-2ae3-4323-95e5-9e30e64cb236"
      },
      "execution_count": 8,
      "outputs": [
        {
          "output_type": "display_data",
          "data": {
            "text/plain": [
              "<Figure size 640x480 with 1 Axes>"
            ],
            "image/png": "[encoded data removed]"
          },
          "metadata": {}
        }
      ]
    },
    {
      "cell_type": "code",
      "source": [
        "# Plotting more images\n",
        "torch.manual_seed(42)\n",
        "fig = plt.figure(figsize=(9,9))\n",
        "rows, cols = 4,4\n",
        "for i in range(1, rows * cols + 1):\n",
        "  random_idx = torch.randint(0, len(train_data), size=[1]).item()\n",
        "  img, label = train_data[random_idx]\n",
        "  fig.add_subplot(rows, cols, i)\n",
        "  plt.imshow(img.squeeze(), cmap=\"gray\")\n",
        "  plt.title(class_names[label])\n",
        "  plt.axis(False);"
      ],
      "metadata": {
        "colab": {
          "base_uri": "https://localhost:8080/",
          "height": 680
        },
        "id": "ho1utqkt9Zr1",
        "outputId": "567ee704-df6f-45ca-c2bf-d33ed340b16d"
      },
      "execution_count": 9,
      "outputs": [
        {
          "output_type": "display_data",
          "data": {
            "text/plain": [
              "<Figure size 900x900 with 16 Axes>"
            ],
            "image/png": "[encoded data removed]"
          },
          "metadata": {}
        }
      ]
    },
    {
      "cell_type": "code",
      "source": [
        "train_data, test_data"
      ],
      "metadata": {
        "colab": {
          "base_uri": "https://localhost:8080/"
        },
        "id": "WnzQ3HSy-eSn",
        "outputId": "b3047fb5-1d4e-4ab7-9e17-be212b46a18c"
      },
      "execution_count": 10,
      "outputs": [
        {
          "output_type": "execute_result",
          "data": {
            "text/plain": [
              "(Dataset FashionMNIST\n",
              "     Number of datapoints: 60000\n",
              "     Root location: data\n",
              "     Split: Train\n",
              "     StandardTransform\n",
              " Transform: ToTensor(),\n",
              " Dataset FashionMNIST\n",
              "     Number of datapoints: 10000\n",
              "     Root location: data\n",
              "     Split: Test\n",
              "     StandardTransform\n",
              " Transform: ToTensor())"
            ]
          },
          "metadata": {},
          "execution_count": 10
        }
      ]
    },
    {
      "cell_type": "markdown",
      "source": [
        "### Preparing the dataloaders\n",
        "\n",
        "Turning the data into batches since it is computationally efficient"
      ],
      "metadata": {
        "id": "H6tuOLxV-Bq3"
      }
    },
    {
      "cell_type": "code",
      "source": [
        "from torch.utils.data import DataLoader\n",
        "\n",
        "# Setup the batch size\n",
        "BATCH_SIZE=32\n",
        "\n",
        "# Turn datasets into interables (batches)\n",
        "train_dataloader = DataLoader(dataset=train_data,\n",
        "                              batch_size=BATCH_SIZE,\n",
        "                              shuffle=True)\n",
        "\n",
        "test_dataloader = DataLoader(dataset=test_data,\n",
        "                             batch_size=BATCH_SIZE,\n",
        "                             shuffle=False)"
      ],
      "metadata": {
        "id": "1Fm2B-6M957u"
      },
      "execution_count": 11,
      "outputs": []
    },
    {
      "cell_type": "code",
      "source": [
        "train_dataloader, test_dataloader"
      ],
      "metadata": {
        "colab": {
          "base_uri": "https://localhost:8080/"
        },
        "id": "5MN5HaNr_cWg",
        "outputId": "be59dc55-c19f-4bbf-85f1-45da54103a86"
      },
      "execution_count": 12,
      "outputs": [
        {
          "output_type": "execute_result",
          "data": {
            "text/plain": [
              "(<torch.utils.data.dataloader.DataLoader at 0x7df84f7f2b30>,\n",
              " <torch.utils.data.dataloader.DataLoader at 0x7df851c871c0>)"
            ]
          },
          "metadata": {},
          "execution_count": 12
        }
      ]
    },
    {
      "cell_type": "code",
      "source": [
        "# Let's check out what we've created\n",
        "print(f\"Dataloaders: {train_dataloader, test_dataloader}\")\n",
        "print(f\"Length of train dataloader: {len(train_dataloader)} batches of {BATCH_SIZE}\")\n",
        "print(f\"Length of test dataloader: {len(test_dataloader)} batches of {BATCH_SIZE}\")\n"
      ],
      "metadata": {
        "colab": {
          "base_uri": "https://localhost:8080/"
        },
        "id": "EowhdakJ_epD",
        "outputId": "3a1f706b-6901-42e5-c167-506d38b103ef"
      },
      "execution_count": 13,
      "outputs": [
        {
          "output_type": "stream",
          "name": "stdout",
          "text": [
            "Dataloaders: (<torch.utils.data.dataloader.DataLoader object at 0x7df84f7f2b30>, <torch.utils.data.dataloader.DataLoader object at 0x7df851c871c0>)\n",
            "Length of train dataloader: 1875 batches of 32\n",
            "Length of test dataloader: 313 batches of 32\n"
          ]
        }
      ]
    },
    {
      "cell_type": "code",
      "source": [
        "# Getting batches from the dataloader\n",
        "train_features_batch, train_labels_batch = next(iter(train_dataloader))\n",
        "train_features_batch.shape, train_labels_batch.shape"
      ],
      "metadata": {
        "colab": {
          "base_uri": "https://localhost:8080/"
        },
        "id": "a3qRwRCR_n0H",
        "outputId": "a4ae1cd4-f603-41eb-e0d9-72a85e724083"
      },
      "execution_count": 14,
      "outputs": [
        {
          "output_type": "execute_result",
          "data": {
            "text/plain": [
              "(torch.Size([32, 1, 28, 28]), torch.Size([32]))"
            ]
          },
          "metadata": {},
          "execution_count": 14
        }
      ]
    },
    {
      "cell_type": "code",
      "source": [
        "# getting a sample\n",
        "# torch.manual_seed(42)\n",
        "random_idx = torch.randint(0, len(train_features_batch), size=[1]).item()\n",
        "img, label = train_features_batch[random_idx], train_labels_batch[random_idx]\n",
        "plt.imshow(img.squeeze(), cmap=\"gray\")\n",
        "plt.title(class_names[label])\n",
        "plt.axis(False)\n",
        "print(f\"Image size: {img.shape}\")\n",
        "print(f\"Label: {label}, label size: {label.shape}\")"
      ],
      "metadata": {
        "colab": {
          "base_uri": "https://localhost:8080/",
          "height": 463
        },
        "id": "SXLreLY4_66T",
        "outputId": "5eb24a26-fd78-4596-8bdd-6c25e09f0d53"
      },
      "execution_count": 15,
      "outputs": [
        {
          "output_type": "stream",
          "name": "stdout",
          "text": [
            "Image size: torch.Size([1, 28, 28])\n",
            "Label: 8, label size: torch.Size([])\n"
          ]
        },
        {
          "output_type": "display_data",
          "data": {
            "text/plain": [
              "<Figure size 640x480 with 1 Axes>"
            ],
            "image/png": "[encoded data removed]"
          },
          "metadata": {}
        }
      ]
    },
    {
      "cell_type": "code",
      "source": [],
      "metadata": {
        "id": "kcuFTpkkAIBE"
      },
      "execution_count": 15,
      "outputs": []
    },
    {
      "cell_type": "markdown",
      "source": [
        "### Creating a baseline model (model0)\n",
        "\n",
        "This is the simplest model that'll be made"
      ],
      "metadata": {
        "id": "VkNmeTtgAwuM"
      }
    },
    {
      "cell_type": "code",
      "source": [
        "# Create a flatten layer\n",
        "flatten_model = nn.Flatten()\n",
        "# Flatten() compresses the dimensions of tensor into a single vector\n",
        "\n",
        "# Get a single sample\n",
        "x = train_features_batch[0]\n",
        "\n",
        "# Flatten the sample\n",
        "output = flatten_model(x)  # perform forward pass\n",
        "\n",
        "# Print out what happened\n",
        "print(f\"Shape before flattening: {x.shape} -> [color_channels, height, width]\")\n",
        "print(f\"Shape after flattening: {output.shape} -> [color_channels, height*width]\")\n"
      ],
      "metadata": {
        "colab": {
          "base_uri": "https://localhost:8080/"
        },
        "id": "HRkdlaiWAy71",
        "outputId": "4d71d49e-5607-4c57-da94-c7c1900158c4"
      },
      "execution_count": 16,
      "outputs": [
        {
          "output_type": "stream",
          "name": "stdout",
          "text": [
            "Shape before flattening: torch.Size([1, 28, 28]) -> [color_channels, height, width]\n",
            "Shape after flattening: torch.Size([1, 784]) -> [color_channels, height*width]\n"
          ]
        }
      ]
    },
    {
      "cell_type": "markdown",
      "source": [
        "The `Flatten()` method compressed the shape from `[color_channels, height, width]` to `[color_channels, height*width]`"
      ],
      "metadata": {
        "id": "spQHmPiDBfyl"
      }
    },
    {
      "cell_type": "code",
      "source": [
        "print(x)\n",
        "print(output)"
      ],
      "metadata": {
        "colab": {
          "base_uri": "https://localhost:8080/"
        },
        "id": "Kjc915iPBTpY",
        "outputId": "4aa68069-a173-4aec-ec7d-6040b955ab41"
      },
      "execution_count": 17,
      "outputs": [
        {
          "output_type": "stream",
          "name": "stdout",
          "text": [
            "tensor([[[0.0000, 0.0000, 0.0000, 0.0000, 0.0000, 0.0000, 0.0000, 0.0000,\n",
            "          0.0000, 0.0000, 0.0000, 0.0000, 0.0000, 0.0000, 0.0000, 0.0000,\n",
            "          0.0000, 0.0000, 0.0000, 0.0000, 0.0000, 0.0000, 0.0000, 0.0000,\n",
            "          0.0000, 0.0000, 0.0000, 0.0000],\n",
            "         [0.0000, 0.0000, 0.0000, 0.0000, 0.0000, 0.0000, 0.0000, 0.0000,\n",
            "          0.0000, 0.0000, 0.0000, 0.0000, 0.0000, 0.0000, 0.0000, 0.0000,\n",
            "          0.0000, 0.0000, 0.0000, 0.0000, 0.0000, 0.0000, 0.0000, 0.0000,\n",
            "          0.0000, 0.0000, 0.0000, 0.0000],\n",
            "         [0.0000, 0.0000, 0.0000, 0.0000, 0.0000, 0.0000, 0.0000, 0.0000,\n",
            "          0.0000, 0.0000, 0.0000, 0.0000, 0.0000, 0.0000, 0.0000, 0.0000,\n",
            "          0.0000, 0.0000, 0.0000, 0.0000, 0.0000, 0.0000, 0.0000, 0.0000,\n",
            "          0.0000, 0.0000, 0.0000, 0.0000],\n",
            "         [0.0000, 0.0000, 0.0000, 0.0000, 0.0000, 0.0000, 0.0000, 0.0000,\n",
            "          0.0000, 0.0039, 0.0039, 0.0000, 0.0000, 0.0078, 0.0078, 0.0000,\n",
            "          0.0000, 0.0039, 0.0078, 0.0000, 0.0000, 0.0000, 0.0000, 0.0000,\n",
            "          0.2863, 0.0000, 0.0000, 0.0078],\n",
            "         [0.0000, 0.0000, 0.0000, 0.0000, 0.0000, 0.0000, 0.0000, 0.0000,\n",
            "          0.0000, 0.0000, 0.0000, 0.0000, 0.0000, 0.0000, 0.0000, 0.0000,\n",
            "          0.0000, 0.0000, 0.0000, 0.0000, 0.0000, 0.0000, 0.0000, 0.0000,\n",
            "          0.3725, 0.0000, 0.0000, 0.0000],\n",
            "         [0.0000, 0.0000, 0.0000, 0.0000, 0.0000, 0.0000, 0.0000, 0.0000,\n",
            "          0.0000, 0.0000, 0.0000, 0.0000, 0.0000, 0.3373, 0.3569, 0.2039,\n",
            "          0.4980, 0.4196, 0.4706, 0.3608, 0.3961, 0.4706, 0.4471, 1.0000,\n",
            "          0.4314, 0.3451, 0.0078, 0.0000],\n",
            "         [0.0000, 0.0000, 0.0000, 0.0000, 0.0000, 0.0000, 0.0000, 0.0000,\n",
            "          0.0000, 0.0000, 0.0000, 0.0000, 0.0000, 0.0706, 0.0824, 0.0706,\n",
            "          0.4588, 0.4118, 0.4980, 0.2588, 0.2235, 0.2588, 0.0824, 0.0510,\n",
            "          0.1922, 0.5137, 0.5765, 0.0000],\n",
            "         [0.0000, 0.0000, 0.0000, 0.0000, 0.0000, 0.0000, 0.0000, 0.0000,\n",
            "          0.0000, 0.0000, 0.0000, 0.0000, 0.0000, 0.0000, 0.0000, 0.0000,\n",
            "          0.0000, 0.0000, 0.0000, 0.0000, 0.0000, 0.0000, 0.0000, 0.1333,\n",
            "          0.8000, 0.5608, 0.5255, 0.2431],\n",
            "         [0.0000, 0.0000, 0.0000, 0.0000, 0.0000, 0.0000, 0.0000, 0.0000,\n",
            "          0.0000, 0.0000, 0.0000, 0.0000, 0.0000, 0.0039, 0.0039, 0.0000,\n",
            "          0.0000, 0.0000, 0.0000, 0.0078, 0.0000, 0.0000, 0.0000, 0.9137,\n",
            "          0.9686, 0.5137, 0.4353, 0.6471],\n",
            "         [0.0000, 0.0000, 0.0000, 0.0000, 0.0000, 0.0000, 0.0000, 0.0000,\n",
            "          0.0000, 0.0000, 0.0000, 0.0000, 0.0000, 0.0000, 0.0000, 0.0000,\n",
            "          0.0000, 0.0000, 0.0000, 0.0000, 0.0000, 0.0000, 0.0588, 0.3843,\n",
            "          0.6980, 0.0588, 0.2824, 0.1686],\n",
            "         [0.0000, 0.0000, 0.0000, 0.0000, 0.0000, 0.0000, 0.0000, 0.0000,\n",
            "          0.0000, 0.0000, 0.0000, 0.0000, 0.0000, 0.0000, 0.0000, 0.0000,\n",
            "          0.0000, 0.0000, 0.0000, 0.0000, 0.0000, 0.1333, 0.2078, 0.2157,\n",
            "          0.6745, 0.2941, 0.1059, 0.0000],\n",
            "         [0.0000, 0.0000, 0.0000, 0.0000, 0.0000, 0.0000, 0.0000, 0.0000,\n",
            "          0.0000, 0.0000, 0.0000, 0.0000, 0.0000, 0.0000, 0.0000, 0.0000,\n",
            "          0.0000, 0.0000, 0.0039, 0.0000, 0.0078, 0.3333, 0.2980, 0.2941,\n",
            "          0.2039, 0.0314, 0.0000, 0.0000],\n",
            "         [0.0000, 0.0000, 0.0000, 0.0000, 0.0000, 0.0000, 0.0000, 0.0000,\n",
            "          0.0000, 0.0000, 0.0000, 0.0000, 0.0000, 0.0000, 0.0000, 0.0000,\n",
            "          0.0000, 0.0039, 0.0039, 0.0000, 0.2196, 0.5020, 0.0157, 0.0706,\n",
            "          0.3451, 0.3216, 0.0588, 0.0000],\n",
            "         [0.0000, 0.0000, 0.0000, 0.0000, 0.0000, 0.0000, 0.0000, 0.0000,\n",
            "          0.0000, 0.0000, 0.0000, 0.0000, 0.0000, 0.0000, 0.0000, 0.0000,\n",
            "          0.0000, 0.0000, 0.0000, 0.0157, 0.4863, 0.3843, 0.1804, 0.6235,\n",
            "          0.7882, 0.6000, 0.1569, 0.0000],\n",
            "         [0.0000, 0.0000, 0.0000, 0.0000, 0.0000, 0.0000, 0.0000, 0.0000,\n",
            "          0.0000, 0.0000, 0.0000, 0.0000, 0.0000, 0.0000, 0.0000, 0.0000,\n",
            "          0.0000, 0.0000, 0.0000, 0.2863, 0.4431, 0.4196, 0.5882, 0.5020,\n",
            "          0.1020, 0.2235, 0.0549, 0.0000],\n",
            "         [0.0000, 0.0000, 0.0000, 0.0000, 0.0000, 0.0000, 0.0000, 0.0000,\n",
            "          0.0000, 0.0000, 0.0000, 0.0000, 0.0000, 0.0000, 0.0000, 0.0000,\n",
            "          0.0000, 0.0000, 0.0039, 0.4078, 0.4314, 0.7137, 0.1843, 0.2196,\n",
            "          0.4118, 0.3216, 0.0196, 0.0000],\n",
            "         [0.0000, 0.0000, 0.0000, 0.0000, 0.0039, 0.0000, 0.0000, 0.0000,\n",
            "          0.0000, 0.0000, 0.0000, 0.0000, 0.0000, 0.0000, 0.0000, 0.0000,\n",
            "          0.0000, 0.0000, 0.2549, 0.5647, 0.6275, 0.0824, 0.0000, 0.0000,\n",
            "          0.5098, 0.3333, 0.0000, 0.0000],\n",
            "         [0.0000, 0.0000, 0.0000, 0.0000, 0.0000, 0.0000, 0.0039, 0.0039,\n",
            "          0.0000, 0.0000, 0.0000, 0.0000, 0.0000, 0.0000, 0.0000, 0.0000,\n",
            "          0.0000, 0.3333, 0.5647, 0.5529, 0.0000, 0.0000, 0.0000, 0.0000,\n",
            "          0.6510, 0.3059, 0.0000, 0.0000],\n",
            "         [0.0000, 0.0000, 0.0000, 0.0000, 0.0000, 0.0000, 0.0000, 0.0000,\n",
            "          0.0000, 0.0000, 0.0000, 0.0000, 0.0000, 0.0000, 0.0000, 0.0000,\n",
            "          0.1922, 0.7216, 0.4510, 0.0000, 0.0000, 0.0157, 0.0000, 0.0000,\n",
            "          0.6275, 0.2667, 0.0000, 0.0000],\n",
            "         [0.0000, 0.0000, 0.0000, 0.0039, 0.0000, 0.0000, 0.0784, 0.0784,\n",
            "          0.0000, 0.0000, 0.0000, 0.0000, 0.0000, 0.0000, 0.0000, 0.0706,\n",
            "          0.6392, 0.3804, 0.0000, 0.0000, 0.0000, 0.0314, 0.0000, 0.0000,\n",
            "          0.6667, 0.1529, 0.0000, 0.0000],\n",
            "         [0.0000, 0.0000, 0.0039, 0.0000, 0.0314, 0.2471, 0.2980, 0.1686,\n",
            "          0.0000, 0.0000, 0.0000, 0.0000, 0.0000, 0.0000, 0.0000, 0.5255,\n",
            "          0.5333, 0.0000, 0.0000, 0.0000, 0.0000, 0.0078, 0.0000, 0.0000,\n",
            "          0.6784, 0.0706, 0.0000, 0.0039],\n",
            "         [0.0039, 0.0039, 0.0000, 0.0000, 0.0706, 0.0941, 0.0000, 0.0196,\n",
            "          0.0000, 0.0000, 0.0000, 0.0000, 0.0000, 0.0000, 0.3451, 0.7137,\n",
            "          0.0275, 0.0000, 0.0000, 0.0000, 0.0000, 0.0000, 0.0000, 0.0000,\n",
            "          0.6588, 0.0039, 0.0000, 0.0039],\n",
            "         [0.0000, 0.0000, 0.0000, 0.0000, 0.0078, 0.1922, 0.1059, 0.1216,\n",
            "          0.2196, 0.0667, 0.0000, 0.0000, 0.0000, 0.3451, 0.6000, 0.1922,\n",
            "          0.0000, 0.0196, 0.0000, 0.0039, 0.0000, 0.0000, 0.0000, 0.0000,\n",
            "          0.6471, 0.0000, 0.0000, 0.0039],\n",
            "         [0.0510, 0.0275, 0.0000, 0.0000, 0.0000, 0.3294, 0.3804, 0.4000,\n",
            "          0.4941, 0.3882, 0.0000, 0.0196, 0.5020, 0.6000, 0.2863, 0.0000,\n",
            "          0.0000, 0.0000, 0.0000, 0.0000, 0.0000, 0.0000, 0.0000, 0.0039,\n",
            "          0.5451, 0.0000, 0.0000, 0.0000],\n",
            "         [0.3176, 0.5961, 0.5725, 0.5490, 0.4863, 0.4824, 0.5098, 0.4941,\n",
            "          0.4431, 0.4431, 0.4471, 0.7216, 0.6235, 0.1647, 0.0000, 0.0000,\n",
            "          0.0000, 0.0078, 0.0000, 0.0000, 0.0000, 0.0000, 0.0000, 0.0000,\n",
            "          0.7294, 0.0000, 0.0000, 0.0039],\n",
            "         [0.0000, 0.0000, 0.0000, 0.0941, 0.1647, 0.1804, 0.2235, 0.2549,\n",
            "          0.2706, 0.2549, 0.2471, 0.1569, 0.0000, 0.0000, 0.0000, 0.0000,\n",
            "          0.0000, 0.0000, 0.0000, 0.0000, 0.0000, 0.0000, 0.0000, 0.0000,\n",
            "          0.7137, 0.0157, 0.0000, 0.0039],\n",
            "         [0.0000, 0.0000, 0.0000, 0.0000, 0.0000, 0.0000, 0.0000, 0.0000,\n",
            "          0.0000, 0.0000, 0.0000, 0.0000, 0.0000, 0.0000, 0.0000, 0.0000,\n",
            "          0.0000, 0.0000, 0.0000, 0.0000, 0.0000, 0.0000, 0.0000, 0.0000,\n",
            "          0.0000, 0.0000, 0.0000, 0.0000],\n",
            "         [0.0000, 0.0000, 0.0000, 0.0000, 0.0000, 0.0000, 0.0000, 0.0000,\n",
            "          0.0000, 0.0000, 0.0000, 0.0000, 0.0000, 0.0000, 0.0000, 0.0000,\n",
            "          0.0000, 0.0000, 0.0000, 0.0000, 0.0000, 0.0000, 0.0000, 0.0000,\n",
            "          0.0000, 0.0000, 0.0000, 0.0000]]])\n",
            "tensor([[0.0000, 0.0000, 0.0000, 0.0000, 0.0000, 0.0000, 0.0000, 0.0000, 0.0000,\n",
            "         0.0000, 0.0000, 0.0000, 0.0000, 0.0000, 0.0000, 0.0000, 0.0000, 0.0000,\n",
            "         0.0000, 0.0000, 0.0000, 0.0000, 0.0000, 0.0000, 0.0000, 0.0000, 0.0000,\n",
            "         0.0000, 0.0000, 0.0000, 0.0000, 0.0000, 0.0000, 0.0000, 0.0000, 0.0000,\n",
            "         0.0000, 0.0000, 0.0000, 0.0000, 0.0000, 0.0000, 0.0000, 0.0000, 0.0000,\n",
            "         0.0000, 0.0000, 0.0000, 0.0000, 0.0000, 0.0000, 0.0000, 0.0000, 0.0000,\n",
            "         0.0000, 0.0000, 0.0000, 0.0000, 0.0000, 0.0000, 0.0000, 0.0000, 0.0000,\n",
            "         0.0000, 0.0000, 0.0000, 0.0000, 0.0000, 0.0000, 0.0000, 0.0000, 0.0000,\n",
            "         0.0000, 0.0000, 0.0000, 0.0000, 0.0000, 0.0000, 0.0000, 0.0000, 0.0000,\n",
            "         0.0000, 0.0000, 0.0000, 0.0000, 0.0000, 0.0000, 0.0000, 0.0000, 0.0000,\n",
            "         0.0000, 0.0000, 0.0000, 0.0039, 0.0039, 0.0000, 0.0000, 0.0078, 0.0078,\n",
            "         0.0000, 0.0000, 0.0039, 0.0078, 0.0000, 0.0000, 0.0000, 0.0000, 0.0000,\n",
            "         0.2863, 0.0000, 0.0000, 0.0078, 0.0000, 0.0000, 0.0000, 0.0000, 0.0000,\n",
            "         0.0000, 0.0000, 0.0000, 0.0000, 0.0000, 0.0000, 0.0000, 0.0000, 0.0000,\n",
            "         0.0000, 0.0000, 0.0000, 0.0000, 0.0000, 0.0000, 0.0000, 0.0000, 0.0000,\n",
            "         0.0000, 0.3725, 0.0000, 0.0000, 0.0000, 0.0000, 0.0000, 0.0000, 0.0000,\n",
            "         0.0000, 0.0000, 0.0000, 0.0000, 0.0000, 0.0000, 0.0000, 0.0000, 0.0000,\n",
            "         0.3373, 0.3569, 0.2039, 0.4980, 0.4196, 0.4706, 0.3608, 0.3961, 0.4706,\n",
            "         0.4471, 1.0000, 0.4314, 0.3451, 0.0078, 0.0000, 0.0000, 0.0000, 0.0000,\n",
            "         0.0000, 0.0000, 0.0000, 0.0000, 0.0000, 0.0000, 0.0000, 0.0000, 0.0000,\n",
            "         0.0000, 0.0706, 0.0824, 0.0706, 0.4588, 0.4118, 0.4980, 0.2588, 0.2235,\n",
            "         0.2588, 0.0824, 0.0510, 0.1922, 0.5137, 0.5765, 0.0000, 0.0000, 0.0000,\n",
            "         0.0000, 0.0000, 0.0000, 0.0000, 0.0000, 0.0000, 0.0000, 0.0000, 0.0000,\n",
            "         0.0000, 0.0000, 0.0000, 0.0000, 0.0000, 0.0000, 0.0000, 0.0000, 0.0000,\n",
            "         0.0000, 0.0000, 0.0000, 0.1333, 0.8000, 0.5608, 0.5255, 0.2431, 0.0000,\n",
            "         0.0000, 0.0000, 0.0000, 0.0000, 0.0000, 0.0000, 0.0000, 0.0000, 0.0000,\n",
            "         0.0000, 0.0000, 0.0000, 0.0039, 0.0039, 0.0000, 0.0000, 0.0000, 0.0000,\n",
            "         0.0078, 0.0000, 0.0000, 0.0000, 0.9137, 0.9686, 0.5137, 0.4353, 0.6471,\n",
            "         0.0000, 0.0000, 0.0000, 0.0000, 0.0000, 0.0000, 0.0000, 0.0000, 0.0000,\n",
            "         0.0000, 0.0000, 0.0000, 0.0000, 0.0000, 0.0000, 0.0000, 0.0000, 0.0000,\n",
            "         0.0000, 0.0000, 0.0000, 0.0000, 0.0588, 0.3843, 0.6980, 0.0588, 0.2824,\n",
            "         0.1686, 0.0000, 0.0000, 0.0000, 0.0000, 0.0000, 0.0000, 0.0000, 0.0000,\n",
            "         0.0000, 0.0000, 0.0000, 0.0000, 0.0000, 0.0000, 0.0000, 0.0000, 0.0000,\n",
            "         0.0000, 0.0000, 0.0000, 0.0000, 0.1333, 0.2078, 0.2157, 0.6745, 0.2941,\n",
            "         0.1059, 0.0000, 0.0000, 0.0000, 0.0000, 0.0000, 0.0000, 0.0000, 0.0000,\n",
            "         0.0000, 0.0000, 0.0000, 0.0000, 0.0000, 0.0000, 0.0000, 0.0000, 0.0000,\n",
            "         0.0000, 0.0000, 0.0039, 0.0000, 0.0078, 0.3333, 0.2980, 0.2941, 0.2039,\n",
            "         0.0314, 0.0000, 0.0000, 0.0000, 0.0000, 0.0000, 0.0000, 0.0000, 0.0000,\n",
            "         0.0000, 0.0000, 0.0000, 0.0000, 0.0000, 0.0000, 0.0000, 0.0000, 0.0000,\n",
            "         0.0000, 0.0000, 0.0039, 0.0039, 0.0000, 0.2196, 0.5020, 0.0157, 0.0706,\n",
            "         0.3451, 0.3216, 0.0588, 0.0000, 0.0000, 0.0000, 0.0000, 0.0000, 0.0000,\n",
            "         0.0000, 0.0000, 0.0000, 0.0000, 0.0000, 0.0000, 0.0000, 0.0000, 0.0000,\n",
            "         0.0000, 0.0000, 0.0000, 0.0000, 0.0000, 0.0157, 0.4863, 0.3843, 0.1804,\n",
            "         0.6235, 0.7882, 0.6000, 0.1569, 0.0000, 0.0000, 0.0000, 0.0000, 0.0000,\n",
            "         0.0000, 0.0000, 0.0000, 0.0000, 0.0000, 0.0000, 0.0000, 0.0000, 0.0000,\n",
            "         0.0000, 0.0000, 0.0000, 0.0000, 0.0000, 0.0000, 0.2863, 0.4431, 0.4196,\n",
            "         0.5882, 0.5020, 0.1020, 0.2235, 0.0549, 0.0000, 0.0000, 0.0000, 0.0000,\n",
            "         0.0000, 0.0000, 0.0000, 0.0000, 0.0000, 0.0000, 0.0000, 0.0000, 0.0000,\n",
            "         0.0000, 0.0000, 0.0000, 0.0000, 0.0000, 0.0000, 0.0039, 0.4078, 0.4314,\n",
            "         0.7137, 0.1843, 0.2196, 0.4118, 0.3216, 0.0196, 0.0000, 0.0000, 0.0000,\n",
            "         0.0000, 0.0000, 0.0039, 0.0000, 0.0000, 0.0000, 0.0000, 0.0000, 0.0000,\n",
            "         0.0000, 0.0000, 0.0000, 0.0000, 0.0000, 0.0000, 0.0000, 0.2549, 0.5647,\n",
            "         0.6275, 0.0824, 0.0000, 0.0000, 0.5098, 0.3333, 0.0000, 0.0000, 0.0000,\n",
            "         0.0000, 0.0000, 0.0000, 0.0000, 0.0000, 0.0039, 0.0039, 0.0000, 0.0000,\n",
            "         0.0000, 0.0000, 0.0000, 0.0000, 0.0000, 0.0000, 0.0000, 0.3333, 0.5647,\n",
            "         0.5529, 0.0000, 0.0000, 0.0000, 0.0000, 0.6510, 0.3059, 0.0000, 0.0000,\n",
            "         0.0000, 0.0000, 0.0000, 0.0000, 0.0000, 0.0000, 0.0000, 0.0000, 0.0000,\n",
            "         0.0000, 0.0000, 0.0000, 0.0000, 0.0000, 0.0000, 0.0000, 0.1922, 0.7216,\n",
            "         0.4510, 0.0000, 0.0000, 0.0157, 0.0000, 0.0000, 0.6275, 0.2667, 0.0000,\n",
            "         0.0000, 0.0000, 0.0000, 0.0000, 0.0039, 0.0000, 0.0000, 0.0784, 0.0784,\n",
            "         0.0000, 0.0000, 0.0000, 0.0000, 0.0000, 0.0000, 0.0000, 0.0706, 0.6392,\n",
            "         0.3804, 0.0000, 0.0000, 0.0000, 0.0314, 0.0000, 0.0000, 0.6667, 0.1529,\n",
            "         0.0000, 0.0000, 0.0000, 0.0000, 0.0039, 0.0000, 0.0314, 0.2471, 0.2980,\n",
            "         0.1686, 0.0000, 0.0000, 0.0000, 0.0000, 0.0000, 0.0000, 0.0000, 0.5255,\n",
            "         0.5333, 0.0000, 0.0000, 0.0000, 0.0000, 0.0078, 0.0000, 0.0000, 0.6784,\n",
            "         0.0706, 0.0000, 0.0039, 0.0039, 0.0039, 0.0000, 0.0000, 0.0706, 0.0941,\n",
            "         0.0000, 0.0196, 0.0000, 0.0000, 0.0000, 0.0000, 0.0000, 0.0000, 0.3451,\n",
            "         0.7137, 0.0275, 0.0000, 0.0000, 0.0000, 0.0000, 0.0000, 0.0000, 0.0000,\n",
            "         0.6588, 0.0039, 0.0000, 0.0039, 0.0000, 0.0000, 0.0000, 0.0000, 0.0078,\n",
            "         0.1922, 0.1059, 0.1216, 0.2196, 0.0667, 0.0000, 0.0000, 0.0000, 0.3451,\n",
            "         0.6000, 0.1922, 0.0000, 0.0196, 0.0000, 0.0039, 0.0000, 0.0000, 0.0000,\n",
            "         0.0000, 0.6471, 0.0000, 0.0000, 0.0039, 0.0510, 0.0275, 0.0000, 0.0000,\n",
            "         0.0000, 0.3294, 0.3804, 0.4000, 0.4941, 0.3882, 0.0000, 0.0196, 0.5020,\n",
            "         0.6000, 0.2863, 0.0000, 0.0000, 0.0000, 0.0000, 0.0000, 0.0000, 0.0000,\n",
            "         0.0000, 0.0039, 0.5451, 0.0000, 0.0000, 0.0000, 0.3176, 0.5961, 0.5725,\n",
            "         0.5490, 0.4863, 0.4824, 0.5098, 0.4941, 0.4431, 0.4431, 0.4471, 0.7216,\n",
            "         0.6235, 0.1647, 0.0000, 0.0000, 0.0000, 0.0078, 0.0000, 0.0000, 0.0000,\n",
            "         0.0000, 0.0000, 0.0000, 0.7294, 0.0000, 0.0000, 0.0039, 0.0000, 0.0000,\n",
            "         0.0000, 0.0941, 0.1647, 0.1804, 0.2235, 0.2549, 0.2706, 0.2549, 0.2471,\n",
            "         0.1569, 0.0000, 0.0000, 0.0000, 0.0000, 0.0000, 0.0000, 0.0000, 0.0000,\n",
            "         0.0000, 0.0000, 0.0000, 0.0000, 0.7137, 0.0157, 0.0000, 0.0039, 0.0000,\n",
            "         0.0000, 0.0000, 0.0000, 0.0000, 0.0000, 0.0000, 0.0000, 0.0000, 0.0000,\n",
            "         0.0000, 0.0000, 0.0000, 0.0000, 0.0000, 0.0000, 0.0000, 0.0000, 0.0000,\n",
            "         0.0000, 0.0000, 0.0000, 0.0000, 0.0000, 0.0000, 0.0000, 0.0000, 0.0000,\n",
            "         0.0000, 0.0000, 0.0000, 0.0000, 0.0000, 0.0000, 0.0000, 0.0000, 0.0000,\n",
            "         0.0000, 0.0000, 0.0000, 0.0000, 0.0000, 0.0000, 0.0000, 0.0000, 0.0000,\n",
            "         0.0000, 0.0000, 0.0000, 0.0000, 0.0000, 0.0000, 0.0000, 0.0000, 0.0000,\n",
            "         0.0000]])\n"
          ]
        }
      ]
    },
    {
      "cell_type": "code",
      "source": [
        "from torch import nn\n",
        "class FashionMNISTModelV0(nn.Module):\n",
        "  def __init__(self, input_shape: int, hidden_units: int, output_shape: int):\n",
        "    super().__init__()\n",
        "    self.layer_stack = nn.Sequential(\n",
        "        nn.Flatten(),\n",
        "        nn.Linear(in_features=input_shape, out_features=hidden_units),\n",
        "        nn.Linear(in_features=hidden_units, out_features=output_shape)\n",
        "    )\n",
        "\n",
        "  def forward(self, x):\n",
        "    return self.layer_stack(x)"
      ],
      "metadata": {
        "id": "cFRdrLNqBW8_"
      },
      "execution_count": 30,
      "outputs": []
    },
    {
      "cell_type": "markdown",
      "source": [
        "![image.png](data:image/png;base64,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)"
      ],
      "metadata": {
        "id": "3_o38CO7CWX6"
      }
    },
    {
      "cell_type": "markdown",
      "source": [
        "#### Creating an instance of the model and sending it to CPU"
      ],
      "metadata": {
        "id": "GtToPnoQCYLT"
      }
    },
    {
      "cell_type": "code",
      "source": [
        "torch.manual_seed(42)\n",
        "\n",
        "model0 = FashionMNISTModelV0(input_shape=784,\n",
        "                             hidden_units=10,\n",
        "                             output_shape=len(class_names)) # one for every class\n",
        "\n",
        "model0.to(\"cpu\")"
      ],
      "metadata": {
        "colab": {
          "base_uri": "https://localhost:8080/"
        },
        "id": "gyMghJXbCSED",
        "outputId": "fc7813bc-38ba-4498-a8e2-b238cd53f956"
      },
      "execution_count": 41,
      "outputs": [
        {
          "output_type": "execute_result",
          "data": {
            "text/plain": [
              "FashionMNISTModelV0(\n",
              "  (layer_stack): Sequential(\n",
              "    (0): Flatten(start_dim=1, end_dim=-1)\n",
              "    (1): Linear(in_features=784, out_features=10, bias=True)\n",
              "    (2): Linear(in_features=10, out_features=10, bias=True)\n",
              "  )\n",
              ")"
            ]
          },
          "metadata": {},
          "execution_count": 41
        }
      ]
    },
    {
      "cell_type": "markdown",
      "source": [
        "#### Setting up loss, optimizers and evaluation metrics"
      ],
      "metadata": {
        "id": "cG5L2ekxC1r2"
      }
    },
    {
      "cell_type": "code",
      "source": [
        "import requests\n",
        "from pathlib import Path\n",
        "\n",
        "if Path(\"helper_functions.py\").is_file():\n",
        "  print(\"helper_functions.py already exists, skipping download\")\n",
        "else:\n",
        "  print(\"Downloading helper_functions.py\")\n",
        "  request = requests.get(\"https://raw.githubusercontent.com/mrdbourke/pytorch-deep-learning/main/helper_functions.py\")\n",
        "  with open(\"helper_functions.py\", \"wb\") as f:\n",
        "    f.write(request.content)"
      ],
      "metadata": {
        "colab": {
          "base_uri": "https://localhost:8080/"
        },
        "id": "JdHFMxnPCxps",
        "outputId": "0714f0e5-6b86-472b-bfb4-cc1612bbe7c8"
      },
      "execution_count": 42,
      "outputs": [
        {
          "output_type": "stream",
          "name": "stdout",
          "text": [
            "helper_functions.py already exists, skipping download\n"
          ]
        }
      ]
    },
    {
      "cell_type": "code",
      "source": [
        "# Import accuracy metrics\n",
        "from helper_functions import accuracy_fn\n",
        "\n",
        "# Setup loss and optimizer\n",
        "loss_fn = nn.CrossEntropyLoss()\n",
        "optimizer = torch.optim.SGD(params = model0.parameters(),\n",
        "                            lr=0.1)"
      ],
      "metadata": {
        "id": "CrH77mI3DM8w"
      },
      "execution_count": 43,
      "outputs": []
    },
    {
      "cell_type": "markdown",
      "source": [
        "#### Creating functions to time the experiments"
      ],
      "metadata": {
        "id": "1OcWUSUkDu8J"
      }
    },
    {
      "cell_type": "code",
      "source": [
        "from timeit import default_timer as timer\n",
        "def print_train_time(start: float, end: float, device: torch.device = None):\n",
        "    \"\"\"Prints difference between start and end time.\n",
        "\n",
        "    Args:\n",
        "        start (float): Start time of computation (preferred in timeit format).\n",
        "        end (float): End time of computation.\n",
        "        device ([type], optional): Device that compute is running on. Defaults to None.\n",
        "\n",
        "    Returns:\n",
        "        float: time between start and end in seconds (higher is longer).\n",
        "    \"\"\"\n",
        "    total_time = end - start\n",
        "    print(f\"Train time on {device}: {total_time:.3f} seconds\")\n",
        "    return total_time"
      ],
      "metadata": {
        "id": "FoMpjpfBDsIR"
      },
      "execution_count": 44,
      "outputs": []
    },
    {
      "cell_type": "markdown",
      "source": [
        "#### Creating training and testing loop on batches of data"
      ],
      "metadata": {
        "id": "n23LGygsEApT"
      }
    },
    {
      "cell_type": "code",
      "source": [
        "# Import tqdm for progress bar\n",
        "from tqdm.auto import tqdm\n",
        "\n",
        "# Set the seed and start the timer\n",
        "torch.manual_seed(42)\n",
        "train_time_start_on_cpu = timer()\n",
        "\n",
        "# Set the number of epochs\n",
        "epochs = 3 # setting it low for faster training times\n",
        "\n",
        "# Creating training and testing loops\n",
        "for epoch in tqdm(range(epochs)):\n",
        "  print(f\"Epoch: {epoch}\\n--------\")\n",
        "\n",
        "  #### Training phase ####\n",
        "  train_loss = 0\n",
        "\n",
        "  # Add a loop to loop through training batches\n",
        "  for batch, (X, y) in enumerate(train_dataloader):\n",
        "    model0.train()\n",
        "\n",
        "    # Forward pass\n",
        "    y_pred = model0(X)\n",
        "\n",
        "    # Calculate loss (per batch)\n",
        "    loss = loss_fn(y_pred, y)\n",
        "    train_loss += loss  # add the loss of each batch\n",
        "\n",
        "    # Optimizer zero grad\n",
        "    optimizer.zero_grad()\n",
        "\n",
        "    # loss backwards\n",
        "    loss.backward()\n",
        "\n",
        "    # Optimizer step\n",
        "    optimizer.step()\n",
        "\n",
        "    # Print the number of samples that have been seen\n",
        "    if batch % 400 == 0:\n",
        "      print(f\"Looked at {batch*len(X)}/{len(train_dataloader.dataset)} samples\")\n",
        "\n",
        "  # Divide total train loss by length of train dataloader\n",
        "  # this is \"average loss per batch\"\n",
        "  train_loss/=len(train_dataloader)\n",
        "\n",
        "  #### Testing phase ####\n",
        "  # Setting up variables for test loss and test accuracy\n",
        "  test_loss, test_acc = 0, 0\n",
        "  model0.eval()\n",
        "\n",
        "  with torch.inference_mode():\n",
        "    for X,y in test_dataloader:\n",
        "      # Forward pass\n",
        "      test_pred = model0(X)\n",
        "\n",
        "      # Calculate loss (accumutively)\n",
        "      test_loss += loss_fn(test_pred, y)\n",
        "\n",
        "      # Calculate accuracy (accumatively)\n",
        "      test_acc += accuracy_fn(y_true=y, y_pred=test_pred.argmax(dim=1))\n",
        "\n",
        "    # Divide total test loss by length of test dataloader (per batch)\n",
        "    test_loss /= len(test_dataloader)\n",
        "\n",
        "    # Divide total test accuracy by length of test dataloader (per batch)\n",
        "    test_acc /= len(test_dataloader)\n",
        "\n",
        "  ## Print out what's happening\n",
        "  print(f\"\\nTrain loss: {train_loss:.5f} | Test loss: {test_loss:.5f}, Test acc: {test_acc:.2f}%\\n\")\n",
        "\n",
        "# Calculate training time\n",
        "train_time_end_on_cpu = timer()\n",
        "total_train_time_model0 = print_train_time(start=train_time_start_on_cpu,\n",
        "                                           end=train_time_end_on_cpu,\n",
        "                                           device=str(next(model0.parameters())))"
      ],
      "metadata": {
        "id": "czNv0vBFD9GR",
        "colab": {
          "base_uri": "https://localhost:8080/",
          "height": 726,
          "referenced_widgets": [
            "daf0e254cbdb42ce9e17c7c3d3aa2a92",
            "bf026a3d24bd41a6b68b095a26a30d41",
            "5de33b30e311430682b93eb8e313266c",
            "de745b1f3daf4eae9b829871821a9c7e",
            "de12b76799d14b0eaddc697941678f4f",
            "2cedefd6db014595b9dfd126d82987a2",
            "e134fb63dd754d57b6ee54f851fef66d",
            "9cc6abb9ab9945a2b8ceb8fcc36943cd",
            "ab7287c9cc41496a945f9768cab25d06",
            "03ea30d4845243d385b23d314e2fd5a3",
            "07622e36731148cba7600f0f1ca04ff4"
          ]
        },
        "outputId": "647b144e-1cc3-4d53-8846-8b5c1c362d1a"
      },
      "execution_count": 45,
      "outputs": [
        {
          "output_type": "display_data",
          "data": {
            "text/plain": [
              "  0%|          | 0/3 [00:00<?, ?it/s]"
            ],
            "application/vnd.jupyter.widget-view+json": {
              "version_major": 2,
              "version_minor": 0,
              "model_id": "daf0e254cbdb42ce9e17c7c3d3aa2a92"
            }
          },
          "metadata": {}
        },
        {
          "output_type": "stream",
          "name": "stdout",
          "text": [
            "Epoch: 0\n",
            "--------\n",
            "Looked at 0/60000 samples\n",
            "Looked at 12800/60000 samples\n",
            "Looked at 25600/60000 samples\n",
            "Looked at 38400/60000 samples\n",
            "Looked at 51200/60000 samples\n",
            "\n",
            "Train loss: 0.59039 | Test loss: 0.50954, Test acc: 82.04%\n",
            "\n",
            "Epoch: 1\n",
            "--------\n",
            "Looked at 0/60000 samples\n",
            "Looked at 12800/60000 samples\n",
            "Looked at 25600/60000 samples\n",
            "Looked at 38400/60000 samples\n",
            "Looked at 51200/60000 samples\n",
            "\n",
            "Train loss: 0.47633 | Test loss: 0.47989, Test acc: 83.20%\n",
            "\n",
            "Epoch: 2\n",
            "--------\n",
            "Looked at 0/60000 samples\n",
            "Looked at 12800/60000 samples\n",
            "Looked at 25600/60000 samples\n",
            "Looked at 38400/60000 samples\n",
            "Looked at 51200/60000 samples\n",
            "\n",
            "Train loss: 0.45503 | Test loss: 0.47664, Test acc: 83.43%\n",
            "\n",
            "Train time on Parameter containing:\n",
            "tensor([[ 0.0273,  0.0298, -0.0065,  ...,  0.0071,  0.0091,  0.0170],\n",
            "        [-0.0189, -0.0355,  0.0155,  ...,  0.0161,  0.0120,  0.0117],\n",
            "        [-0.0008,  0.0020,  0.0032,  ...,  0.0058, -0.0146,  0.0084],\n",
            "        ...,\n",
            "        [-0.0116,  0.0274, -0.0323,  ...,  0.0527,  0.0434,  0.0006],\n",
            "        [-0.0231,  0.0252,  0.0236,  ..., -0.0892, -0.0385, -0.0071],\n",
            "        [ 0.0175, -0.0148,  0.0027,  ..., -0.1155, -0.0674,  0.0125]],\n",
            "       requires_grad=True): 24.515 seconds\n"
          ]
        }
      ]
    },
    {
      "cell_type": "markdown",
      "source": [
        "#### Making predictions and getting the results"
      ],
      "metadata": {
        "id": "xpAUd-7tgnFI"
      }
    },
    {
      "cell_type": "markdown",
      "source": [
        "Creating a function that takes in a trained model, a DataLoader, a loss function and an accuracy function"
      ],
      "metadata": {
        "id": "UGgfXdNEgtu8"
      }
    },
    {
      "cell_type": "code",
      "source": [
        "torch.manual_seed(42)\n",
        "\n",
        "def eval_model(model: torch.nn.Module,\n",
        "               data_loader: torch.utils.data.DataLoader,\n",
        "               loss_fn: torch.nn.Module,\n",
        "               accuracy_fn):\n",
        "  \"\"\"Returns a dictionary containing the results of model predicting on data_loader.\n",
        "\n",
        "    Args:\n",
        "        model (torch.nn.Module): A PyTorch model capable of making predictions on data_loader.\n",
        "        data_loader (torch.utils.data.DataLoader): The target dataset to predict on.\n",
        "        loss_fn (torch.nn.Module): The loss function of model.\n",
        "        accuracy_fn: An accuracy function to compare the models predictions to the truth labels.\n",
        "\n",
        "    Returns:\n",
        "        (dict): Results of model making predictions on data_loader.\n",
        "  \"\"\"\n",
        "  loss, acc = 0, 0\n",
        "  model.eval()\n",
        "  with torch.inference_mode():\n",
        "    for X, y in data_loader:\n",
        "      # Make predictions with the model\n",
        "      y_pred = model(X)\n",
        "\n",
        "      # Accumulate the loss and accuracy values per batch\n",
        "      loss += loss_fn(y_pred, y)\n",
        "      acc += accuracy_fn(y_true=y,\n",
        "                         y_pred=y_pred.argmax(dim=1))\n",
        "    loss /= len(data_loader)\n",
        "    acc /= len(data_loader)\n",
        "\n",
        "  return {\"model_name\": model.__class__.__name__, # only works when model was created with a class\n",
        "          \"model_loss\": loss.item(),\n",
        "          \"model_acc\": acc}"
      ],
      "metadata": {
        "id": "MVLy39Q9en9B"
      },
      "execution_count": 48,
      "outputs": []
    },
    {
      "cell_type": "code",
      "source": [
        "# Calculating model0 results on test dataset\n",
        "model0_results = eval_model(model=model0,\n",
        "                            data_loader=test_dataloader,\n",
        "                            loss_fn=loss_fn,\n",
        "                            accuracy_fn=accuracy_fn)\n",
        "\n",
        "model0_results"
      ],
      "metadata": {
        "colab": {
          "base_uri": "https://localhost:8080/"
        },
        "id": "afyoLgHFgS4R",
        "outputId": "1b738c06-5940-4623-9d27-4336423a83c3"
      },
      "execution_count": 49,
      "outputs": [
        {
          "output_type": "execute_result",
          "data": {
            "text/plain": [
              "{'model_name': 'FashionMNISTModelV0',\n",
              " 'model_loss': 0.47663894295692444,\n",
              " 'model_acc': 83.42651757188499}"
            ]
          },
          "metadata": {},
          "execution_count": 49
        }
      ]
    },
    {
      "cell_type": "markdown",
      "source": [
        "### Setup device agnostic-code"
      ],
      "metadata": {
        "id": "HZmBEEWIjKWW"
      }
    },
    {
      "cell_type": "code",
      "source": [
        "import torch\n",
        "device = \"cuda\" if torch.cuda.is_available else \"cpu\"\n",
        "device"
      ],
      "metadata": {
        "colab": {
          "base_uri": "https://localhost:8080/",
          "height": 36
        },
        "id": "umw9hCg9gS6o",
        "outputId": "4a65200c-b251-46cf-f90b-27acded18344"
      },
      "execution_count": 50,
      "outputs": [
        {
          "output_type": "execute_result",
          "data": {
            "text/plain": [
              "'cuda'"
            ],
            "application/vnd.google.colaboratory.intrinsic+json": {
              "type": "string"
            }
          },
          "metadata": {},
          "execution_count": 50
        }
      ]
    },
    {
      "cell_type": "markdown",
      "source": [
        "### Making a better model with non-linearity (Model 1)"
      ],
      "metadata": {
        "id": "d5uR-PUTjhz_"
      }
    },
    {
      "cell_type": "code",
      "source": [
        "# Create a model with non-linear and linear layers\n",
        "class FashionMNISTModelV1(nn.Module):\n",
        "  def __init__(self, input_shape: int, hidden_units: int, output_shape: int):\n",
        "    super().__init__()\n",
        "    self.layer_stack = nn.Sequential(\n",
        "        nn.Flatten(),\n",
        "        nn.Linear(in_features=input_shape, out_features=hidden_units),\n",
        "        nn.ReLU(),\n",
        "        nn.Linear(in_features=hidden_units, out_features=output_shape),\n",
        "        nn.ReLU()\n",
        "    )\n",
        "\n",
        "  def forward(self, x):\n",
        "    return self.layer_stack(x)"
      ],
      "metadata": {
        "id": "7VhF2XVLgS8-"
      },
      "execution_count": 54,
      "outputs": []
    },
    {
      "cell_type": "code",
      "source": [
        "# Instantiating the above class for a model\n",
        "torch.manual_seed(42)\n",
        "model1 = FashionMNISTModelV1(input_shape=784,\n",
        "                             hidden_units=10,\n",
        "                             output_shape=len(class_names)\n",
        "         ).to(device)\n",
        "next(model1.parameters()).device # checking the device of the model"
      ],
      "metadata": {
        "colab": {
          "base_uri": "https://localhost:8080/"
        },
        "id": "QWYI4wetgS_Q",
        "outputId": "bc712461-f0be-43bf-b3b8-31462f85ea87"
      },
      "execution_count": 55,
      "outputs": [
        {
          "output_type": "execute_result",
          "data": {
            "text/plain": [
              "device(type='cuda', index=0)"
            ]
          },
          "metadata": {},
          "execution_count": 55
        }
      ]
    },
    {
      "cell_type": "markdown",
      "source": [
        "#### Setup loss, optimizer and evaluation metrics"
      ],
      "metadata": {
        "id": "1jM5Wa0vk9bU"
      }
    },
    {
      "cell_type": "code",
      "source": [
        "from helper_functions import accuracy_fn\n",
        "loss_fn = nn.CrossEntropyLoss()\n",
        "optimizer = torch.optim.SGD(params=model1.parameters(),\n",
        "                            lr=0.1)"
      ],
      "metadata": {
        "id": "bLZWzHSngTBh"
      },
      "execution_count": 56,
      "outputs": []
    },
    {
      "cell_type": "markdown",
      "source": [
        "#### Functionizing training and testing loops"
      ],
      "metadata": {
        "id": "3nRNXXD3la_L"
      }
    },
    {
      "cell_type": "code",
      "source": [
        "# Function for training step\n",
        "def train_step(model: torch.nn.Module,\n",
        "               data_loader: torch.utils.data.DataLoader,\n",
        "               loss_fn: torch.nn.Module,\n",
        "               optimizer:torch.optim.Optimizer,\n",
        "               accuracy_fn,\n",
        "               device: torch.device = device):\n",
        "  train_loss, train_acc = 0, 0\n",
        "  model.to(device)\n",
        "  for batch, (X,y) in enumerate(data_loader):\n",
        "    # Send data to device\n",
        "    X, y = X.to(device), y.to(device)\n",
        "\n",
        "    model.train()\n",
        "\n",
        "    # Forward pass\n",
        "    y_pred = model(X)\n",
        "\n",
        "    # Calculate loss and accuracy\n",
        "    loss = loss_fn(y_pred, y)\n",
        "    train_loss += loss\n",
        "    train_acc += accuracy_fn(y_true=y,\n",
        "                             y_pred=y_pred.argmax(dim=1))\n",
        "    # Optimizer zero grad\n",
        "    optimizer.zero_grad()\n",
        "\n",
        "    # Loss backward\n",
        "    loss.backward()\n",
        "\n",
        "    # Optimizer step\n",
        "    optimizer.step()\n",
        "\n",
        "  train_loss /= len(data_loader)\n",
        "  train_acc /= len(data_loader)\n",
        "  print(f\"Train loss: {train_loss:.5f} | Train accuracy: {train_acc:.2f}%\")"
      ],
      "metadata": {
        "id": "2o3UweYbgTDv"
      },
      "execution_count": 57,
      "outputs": []
    },
    {
      "cell_type": "code",
      "source": [
        "# Function for testing phase\n",
        "def test_step(data_loader: torch.utils.data.DataLoader,\n",
        "              model: torch.nn.Module,\n",
        "              loss_fn: torch.nn.Module,\n",
        "              accuracy_fn,\n",
        "              device: torch.device = device):\n",
        "  test_loss, test_acc = 0, 0\n",
        "  model.to(device)\n",
        "\n",
        "  model.eval()\n",
        "  with torch.inference_mode():\n",
        "    for X,y in data_loader:\n",
        "      # Send data to device\n",
        "      X, y = X.to(device), y.to(device)\n",
        "\n",
        "      # Forward pass\n",
        "      test_pred = model(X)\n",
        "\n",
        "      # Calculate loss and accuracy\n",
        "      test_loss += loss_fn(test_pred, y)\n",
        "      test_acc += accuracy_fn(y_true=y,\n",
        "                              y_pred=test_pred.argmax(dim=1))\n",
        "    test_loss /= len(data_loader)\n",
        "    test_acc /= len(data_loader)\n",
        "    print(f\"Test loss: {test_loss:.5f} | Test accuracy: {test_acc:.2f}%\\n\")"
      ],
      "metadata": {
        "id": "ySJ4heb3gTGj"
      },
      "execution_count": 59,
      "outputs": []
    },
    {
      "cell_type": "markdown",
      "source": [
        "#### Training and testing the model"
      ],
      "metadata": {
        "id": "ciESGf4yqPKB"
      }
    },
    {
      "cell_type": "code",
      "source": [
        "torch.manual_seed(42)\n",
        "\n",
        "# Measure time\n",
        "from timeit import default_timer as timer\n",
        "train_time_start_on_gpu = timer()\n",
        "\n",
        "epochs = 3\n",
        "for epoch in tqdm(range(epochs)):\n",
        "    print(f\"Epoch: {epoch}\\n---------\")\n",
        "    train_step(data_loader=train_dataloader,\n",
        "        model=model1,\n",
        "        loss_fn=loss_fn,\n",
        "        optimizer=optimizer,\n",
        "        accuracy_fn=accuracy_fn\n",
        "    )\n",
        "    test_step(data_loader=test_dataloader,\n",
        "        model=model1,\n",
        "        loss_fn=loss_fn,\n",
        "        accuracy_fn=accuracy_fn\n",
        "    )\n",
        "\n",
        "train_time_end_on_gpu = timer()\n",
        "total_train_time_model_1 = print_train_time(start=train_time_start_on_gpu,\n",
        "                                            end=train_time_end_on_gpu,\n",
        "                                            device=device)"
      ],
      "metadata": {
        "colab": {
          "base_uri": "https://localhost:8080/",
          "height": 327,
          "referenced_widgets": [
            "cceb591e049341ffadfdda7e0b55e2fa",
            "acd51e6551424218884b36903e382d94",
            "08b3625ea3054a378372338cdb7749a1",
            "c06c1e7d82f24049a0a1f74f7fdffa3b",
            "95d51d5965ae470cb99cac155bdbcfb2",
            "245799cb80f24961890e9358c45f3391",
            "71cb1b09e187447e86a298878ef35cbc",
            "df62b8ae56b54f27b8567b34408a571d",
            "f55d8b032fe7476c913db0d0cd9a42bf",
            "886e4ad537a7434bb321a457fffbcbc1",
            "28b6fff7fb4246348914a294358b6e69"
          ]
        },
        "id": "q8A1HXH5gTKH",
        "outputId": "44dbb8f1-a165-456d-a8f5-3540d6e88e39"
      },
      "execution_count": 60,
      "outputs": [
        {
          "output_type": "display_data",
          "data": {
            "text/plain": [
              "  0%|          | 0/3 [00:00<?, ?it/s]"
            ],
            "application/vnd.jupyter.widget-view+json": {
              "version_major": 2,
              "version_minor": 0,
              "model_id": "cceb591e049341ffadfdda7e0b55e2fa"
            }
          },
          "metadata": {}
        },
        {
          "output_type": "stream",
          "name": "stdout",
          "text": [
            "Epoch: 0\n",
            "---------\n",
            "Train loss: 1.09199 | Train accuracy: 61.34%\n",
            "Test loss: 0.95636 | Test accuracy: 65.00%\n",
            "\n",
            "Epoch: 1\n",
            "---------\n",
            "Train loss: 0.78101 | Train accuracy: 71.93%\n",
            "Test loss: 0.72227 | Test accuracy: 73.91%\n",
            "\n",
            "Epoch: 2\n",
            "---------\n",
            "Train loss: 0.67027 | Train accuracy: 75.94%\n",
            "Test loss: 0.68500 | Test accuracy: 75.02%\n",
            "\n",
            "Train time on cuda: 31.869 seconds\n"
          ]
        }
      ]
    },
    {
      "cell_type": "markdown",
      "source": [
        "#### Evaluating the model"
      ],
      "metadata": {
        "id": "5uAf61eFqRZ4"
      }
    },
    {
      "cell_type": "code",
      "source": [
        "torch.manual_seed(42)\n",
        "\n",
        "# Note: This will error due to `eval_model()` not using device agnostic code\n",
        "# model_1_results = eval_model(model=model1,\n",
        "#     data_loader=test_dataloader,\n",
        "#     loss_fn=loss_fn,\n",
        "#     accuracy_fn=accuracy_fn)\n",
        "# model_1_results\n",
        "\n",
        "# Therefore, updating the eval_model function"
      ],
      "metadata": {
        "colab": {
          "base_uri": "https://localhost:8080/"
        },
        "id": "ySRKpellp-Wk",
        "outputId": "c51a3560-9b35-4af6-ef77-c09710c40f5c"
      },
      "execution_count": 61,
      "outputs": [
        {
          "output_type": "execute_result",
          "data": {
            "text/plain": [
              "<torch._C.Generator at 0x7df91a2ab730>"
            ]
          },
          "metadata": {},
          "execution_count": 61
        }
      ]
    },
    {
      "cell_type": "code",
      "source": [
        "# Move values to device\n",
        "torch.manual_seed(42)\n",
        "def eval_model(model: torch.nn.Module,\n",
        "               data_loader: torch.utils.data.DataLoader,\n",
        "               loss_fn: torch.nn.Module,\n",
        "               accuracy_fn,\n",
        "               device: torch.device = device):\n",
        "    \"\"\"Evaluates a given model on a given dataset.\n",
        "\n",
        "    Args:\n",
        "        model (torch.nn.Module): A PyTorch model capable of making predictions on data_loader.\n",
        "        data_loader (torch.utils.data.DataLoader): The target dataset to predict on.\n",
        "        loss_fn (torch.nn.Module): The loss function of model.\n",
        "        accuracy_fn: An accuracy function to compare the models predictions to the truth labels.\n",
        "        device (str, optional): Target device to compute on. Defaults to device.\n",
        "\n",
        "    Returns:\n",
        "        (dict): Results of model making predictions on data_loader.\n",
        "    \"\"\"\n",
        "    loss, acc = 0, 0\n",
        "    model.eval()\n",
        "    with torch.inference_mode():\n",
        "        for X, y in data_loader:\n",
        "            # Send data to the target device\n",
        "            X, y = X.to(device), y.to(device)\n",
        "            y_pred = model(X)\n",
        "            loss += loss_fn(y_pred, y)\n",
        "            acc += accuracy_fn(y_true=y, y_pred=y_pred.argmax(dim=1))\n",
        "\n",
        "        # Scale loss and acc\n",
        "        loss /= len(data_loader)\n",
        "        acc /= len(data_loader)\n",
        "    return {\"model_name\": model.__class__.__name__, # only works when model was created with a class\n",
        "            \"model_loss\": loss.item(),\n",
        "            \"model_acc\": acc}\n"
      ],
      "metadata": {
        "id": "tFPE0F1dqdb7"
      },
      "execution_count": 62,
      "outputs": []
    },
    {
      "cell_type": "code",
      "source": [
        "# Calculate results of model1\n",
        "model1_results = eval_model(model=model1,\n",
        "                            data_loader=test_dataloader,\n",
        "                            loss_fn=loss_fn,\n",
        "                            accuracy_fn=accuracy_fn,\n",
        "                            device=device)\n",
        "model1_results"
      ],
      "metadata": {
        "colab": {
          "base_uri": "https://localhost:8080/"
        },
        "id": "fVXCehEbqgv3",
        "outputId": "124a2dc2-454b-4adf-8768-6c2536a00c6d"
      },
      "execution_count": 63,
      "outputs": [
        {
          "output_type": "execute_result",
          "data": {
            "text/plain": [
              "{'model_name': 'FashionMNISTModelV1',\n",
              " 'model_loss': 0.6850008964538574,\n",
              " 'model_acc': 75.01996805111821}"
            ]
          },
          "metadata": {},
          "execution_count": 63
        }
      ]
    },
    {
      "cell_type": "code",
      "source": [
        "# Check baseline model results\n",
        "model0_results"
      ],
      "metadata": {
        "colab": {
          "base_uri": "https://localhost:8080/"
        },
        "id": "BvMQNjDdqvBa",
        "outputId": "d1189b36-b6fc-45a5-e83b-eba03d16fcb9"
      },
      "execution_count": 65,
      "outputs": [
        {
          "output_type": "execute_result",
          "data": {
            "text/plain": [
              "{'model_name': 'FashionMNISTModelV0',\n",
              " 'model_loss': 0.47663894295692444,\n",
              " 'model_acc': 83.42651757188499}"
            ]
          },
          "metadata": {},
          "execution_count": 65
        }
      ]
    },
    {
      "cell_type": "markdown",
      "source": [
        "It seems even after adding non-linearity to the model, it's performing worse than the baseline model.\n",
        "\n",
        "This may be due to the model overfitting to the training data, thus it is not able to generalise its learning and performs bad on the testing data"
      ],
      "metadata": {
        "id": "90Cp87t2q3SV"
      }
    },
    {
      "cell_type": "markdown",
      "source": [
        "### Making a CNN (Model 2)"
      ],
      "metadata": {
        "id": "dwiufB-PrpAg"
      }
    },
    {
      "cell_type": "markdown",
      "source": [
        "Typical structure of CNN:\n",
        "\n",
        "`Input layer -> [Convolutional layer -> activation layer -> pooling layer] -> Output layer`\n",
        "\n",
        "Here, we'll be using nn.Conv2d() and nn.MaxPool2d() to make the network"
      ],
      "metadata": {
        "id": "N2f2ZanBrsvA"
      }
    },
    {
      "cell_type": "code",
      "source": [
        "# Creating a CNN\n",
        "class FashionMNISTModelV2(nn.Module):\n",
        "  \"\"\"\n",
        "  Model architecture that replicates the TinyVGG\n",
        "  model from CNN explainer website\n",
        "  \"\"\"\n",
        "  def __init__(self, input_shape: int, hidden_units: int, output_shape: int):\n",
        "    super().__init__()\n",
        "    self.conv_block1 = nn.Sequential(\n",
        "        nn.Conv2d(in_channels=input_shape,\n",
        "                  out_channels=hidden_units,\n",
        "                  kernel_size=3,\n",
        "                  stride=1,\n",
        "                  padding=1),\n",
        "        nn.ReLU(),\n",
        "        nn.Conv2d(in_channels=hidden_units,\n",
        "                  out_channels=hidden_units,\n",
        "                  kernel_size=3,\n",
        "                  padding=1,\n",
        "                  stride=1),\n",
        "        nn.ReLU(),\n",
        "        nn.MaxPool2d(kernel_size=2,\n",
        "                     stride=2)\n",
        "    )\n",
        "\n",
        "    self.conv_block2 = nn.Sequential(\n",
        "        nn.Conv2d(in_channels=hidden_units,\n",
        "                  out_channels=hidden_units,\n",
        "                  kernel_size=3,\n",
        "                  stride=1,\n",
        "                  padding=1),\n",
        "        nn.ReLU(),\n",
        "        nn.Conv2d(in_channels=hidden_units,\n",
        "                  out_channels=hidden_units,\n",
        "                  kernel_size=3,\n",
        "                  padding=1,\n",
        "                  stride=1),\n",
        "        nn.ReLU(),\n",
        "        nn.MaxPool2d(kernel_size=2)\n",
        "    )\n",
        "\n",
        "    # Output layer\n",
        "    self.classifier = nn.Sequential(\n",
        "        nn.Flatten(),\n",
        "        nn.Linear(in_features=hidden_units*7*7,\n",
        "                  out_features=output_shape)\n",
        "    )\n",
        "\n",
        "  def forward(self, x):\n",
        "    x = self.conv_block1(x)\n",
        "    #print(f\"Output shape of conv_block1: {x.shape}\")\n",
        "    x = self.conv_block2(x)\n",
        "    #print(f\"Output shape of conv_bloc2: {x.shape}\")\n",
        "    x = self.classifier(x)\n",
        "    #print(f\"Output shape of classifier: {x.shape}\")\n",
        "    return x\n"
      ],
      "metadata": {
        "id": "K7_0a9LLqyja"
      },
      "execution_count": 96,
      "outputs": []
    },
    {
      "cell_type": "markdown",
      "source": [
        "Now, we need to find the exact in_features required for the classifier layer of the model.\n",
        "\n",
        "Therefore we do this"
      ],
      "metadata": {
        "id": "M_BfNeESxx9U"
      }
    },
    {
      "cell_type": "code",
      "source": [
        "# Make a dummy model\n",
        "dum_model = FashionMNISTModelV2(input_shape=1,\n",
        "                                hidden_units=10,\n",
        "                                output_shape=len(class_names)).to(device)"
      ],
      "metadata": {
        "id": "06aQKAijv7-M"
      },
      "execution_count": 70,
      "outputs": []
    },
    {
      "cell_type": "code",
      "source": [
        "rand_image_tensor = torch.randn(size=(1,28,28))\n",
        "rand_image_tensor"
      ],
      "metadata": {
        "colab": {
          "base_uri": "https://localhost:8080/"
        },
        "id": "nrAbDXtMv8Br",
        "outputId": "a2efb031-dd38-4d9b-aeae-b357e19cfc8d"
      },
      "execution_count": 72,
      "outputs": [
        {
          "output_type": "execute_result",
          "data": {
            "text/plain": [
              "tensor([[[ 2.4406e-01,  1.0901e+00,  7.7187e-01,  1.6738e-02,  6.8036e-01,\n",
              "          -1.2983e-01,  9.7313e-02,  7.9569e-01, -1.6833e-01,  2.0470e+00,\n",
              "          -2.0023e+00, -1.2304e+00,  8.7704e-01, -2.0921e+00,  1.5937e+00,\n",
              "           2.5637e+00, -1.1777e+00,  9.8450e-01,  7.9244e-01, -3.0765e-01,\n",
              "           6.7602e-01,  2.6806e+00, -8.7078e-01,  3.6106e-02,  1.9246e-01,\n",
              "           4.3041e-01,  5.3109e-01,  5.3204e-01],\n",
              "         [-1.5853e+00,  2.4220e+00,  4.7723e-01,  5.9568e-01, -2.6899e-01,\n",
              "           1.3260e-01,  4.7382e-01,  3.1056e-02, -1.4894e-01, -3.6520e-01,\n",
              "          -1.8156e+00,  1.1129e+00, -9.2018e-02, -9.8115e-01,  1.0240e+00,\n",
              "          -1.0366e+00, -1.9978e+00,  1.5088e+00,  1.9653e-01,  1.0685e+00,\n",
              "           3.5793e-01, -1.0362e+00,  1.0007e+00,  7.0487e-01, -6.9784e-01,\n",
              "           4.7286e-01, -6.5665e-01, -8.6782e-01],\n",
              "         [ 3.0239e-02, -5.5710e-01, -8.8292e-01, -7.0626e-01, -1.2800e+00,\n",
              "           1.3593e-01, -2.8107e-01,  1.7253e+00, -7.5566e-01,  2.0247e+00,\n",
              "          -6.3806e-01,  5.3368e-01,  1.6807e-01, -1.0806e+00,  8.6527e-01,\n",
              "           9.8232e-01, -5.6552e-01,  4.3978e-01, -6.2775e-01, -1.4592e-01,\n",
              "          -4.2360e-01, -1.4882e+00,  8.5821e-01,  3.0351e+00,  1.7607e+00,\n",
              "          -5.6119e-01,  3.0583e-02,  1.5137e-02],\n",
              "         [ 1.1773e+00, -9.6496e-01, -2.4675e-01, -6.7976e-01, -7.4758e-01,\n",
              "          -2.1754e-01, -1.3796e+00,  1.0700e+00, -9.0354e-01,  7.6843e-01,\n",
              "           4.3919e-01, -5.0325e-01,  8.5692e-01, -7.3647e-01, -7.8533e-01,\n",
              "           1.0901e+00, -6.6455e-02,  1.2573e+00,  1.5824e-01, -1.7430e+00,\n",
              "          -1.9873e-01, -4.1027e-01,  7.0857e-01,  2.9490e-01, -6.9377e-01,\n",
              "          -8.0132e-01, -7.7568e-02, -5.0146e-01],\n",
              "         [ 4.2371e-02, -6.1082e-01, -6.6256e-01, -5.4954e-01,  5.8682e-02,\n",
              "           1.5382e+00,  1.0445e+00, -2.6301e-01,  1.4808e+00, -2.7136e+00,\n",
              "           1.1272e+00,  5.4450e-01, -2.1858e-01,  4.1211e-01, -1.1325e+00,\n",
              "          -2.3891e+00, -6.2887e-01, -3.9982e-02, -9.6348e-01, -1.0543e+00,\n",
              "          -6.1099e-01,  1.1033e-01,  1.2356e-01, -1.4389e+00,  2.4068e-01,\n",
              "           1.6771e+00, -9.6226e-02, -6.8070e-01],\n",
              "         [ 7.3392e-01,  9.3939e-02,  1.0835e+00,  8.0898e-01,  9.4761e-01,\n",
              "          -1.7694e+00,  9.0191e-01,  3.1770e-01,  1.5054e+00, -4.5409e-04,\n",
              "          -8.3999e-01, -9.9635e-01, -1.1753e+00, -1.6300e+00,  7.8123e-01,\n",
              "          -1.4737e+00,  9.1280e-01, -8.1394e-01, -3.2805e-01, -1.6034e+00,\n",
              "          -3.3286e-02, -8.6844e-01, -1.3389e+00, -1.0444e-01,  1.5695e-01,\n",
              "          -1.5132e+00,  9.9128e-01,  5.5732e-01],\n",
              "         [ 1.5590e-01, -1.7197e-01,  8.3635e-01, -2.0765e+00,  9.2636e-01,\n",
              "           1.8823e+00,  2.7995e-02, -3.6298e-01, -6.0164e-01, -3.4738e-01,\n",
              "          -9.6253e-01,  9.5393e-01, -1.4123e+00,  8.1285e-01,  1.4346e+00,\n",
              "           5.7747e-02,  8.2432e-01,  3.2105e-01, -6.0463e-01, -6.8750e-01,\n",
              "           2.0560e-01, -7.1922e-01, -1.1453e+00,  8.8890e-01,  1.1022e+00,\n",
              "           1.4521e-01, -1.0026e+00, -8.6914e-01],\n",
              "         [ 1.0349e+00,  1.1414e+00, -6.1135e-01,  5.6699e-01,  8.0740e-02,\n",
              "           7.6934e-01, -1.2069e+00, -1.6842e-01, -1.0213e+00,  4.5474e-01,\n",
              "           5.6282e-02,  1.9085e-01,  1.1345e+00, -6.2708e-01, -2.3483e-01,\n",
              "           1.8348e-01,  8.2710e-01,  6.8175e-01,  4.0631e-01,  1.7062e+00,\n",
              "          -3.3317e-01,  1.3781e+00,  2.2485e-01, -2.3762e+00,  4.0155e-01,\n",
              "          -2.2946e+00,  9.5440e-01, -3.8834e-01],\n",
              "         [-6.1464e-01, -4.2742e-01, -1.4890e+00,  5.8501e-01, -6.4059e-01,\n",
              "          -1.9064e+00, -2.1498e-01,  1.6726e-01, -2.1651e-02,  7.1713e-01,\n",
              "          -1.3825e+00,  5.6673e-01, -2.2063e+00,  2.8584e-01,  2.4994e+00,\n",
              "           5.4578e-02,  1.5452e+00,  3.4486e-01,  7.9914e-01,  3.4314e-01,\n",
              "          -7.1088e-01,  4.0654e-01,  9.5622e-01,  3.0749e-01,  6.9242e-01,\n",
              "          -8.0597e-01,  1.8508e+00, -1.2886e+00],\n",
              "         [ 1.2673e+00, -9.6881e-01, -4.6094e-01,  8.4074e-01,  1.6014e+00,\n",
              "           1.1966e+00,  7.0630e-02, -6.8063e-02,  1.2693e+00,  2.2910e+00,\n",
              "          -7.9681e-02, -2.1427e+00, -1.5218e+00, -6.1098e-02, -4.9620e-01,\n",
              "           1.5591e+00, -1.2024e+00, -6.3514e-01,  2.0571e-01,  1.2085e+00,\n",
              "          -1.4933e+00,  1.6295e+00, -1.7387e+00,  1.7332e+00,  7.3354e-01,\n",
              "           9.9386e-01,  8.0197e-03, -2.8346e-01],\n",
              "         [-1.4859e+00,  1.4144e+00,  7.2411e-01,  1.1350e+00,  1.3726e-01,\n",
              "          -2.8324e-01,  8.4498e-01, -1.6652e+00,  9.4998e-01, -1.0251e-01,\n",
              "           9.8307e-01, -1.6503e+00, -8.4474e-01, -1.7778e+00,  1.6798e+00,\n",
              "          -3.0757e-01,  2.8592e-01,  1.0035e+00,  6.4698e-01,  1.3001e+00,\n",
              "           6.4310e-01, -1.3192e+00, -5.6939e-01, -1.8996e+00,  2.7072e-01,\n",
              "           2.9641e-01, -1.0662e-02,  3.2636e-01],\n",
              "         [-3.9913e-01, -5.4581e-01, -9.4928e-01, -5.8264e-01,  5.0658e-01,\n",
              "          -5.6990e-01, -2.0494e+00,  1.2204e+00,  1.3751e+00,  4.9697e-01,\n",
              "          -5.0501e-01,  1.3103e+00,  2.5165e+00, -8.6160e-02,  1.1008e-01,\n",
              "          -4.9934e-01,  1.4105e+00,  9.0974e-01,  8.3605e-01, -4.5467e-01,\n",
              "           1.1529e+00, -1.7237e-01,  6.9148e-01,  4.3387e-01,  1.6470e-01,\n",
              "           9.2992e-01,  4.3113e-01, -2.2406e+00],\n",
              "         [-5.6013e-01,  5.6457e-01,  2.8999e-01, -2.8325e-01, -7.4868e-01,\n",
              "          -1.4254e+00, -3.2493e-01,  2.4911e-01, -6.5947e-01, -1.5964e+00,\n",
              "          -6.6038e-01, -9.2917e-01,  1.0411e+00,  1.7303e+00, -8.9635e-01,\n",
              "          -1.7487e+00, -9.1252e-01,  4.8035e-01, -4.1451e-01, -1.7113e+00,\n",
              "           3.6452e-01, -5.8035e-01, -7.1043e-01, -2.7302e-01, -6.7053e-01,\n",
              "           1.5959e+00,  5.2196e-01,  3.4126e-01],\n",
              "         [ 1.0109e+00, -4.6918e-02,  2.9928e-01, -4.2063e-01, -1.9771e+00,\n",
              "          -4.4984e-03,  2.3253e-02, -1.0358e+00,  6.9172e-01, -6.7895e-01,\n",
              "          -9.2474e-01, -3.1068e-01,  2.0132e-01,  6.6459e-01, -1.7229e+00,\n",
              "          -5.2109e-01,  6.0717e-02,  4.2114e-01,  1.0577e+00,  1.3254e+00,\n",
              "           7.8437e-02, -1.9521e-01,  7.7359e-01,  1.4078e-01, -2.7783e-01,\n",
              "           1.5577e-02, -9.0613e-01, -6.0330e-01],\n",
              "         [ 7.0539e-01, -4.0017e-01, -3.0289e+00,  2.6210e-01,  2.5721e+00,\n",
              "          -4.7537e-01,  3.6165e-01, -5.7933e-01,  1.6928e+00, -7.1612e-01,\n",
              "          -1.5331e-01, -1.3848e+00,  4.5417e-01,  3.8795e-01, -6.6643e-01,\n",
              "          -5.4208e-01, -2.2771e-02, -4.9435e-01, -6.9273e-01, -6.2174e-01,\n",
              "           7.4563e-01, -4.6407e-01,  3.5406e-01,  5.7339e-01, -2.0528e+00,\n",
              "           3.8554e-02,  1.2138e+00, -8.6570e-02],\n",
              "         [-7.5610e-01, -6.0872e-01,  6.5235e-02,  2.0737e-01, -7.3941e-01,\n",
              "           7.4925e-01, -6.0584e-01, -3.8430e-01, -1.5004e+00,  1.4241e+00,\n",
              "           4.2643e-01,  1.7253e+00, -8.4248e-01,  1.2268e+00,  6.2589e-01,\n",
              "          -2.1850e-02, -1.7424e+00, -7.6729e-01,  1.4304e+00,  3.9235e-01,\n",
              "          -1.2723e+00, -7.1344e-01,  2.3755e-01,  2.4901e+00,  3.1266e-01,\n",
              "          -3.8830e-01,  8.9288e-01,  7.2496e-01],\n",
              "         [-4.6981e-01,  5.7327e-01, -4.0826e-03,  7.2984e-02, -2.5910e-01,\n",
              "           7.9609e-01,  5.7920e-01, -1.3451e-01, -9.9129e-01, -8.8786e-01,\n",
              "           1.3683e+00,  1.2856e+00, -1.3335e+00,  9.4325e-01, -1.1380e+00,\n",
              "          -1.1207e+00, -4.4747e-01, -8.0292e-01, -9.0479e-01, -1.0662e-02,\n",
              "          -3.0602e-01, -2.0311e+00,  2.8344e-01,  3.8604e-01,  1.2241e+00,\n",
              "          -1.4314e-01, -7.9281e-01,  4.7013e-01],\n",
              "         [ 9.6294e-02,  1.7162e+00, -1.5964e-01, -1.7001e-01, -6.1399e-01,\n",
              "           9.9399e-01,  5.2973e-01, -3.7780e-01,  1.4174e+00,  4.9107e-01,\n",
              "           9.1596e-01,  1.7351e-01, -1.4381e+00,  6.2128e-01, -1.9692e+00,\n",
              "          -2.4453e-01, -6.7767e-01,  4.7823e-01, -1.8906e+00,  2.9901e-01,\n",
              "           4.8749e-01, -1.5288e+00,  3.6162e-01,  4.4447e-01,  3.7175e-01,\n",
              "           1.7289e-01, -1.2142e+00,  1.9442e+00],\n",
              "         [-5.3420e-01, -7.8784e-02,  9.7180e-01,  1.5757e-01, -1.2937e-01,\n",
              "           9.4592e-01,  7.4863e-01,  1.3490e+00, -1.1803e-01,  8.9325e-01,\n",
              "           8.5920e-01,  1.0688e+00,  1.0354e+00, -1.0889e+00, -9.8336e-01,\n",
              "           1.8595e-01, -5.6699e-01, -1.0099e+00, -4.5413e-01,  6.9793e-01,\n",
              "           5.4690e-01,  5.5246e-01,  2.4029e-01, -1.1295e+00,  2.6413e+00,\n",
              "          -4.2235e-01,  3.2800e-01, -2.2357e-01],\n",
              "         [ 6.3385e-01,  1.2713e+00,  5.2576e-01, -8.8591e-02,  2.8686e-01,\n",
              "           1.3422e+00, -4.5323e-01,  1.0592e+00, -1.7509e+00,  8.3122e-01,\n",
              "          -2.0036e-01, -1.2242e+00, -1.8586e+00,  1.3976e+00, -8.2356e-01,\n",
              "          -3.6673e-01,  5.7609e-01, -5.4015e-01,  2.1437e+00, -8.4680e-01,\n",
              "          -1.4253e-01,  2.6613e-01, -9.2466e-01,  6.7150e-01,  4.1903e-01,\n",
              "          -2.2128e-01,  5.4170e-01,  2.7081e-01],\n",
              "         [ 1.5243e-01, -1.7770e+00, -2.7009e-01,  1.1325e+00,  1.2827e+00,\n",
              "           4.0248e-01,  1.5574e+00,  2.0379e+00,  4.1119e-01, -4.7856e-01,\n",
              "          -3.7983e-01, -6.7844e-01, -1.0526e+00,  2.2322e-01,  1.0225e+00,\n",
              "           7.7577e-01,  8.0482e-01, -9.3085e-01, -7.4956e-01, -1.1346e+00,\n",
              "           4.3102e-01, -2.2315e-01,  4.0467e-02,  3.5534e-01, -5.1994e-02,\n",
              "          -3.8997e-01,  4.5961e-01,  1.5001e+00],\n",
              "         [ 3.8992e-01,  4.0374e-01, -4.7906e-01, -5.7640e-01,  1.9354e+00,\n",
              "           3.2967e-01, -5.0370e-01,  5.8248e-01, -2.6750e+00,  1.8529e-01,\n",
              "          -1.3125e+00, -7.7555e-01, -4.4239e-01, -1.1939e+00,  5.1212e-01,\n",
              "           3.4507e-01, -1.1712e+00,  2.5597e-01,  4.5153e-01, -7.7741e-01,\n",
              "          -1.3599e-01,  5.0216e-01,  3.1002e-01,  8.0718e-02,  1.3723e-01,\n",
              "           1.2757e+00,  4.2629e-01,  1.2246e-01],\n",
              "         [ 1.6456e+00,  8.0955e-01, -5.0844e-01, -3.8419e-01, -1.8623e-01,\n",
              "          -1.6419e-01,  5.0378e-01,  1.2022e+00,  2.5589e-01, -7.6497e-01,\n",
              "           1.6420e+00, -1.3696e+00, -1.3332e-01,  6.1232e-01, -2.7727e+00,\n",
              "           4.3604e-01,  4.4535e-01, -1.7399e+00,  6.8525e-01,  1.6848e+00,\n",
              "          -5.5461e-01, -3.9066e-01,  1.0325e+00,  1.6486e-01, -4.6917e-01,\n",
              "           3.5407e+00, -3.8007e-01, -2.6199e-01],\n",
              "         [-5.2260e-01, -4.2274e-01,  7.7217e-02,  1.6050e+00, -1.6840e+00,\n",
              "           6.5372e-01,  3.6240e-01, -1.1096e+00,  1.5687e-01,  6.1850e-01,\n",
              "           1.4835e+00, -2.6363e-01,  3.9184e-01,  2.7028e-01, -1.9761e+00,\n",
              "          -6.5923e-01, -6.7635e-01,  7.7160e-02, -3.9720e-01, -3.9894e-01,\n",
              "          -2.3807e-01, -3.8906e-01, -3.0060e-01, -4.9752e-02,  1.6682e+00,\n",
              "           7.0868e-01,  9.8731e-01, -6.6241e-01],\n",
              "         [-4.4092e-01, -1.6116e+00,  7.7819e-01, -8.6512e-01, -4.1890e-01,\n",
              "           9.1329e-01,  2.6945e-01,  2.0375e-02, -9.2795e-01, -1.0297e+00,\n",
              "          -1.0448e+00, -8.1244e-01,  4.9417e-01,  1.2591e+00,  6.1915e-02,\n",
              "          -1.3850e+00,  2.8556e-01,  2.7378e-01, -7.8985e-01, -4.2243e-01,\n",
              "           2.0087e+00, -6.7153e-01, -2.0755e+00, -9.1079e-02, -1.6961e+00,\n",
              "          -4.2138e-01, -1.1771e+00, -7.6260e-01],\n",
              "         [ 1.0223e+00,  5.8568e-01,  7.7206e-01, -1.9584e+00,  7.8077e-01,\n",
              "          -1.6109e+00, -1.8808e+00,  1.4752e+00,  1.6363e+00, -9.6454e-01,\n",
              "           1.1408e+00,  4.1567e-01, -3.4883e-01,  1.3017e-01,  3.4857e-01,\n",
              "           5.8185e-01, -3.9348e-01,  4.5355e-01, -1.1786e+00,  7.8982e-01,\n",
              "           3.8524e-01,  8.4654e-01,  1.2129e-01,  4.4559e-01, -9.7703e-01,\n",
              "          -5.8460e-01, -1.5499e+00,  3.0215e-01],\n",
              "         [ 1.4841e-01,  6.1050e-01, -4.4323e-01,  1.2706e+00, -6.7737e-01,\n",
              "           6.4786e-01, -9.7558e-01,  1.8391e+00,  1.0064e+00,  7.2440e-01,\n",
              "          -7.1964e-01,  6.4515e-01, -1.0183e+00, -1.1015e+00,  9.1673e-01,\n",
              "           1.1085e+00, -6.1640e-01, -5.0537e-01,  3.5302e-01,  4.1270e-01,\n",
              "          -9.2464e-01, -1.5020e+00,  7.0513e-01,  3.7148e-01,  9.3744e-01,\n",
              "           2.0111e+00, -3.2855e-01,  6.4060e-01],\n",
              "         [-2.3416e-01,  1.8856e-01,  1.9731e-02, -2.4156e-01, -8.5389e-01,\n",
              "           2.2006e+00, -2.2161e-02,  4.2238e-01, -8.5958e-01,  2.9099e-01,\n",
              "           6.5294e-01,  2.0980e+00, -1.3048e+00,  5.8784e-01,  1.0671e-01,\n",
              "           1.4935e-01,  2.1158e+00,  2.6433e-01, -1.1166e+00,  1.1401e+00,\n",
              "           5.2393e-02, -1.8020e+00, -8.2199e-01,  1.3311e+00, -3.0205e-01,\n",
              "          -1.0949e+00,  5.9784e-01, -4.9067e-01]]])"
            ]
          },
          "metadata": {},
          "execution_count": 72
        }
      ]
    },
    {
      "cell_type": "code",
      "source": [
        "# Pass the above tensor into the model\n",
        "dum_model(rand_image_tensor.unsqueeze(0).to(device))"
      ],
      "metadata": {
        "colab": {
          "base_uri": "https://localhost:8080/",
          "height": 390
        },
        "id": "U_Zx-TbfyTyZ",
        "outputId": "5ccd51e4-4304-40b0-9cd5-4027962d636b"
      },
      "execution_count": 73,
      "outputs": [
        {
          "output_type": "stream",
          "name": "stdout",
          "text": [
            "Output shape of conv_block1: torch.Size([1, 10, 14, 14])\n",
            "Output shape of conv_bloc2: torch.Size([1, 10, 7, 7])\n"
          ]
        },
        {
          "output_type": "error",
          "ename": "RuntimeError",
          "evalue": "ignored",
          "traceback": [
            "\u001b[0;31m---------------------------------------------------------------------------\u001b[0m",
            "\u001b[0;31mRuntimeError\u001b[0m                              Traceback (most recent call last)",
            "\u001b[0;32m<ipython-input-73-8866676fcf3e>\u001b[0m in \u001b[0;36m<cell line: 2>\u001b[0;34m()\u001b[0m\n\u001b[1;32m      1\u001b[0m \u001b[0;31m# Pass the above tensor into the model\u001b[0m\u001b[0;34m\u001b[0m\u001b[0;34m\u001b[0m\u001b[0m\n\u001b[0;32m----> 2\u001b[0;31m \u001b[0mdum_model\u001b[0m\u001b[0;34m(\u001b[0m\u001b[0mrand_image_tensor\u001b[0m\u001b[0;34m.\u001b[0m\u001b[0munsqueeze\u001b[0m\u001b[0;34m(\u001b[0m\u001b[0;36m0\u001b[0m\u001b[0;34m)\u001b[0m\u001b[0;34m.\u001b[0m\u001b[0mto\u001b[0m\u001b[0;34m(\u001b[0m\u001b[0mdevice\u001b[0m\u001b[0;34m)\u001b[0m\u001b[0;34m)\u001b[0m\u001b[0;34m\u001b[0m\u001b[0;34m\u001b[0m\u001b[0m\n\u001b[0m",
            "\u001b[0;32m/usr/local/lib/python3.10/dist-packages/torch/nn/modules/module.py\u001b[0m in \u001b[0;36m_call_impl\u001b[0;34m(self, *args, **kwargs)\u001b[0m\n\u001b[1;32m   1499\u001b[0m                 \u001b[0;32mor\u001b[0m \u001b[0m_global_backward_pre_hooks\u001b[0m \u001b[0;32mor\u001b[0m \u001b[0m_global_backward_hooks\u001b[0m\u001b[0;34m\u001b[0m\u001b[0;34m\u001b[0m\u001b[0m\n\u001b[1;32m   1500\u001b[0m                 or _global_forward_hooks or _global_forward_pre_hooks):\n\u001b[0;32m-> 1501\u001b[0;31m             \u001b[0;32mreturn\u001b[0m \u001b[0mforward_call\u001b[0m\u001b[0;34m(\u001b[0m\u001b[0;34m*\u001b[0m\u001b[0margs\u001b[0m\u001b[0;34m,\u001b[0m \u001b[0;34m**\u001b[0m\u001b[0mkwargs\u001b[0m\u001b[0;34m)\u001b[0m\u001b[0;34m\u001b[0m\u001b[0;34m\u001b[0m\u001b[0m\n\u001b[0m\u001b[1;32m   1502\u001b[0m         \u001b[0;31m# Do not call functions when jit is used\u001b[0m\u001b[0;34m\u001b[0m\u001b[0;34m\u001b[0m\u001b[0m\n\u001b[1;32m   1503\u001b[0m         \u001b[0mfull_backward_hooks\u001b[0m\u001b[0;34m,\u001b[0m \u001b[0mnon_full_backward_hooks\u001b[0m \u001b[0;34m=\u001b[0m \u001b[0;34m[\u001b[0m\u001b[0;34m]\u001b[0m\u001b[0;34m,\u001b[0m \u001b[0;34m[\u001b[0m\u001b[0;34m]\u001b[0m\u001b[0;34m\u001b[0m\u001b[0;34m\u001b[0m\u001b[0m\n",
            "\u001b[0;32m<ipython-input-69-d97ca0b9d4c9>\u001b[0m in \u001b[0;36mforward\u001b[0;34m(self, x)\u001b[0m\n\u001b[1;32m     51\u001b[0m     \u001b[0mx\u001b[0m \u001b[0;34m=\u001b[0m \u001b[0mself\u001b[0m\u001b[0;34m.\u001b[0m\u001b[0mconv_block2\u001b[0m\u001b[0;34m(\u001b[0m\u001b[0mx\u001b[0m\u001b[0;34m)\u001b[0m\u001b[0;34m\u001b[0m\u001b[0;34m\u001b[0m\u001b[0m\n\u001b[1;32m     52\u001b[0m     \u001b[0mprint\u001b[0m\u001b[0;34m(\u001b[0m\u001b[0;34mf\"Output shape of conv_bloc2: {x.shape}\"\u001b[0m\u001b[0;34m)\u001b[0m\u001b[0;34m\u001b[0m\u001b[0;34m\u001b[0m\u001b[0m\n\u001b[0;32m---> 53\u001b[0;31m     \u001b[0mx\u001b[0m \u001b[0;34m=\u001b[0m \u001b[0mself\u001b[0m\u001b[0;34m.\u001b[0m\u001b[0mclassifier\u001b[0m\u001b[0;34m(\u001b[0m\u001b[0mx\u001b[0m\u001b[0;34m)\u001b[0m\u001b[0;34m\u001b[0m\u001b[0;34m\u001b[0m\u001b[0m\n\u001b[0m\u001b[1;32m     54\u001b[0m     \u001b[0mprint\u001b[0m\u001b[0;34m(\u001b[0m\u001b[0;34mf\"Output shape of classifier: {x.shape}\"\u001b[0m\u001b[0;34m)\u001b[0m\u001b[0;34m\u001b[0m\u001b[0;34m\u001b[0m\u001b[0m\n\u001b[1;32m     55\u001b[0m     \u001b[0;32mreturn\u001b[0m \u001b[0mx\u001b[0m\u001b[0;34m\u001b[0m\u001b[0;34m\u001b[0m\u001b[0m\n",
            "\u001b[0;32m/usr/local/lib/python3.10/dist-packages/torch/nn/modules/module.py\u001b[0m in \u001b[0;36m_call_impl\u001b[0;34m(self, *args, **kwargs)\u001b[0m\n\u001b[1;32m   1499\u001b[0m                 \u001b[0;32mor\u001b[0m \u001b[0m_global_backward_pre_hooks\u001b[0m \u001b[0;32mor\u001b[0m \u001b[0m_global_backward_hooks\u001b[0m\u001b[0;34m\u001b[0m\u001b[0;34m\u001b[0m\u001b[0m\n\u001b[1;32m   1500\u001b[0m                 or _global_forward_hooks or _global_forward_pre_hooks):\n\u001b[0;32m-> 1501\u001b[0;31m             \u001b[0;32mreturn\u001b[0m \u001b[0mforward_call\u001b[0m\u001b[0;34m(\u001b[0m\u001b[0;34m*\u001b[0m\u001b[0margs\u001b[0m\u001b[0;34m,\u001b[0m \u001b[0;34m**\u001b[0m\u001b[0mkwargs\u001b[0m\u001b[0;34m)\u001b[0m\u001b[0;34m\u001b[0m\u001b[0;34m\u001b[0m\u001b[0m\n\u001b[0m\u001b[1;32m   1502\u001b[0m         \u001b[0;31m# Do not call functions when jit is used\u001b[0m\u001b[0;34m\u001b[0m\u001b[0;34m\u001b[0m\u001b[0m\n\u001b[1;32m   1503\u001b[0m         \u001b[0mfull_backward_hooks\u001b[0m\u001b[0;34m,\u001b[0m \u001b[0mnon_full_backward_hooks\u001b[0m \u001b[0;34m=\u001b[0m \u001b[0;34m[\u001b[0m\u001b[0;34m]\u001b[0m\u001b[0;34m,\u001b[0m \u001b[0;34m[\u001b[0m\u001b[0;34m]\u001b[0m\u001b[0;34m\u001b[0m\u001b[0;34m\u001b[0m\u001b[0m\n",
            "\u001b[0;32m/usr/local/lib/python3.10/dist-packages/torch/nn/modules/container.py\u001b[0m in \u001b[0;36mforward\u001b[0;34m(self, input)\u001b[0m\n\u001b[1;32m    215\u001b[0m     \u001b[0;32mdef\u001b[0m \u001b[0mforward\u001b[0m\u001b[0;34m(\u001b[0m\u001b[0mself\u001b[0m\u001b[0;34m,\u001b[0m \u001b[0minput\u001b[0m\u001b[0;34m)\u001b[0m\u001b[0;34m:\u001b[0m\u001b[0;34m\u001b[0m\u001b[0;34m\u001b[0m\u001b[0m\n\u001b[1;32m    216\u001b[0m         \u001b[0;32mfor\u001b[0m \u001b[0mmodule\u001b[0m \u001b[0;32min\u001b[0m \u001b[0mself\u001b[0m\u001b[0;34m:\u001b[0m\u001b[0;34m\u001b[0m\u001b[0;34m\u001b[0m\u001b[0m\n\u001b[0;32m--> 217\u001b[0;31m             \u001b[0minput\u001b[0m \u001b[0;34m=\u001b[0m \u001b[0mmodule\u001b[0m\u001b[0;34m(\u001b[0m\u001b[0minput\u001b[0m\u001b[0;34m)\u001b[0m\u001b[0;34m\u001b[0m\u001b[0;34m\u001b[0m\u001b[0m\n\u001b[0m\u001b[1;32m    218\u001b[0m         \u001b[0;32mreturn\u001b[0m \u001b[0minput\u001b[0m\u001b[0;34m\u001b[0m\u001b[0;34m\u001b[0m\u001b[0m\n\u001b[1;32m    219\u001b[0m \u001b[0;34m\u001b[0m\u001b[0m\n",
            "\u001b[0;32m/usr/local/lib/python3.10/dist-packages/torch/nn/modules/module.py\u001b[0m in \u001b[0;36m_call_impl\u001b[0;34m(self, *args, **kwargs)\u001b[0m\n\u001b[1;32m   1499\u001b[0m                 \u001b[0;32mor\u001b[0m \u001b[0m_global_backward_pre_hooks\u001b[0m \u001b[0;32mor\u001b[0m \u001b[0m_global_backward_hooks\u001b[0m\u001b[0;34m\u001b[0m\u001b[0;34m\u001b[0m\u001b[0m\n\u001b[1;32m   1500\u001b[0m                 or _global_forward_hooks or _global_forward_pre_hooks):\n\u001b[0;32m-> 1501\u001b[0;31m             \u001b[0;32mreturn\u001b[0m \u001b[0mforward_call\u001b[0m\u001b[0;34m(\u001b[0m\u001b[0;34m*\u001b[0m\u001b[0margs\u001b[0m\u001b[0;34m,\u001b[0m \u001b[0;34m**\u001b[0m\u001b[0mkwargs\u001b[0m\u001b[0;34m)\u001b[0m\u001b[0;34m\u001b[0m\u001b[0;34m\u001b[0m\u001b[0m\n\u001b[0m\u001b[1;32m   1502\u001b[0m         \u001b[0;31m# Do not call functions when jit is used\u001b[0m\u001b[0;34m\u001b[0m\u001b[0;34m\u001b[0m\u001b[0m\n\u001b[1;32m   1503\u001b[0m         \u001b[0mfull_backward_hooks\u001b[0m\u001b[0;34m,\u001b[0m \u001b[0mnon_full_backward_hooks\u001b[0m \u001b[0;34m=\u001b[0m \u001b[0;34m[\u001b[0m\u001b[0;34m]\u001b[0m\u001b[0;34m,\u001b[0m \u001b[0;34m[\u001b[0m\u001b[0;34m]\u001b[0m\u001b[0;34m\u001b[0m\u001b[0;34m\u001b[0m\u001b[0m\n",
            "\u001b[0;32m/usr/local/lib/python3.10/dist-packages/torch/nn/modules/linear.py\u001b[0m in \u001b[0;36mforward\u001b[0;34m(self, input)\u001b[0m\n\u001b[1;32m    112\u001b[0m \u001b[0;34m\u001b[0m\u001b[0m\n\u001b[1;32m    113\u001b[0m     \u001b[0;32mdef\u001b[0m \u001b[0mforward\u001b[0m\u001b[0;34m(\u001b[0m\u001b[0mself\u001b[0m\u001b[0;34m,\u001b[0m \u001b[0minput\u001b[0m\u001b[0;34m:\u001b[0m \u001b[0mTensor\u001b[0m\u001b[0;34m)\u001b[0m \u001b[0;34m->\u001b[0m \u001b[0mTensor\u001b[0m\u001b[0;34m:\u001b[0m\u001b[0;34m\u001b[0m\u001b[0;34m\u001b[0m\u001b[0m\n\u001b[0;32m--> 114\u001b[0;31m         \u001b[0;32mreturn\u001b[0m \u001b[0mF\u001b[0m\u001b[0;34m.\u001b[0m\u001b[0mlinear\u001b[0m\u001b[0;34m(\u001b[0m\u001b[0minput\u001b[0m\u001b[0;34m,\u001b[0m \u001b[0mself\u001b[0m\u001b[0;34m.\u001b[0m\u001b[0mweight\u001b[0m\u001b[0;34m,\u001b[0m \u001b[0mself\u001b[0m\u001b[0;34m.\u001b[0m\u001b[0mbias\u001b[0m\u001b[0;34m)\u001b[0m\u001b[0;34m\u001b[0m\u001b[0;34m\u001b[0m\u001b[0m\n\u001b[0m\u001b[1;32m    115\u001b[0m \u001b[0;34m\u001b[0m\u001b[0m\n\u001b[1;32m    116\u001b[0m     \u001b[0;32mdef\u001b[0m \u001b[0mextra_repr\u001b[0m\u001b[0;34m(\u001b[0m\u001b[0mself\u001b[0m\u001b[0;34m)\u001b[0m \u001b[0;34m->\u001b[0m \u001b[0mstr\u001b[0m\u001b[0;34m:\u001b[0m\u001b[0;34m\u001b[0m\u001b[0;34m\u001b[0m\u001b[0m\n",
            "\u001b[0;31mRuntimeError\u001b[0m: mat1 and mat2 shapes cannot be multiplied (1x490 and 10x10)"
          ]
        }
      ]
    },
    {
      "cell_type": "markdown",
      "source": [
        "Here, now we get an error. We see that the output shape of the conv_block2 is `[1, 10, 7, 7]`, but we are taking input shape as `10x10` `(since we made the in_features as hidden_units i.e. 10)`.\n",
        "\n",
        "Therefore, we'll have to change the in_features accordingly, i.e., in this case to `490`. Therefore, by multiplying `7x7`, we will be able to avoid the errors"
      ],
      "metadata": {
        "id": "zaUkPTseyjp1"
      }
    },
    {
      "cell_type": "code",
      "source": [
        "# Now, making the model 2\n",
        "torch.manual_seed(42)\n",
        "model2 = FashionMNISTModelV2(input_shape=1,\n",
        "    hidden_units=10,\n",
        "    output_shape=len(class_names)).to(device)\n",
        "model2"
      ],
      "metadata": {
        "colab": {
          "base_uri": "https://localhost:8080/"
        },
        "id": "FqrXq6Z5yg7c",
        "outputId": "7f958e7c-3ff8-458a-b68c-ca1671d0ca34"
      },
      "execution_count": 97,
      "outputs": [
        {
          "output_type": "execute_result",
          "data": {
            "text/plain": [
              "FashionMNISTModelV2(\n",
              "  (conv_block1): Sequential(\n",
              "    (0): Conv2d(1, 10, kernel_size=(3, 3), stride=(1, 1), padding=(1, 1))\n",
              "    (1): ReLU()\n",
              "    (2): Conv2d(10, 10, kernel_size=(3, 3), stride=(1, 1), padding=(1, 1))\n",
              "    (3): ReLU()\n",
              "    (4): MaxPool2d(kernel_size=2, stride=2, padding=0, dilation=1, ceil_mode=False)\n",
              "  )\n",
              "  (conv_block2): Sequential(\n",
              "    (0): Conv2d(10, 10, kernel_size=(3, 3), stride=(1, 1), padding=(1, 1))\n",
              "    (1): ReLU()\n",
              "    (2): Conv2d(10, 10, kernel_size=(3, 3), stride=(1, 1), padding=(1, 1))\n",
              "    (3): ReLU()\n",
              "    (4): MaxPool2d(kernel_size=2, stride=2, padding=0, dilation=1, ceil_mode=False)\n",
              "  )\n",
              "  (classifier): Sequential(\n",
              "    (0): Flatten(start_dim=1, end_dim=-1)\n",
              "    (1): Linear(in_features=490, out_features=10, bias=True)\n",
              "  )\n",
              ")"
            ]
          },
          "metadata": {},
          "execution_count": 97
        }
      ]
    },
    {
      "cell_type": "code",
      "source": [],
      "metadata": {
        "id": "Iar66vN30OJf"
      },
      "execution_count": null,
      "outputs": []
    },
    {
      "cell_type": "markdown",
      "source": [
        "#### Stepping through `nn.Conv2d`"
      ],
      "metadata": {
        "id": "befJeE6j0O25"
      }
    },
    {
      "cell_type": "code",
      "source": [
        "# Creating some dummy data\n",
        "torch.manual_seed(42)\n",
        "\n",
        "# Create a batch of images\n",
        "images = torch.randn(size=(32, 3, 64, 64))\n",
        "# [batch_size, color_channels, height, width]\n",
        "test_image = images[0]\n",
        "\n",
        "print(f\"Image batch shape: {image.shape}\")\n",
        "print(f\"Single image shape: {test_image.shape}\")\n",
        "print(f\"Test image:\\n {test_image}\")"
      ],
      "metadata": {
        "colab": {
          "base_uri": "https://localhost:8080/"
        },
        "id": "91Jh_X3l0aBq",
        "outputId": "f0ce1fc0-8cd2-4473-9feb-ca0c686d9dd3"
      },
      "execution_count": 79,
      "outputs": [
        {
          "output_type": "stream",
          "name": "stdout",
          "text": [
            "Image batch shape: torch.Size([1, 28, 28])\n",
            "Single image shape: torch.Size([3, 64, 64])\n",
            "Test image:\n",
            " tensor([[[ 1.9269,  1.4873,  0.9007,  ...,  1.8446, -1.1845,  1.3835],\n",
            "         [ 1.4451,  0.8564,  2.2181,  ...,  0.3399,  0.7200,  0.4114],\n",
            "         [ 1.9312,  1.0119, -1.4364,  ..., -0.5558,  0.7043,  0.7099],\n",
            "         ...,\n",
            "         [-0.5610, -0.4830,  0.4770,  ..., -0.2713, -0.9537, -0.6737],\n",
            "         [ 0.3076, -0.1277,  0.0366,  ..., -2.0060,  0.2824, -0.8111],\n",
            "         [-1.5486,  0.0485, -0.7712,  ..., -0.1403,  0.9416, -0.0118]],\n",
            "\n",
            "        [[-0.5197,  1.8524,  1.8365,  ...,  0.8935, -1.5114, -0.8515],\n",
            "         [ 2.0818,  1.0677, -1.4277,  ...,  1.6612, -2.6223, -0.4319],\n",
            "         [-0.1010, -0.4388, -1.9775,  ...,  0.2106,  0.2536, -0.7318],\n",
            "         ...,\n",
            "         [ 0.2779,  0.7342, -0.3736,  ..., -0.4601,  0.1815,  0.1850],\n",
            "         [ 0.7205, -0.2833,  0.0937,  ..., -0.1002, -2.3609,  2.2465],\n",
            "         [-1.3242, -0.1973,  0.2920,  ...,  0.5409,  0.6940,  1.8563]],\n",
            "\n",
            "        [[-0.7978,  1.0261,  1.1465,  ...,  1.2134,  0.9354, -0.0780],\n",
            "         [-1.4647, -1.9571,  0.1017,  ..., -1.9986, -0.7409,  0.7011],\n",
            "         [-1.3938,  0.8466, -1.7191,  ..., -1.1867,  0.1320,  0.3407],\n",
            "         ...,\n",
            "         [ 0.8206, -0.3745,  1.2499,  ..., -0.0676,  0.0385,  0.6335],\n",
            "         [-0.5589, -0.3393,  0.2347,  ...,  2.1181,  2.4569,  1.3083],\n",
            "         [-0.4092,  1.5199,  0.2401,  ..., -0.2558,  0.7870,  0.9924]]])\n"
          ]
        }
      ]
    },
    {
      "cell_type": "code",
      "source": [
        "test_image.shape"
      ],
      "metadata": {
        "colab": {
          "base_uri": "https://localhost:8080/"
        },
        "id": "kHWrj4TX1GPb",
        "outputId": "ab4f9acc-d9de-460c-de0a-e60286bdf094"
      },
      "execution_count": 80,
      "outputs": [
        {
          "output_type": "execute_result",
          "data": {
            "text/plain": [
              "torch.Size([3, 64, 64])"
            ]
          },
          "metadata": {},
          "execution_count": 80
        }
      ]
    },
    {
      "cell_type": "code",
      "source": [
        "# Create a single Conv2d layer\n",
        "conv_layer = nn.Conv2d(in_channels=3,\n",
        "                       out_channels=10,\n",
        "                       kernel_size=(3,3),\n",
        "                       padding=0,\n",
        "                       stride=1)\n",
        "\n",
        "# Pass the data through the convolutional layer\n",
        "conv_output = conv_layer(test_image)\n",
        "conv_output"
      ],
      "metadata": {
        "colab": {
          "base_uri": "https://localhost:8080/"
        },
        "id": "WKOyT2AX0aEA",
        "outputId": "16e8bc83-6ffb-4cd6-9b40-2a9dac047949"
      },
      "execution_count": 81,
      "outputs": [
        {
          "output_type": "execute_result",
          "data": {
            "text/plain": [
              "tensor([[[-2.8778e-01, -6.0596e-02, -5.6306e-02,  ...,  2.8654e-01,\n",
              "           6.6224e-01, -2.3216e-01],\n",
              "         [-9.8911e-01, -4.0099e-01,  4.1832e-01,  ...,  4.7459e-01,\n",
              "          -1.8552e-01, -5.7622e-01],\n",
              "         [-4.1340e-02, -2.3277e-01,  3.7418e-01,  ...,  2.8255e-02,\n",
              "           1.4923e-01,  1.4236e-01],\n",
              "         ...,\n",
              "         [-8.0374e-01, -7.6687e-01, -5.9457e-02,  ...,  1.7452e-01,\n",
              "           4.2594e-01, -4.8341e-01],\n",
              "         [-1.4512e-01, -1.1566e-01,  6.1783e-01,  ...,  2.4126e-01,\n",
              "          -3.6626e-01,  3.5645e-01],\n",
              "         [ 3.6096e-02,  1.5214e-01,  2.3123e-01,  ...,  3.0904e-01,\n",
              "          -4.9680e-01, -7.2258e-01]],\n",
              "\n",
              "        [[-1.0853e+00, -1.6079e+00,  1.3346e-01,  ...,  2.1698e-01,\n",
              "          -1.7643e+00,  2.5263e-01],\n",
              "         [-8.2507e-01,  6.3866e-01,  1.8845e-01,  ..., -1.0936e-01,\n",
              "           4.8068e-01,  8.4869e-01],\n",
              "         [ 6.4927e-01, -4.2061e-03, -4.9991e-01,  ...,  5.8356e-01,\n",
              "           2.4611e-01,  6.6233e-01],\n",
              "         ...,\n",
              "         [ 9.8860e-02,  1.1661e+00,  3.1532e-01,  ..., -6.5450e-01,\n",
              "          -1.9585e-02,  2.4397e-01],\n",
              "         [-5.9820e-01,  3.7339e-01, -7.2705e-01,  ..., -3.1185e-02,\n",
              "          -8.9892e-01,  2.9192e-01],\n",
              "         [-1.8412e-01,  2.2085e-01,  1.6990e-01,  ...,  4.7418e-01,\n",
              "          -9.0971e-01,  7.9518e-01]],\n",
              "\n",
              "        [[ 3.9605e-02,  6.7841e-01, -9.6515e-01,  ..., -2.8578e-01,\n",
              "          -2.9320e-01, -1.8889e-01],\n",
              "         [-1.5027e+00, -1.1401e+00, -2.0217e-01,  ...,  2.5681e-01,\n",
              "          -9.3105e-01,  6.8724e-02],\n",
              "         [-4.1801e-01,  2.6299e-01,  3.3114e-02,  ...,  2.7162e-01,\n",
              "          -6.0643e-01, -7.4065e-01],\n",
              "         ...,\n",
              "         [ 5.3659e-02, -1.6118e-01, -2.2006e-01,  ...,  4.0253e-01,\n",
              "           2.1769e-01,  2.0759e-01],\n",
              "         [ 8.3423e-02,  2.5296e-01, -4.3232e-01,  ...,  1.1411e+00,\n",
              "           9.1973e-01,  3.2513e-02],\n",
              "         [ 2.0770e-01,  6.7494e-01,  1.7256e-01,  ..., -4.1328e-01,\n",
              "          -1.6368e-01, -1.3886e-01]],\n",
              "\n",
              "        ...,\n",
              "\n",
              "        [[-6.5893e-01, -1.0476e+00,  1.0067e+00,  ..., -1.7439e-01,\n",
              "           3.5072e-01,  2.5077e-01],\n",
              "         [ 1.3226e+00,  1.9803e+00, -6.4183e-01,  ...,  3.2681e-01,\n",
              "           1.5939e+00, -1.0821e-01],\n",
              "         [ 8.7122e-01, -1.0276e+00,  4.5702e-01,  ...,  5.1113e-01,\n",
              "           1.0244e+00,  8.7522e-01],\n",
              "         ...,\n",
              "         [ 1.3555e+00,  1.3009e+00,  4.9802e-01,  ..., -1.0216e-01,\n",
              "          -5.6769e-01,  8.4543e-02],\n",
              "         [ 1.5033e-01, -3.4481e-01,  1.0851e+00,  ..., -1.6738e-01,\n",
              "          -5.1884e-01,  1.9113e-01],\n",
              "         [-2.3805e-02, -4.3101e-01,  6.8124e-02,  ...,  1.0441e+00,\n",
              "           4.1791e-01,  6.0961e-01]],\n",
              "\n",
              "        [[-5.7891e-02,  6.3499e-02, -3.7689e-01,  ..., -7.3454e-01,\n",
              "           7.6985e-01, -6.7518e-01],\n",
              "         [ 2.9175e-01,  1.1631e-04, -6.0476e-01,  ..., -1.1983e+00,\n",
              "           6.5636e-01, -5.4662e-01],\n",
              "         [ 2.1523e-01, -1.9851e-01, -1.3285e-01,  ...,  7.5264e-01,\n",
              "          -1.5505e+00,  4.5457e-01],\n",
              "         ...,\n",
              "         [-2.0348e-01, -4.8311e-01, -3.0158e-02,  ..., -5.2867e-01,\n",
              "          -8.0491e-01,  7.7403e-01],\n",
              "         [ 7.5117e-01, -1.5956e-01,  2.5034e-01,  ..., -4.0541e-01,\n",
              "           2.8248e-01, -4.3361e-01],\n",
              "         [-2.1132e-01, -4.4753e-01, -1.0997e-01,  ..., -7.6029e-02,\n",
              "           7.9822e-01, -6.3137e-01]],\n",
              "\n",
              "        [[ 8.6642e-01,  1.6339e+00,  5.4498e-02,  ...,  2.3448e-01,\n",
              "           5.0939e-01,  8.1898e-01],\n",
              "         [ 1.0650e-01,  3.0274e-01, -7.4020e-01,  ...,  8.3167e-01,\n",
              "          -4.6203e-01,  3.4506e-01],\n",
              "         [ 1.1760e-02, -6.1708e-02, -7.6054e-01,  ..., -8.1317e-01,\n",
              "           1.0693e+00, -9.6907e-01],\n",
              "         ...,\n",
              "         [-1.1468e+00, -1.3791e-01, -3.6390e-01,  ...,  5.5073e-01,\n",
              "           2.0598e-01,  1.0710e-01],\n",
              "         [-3.4261e-01, -1.6038e-02, -6.6151e-01,  ..., -4.2419e-01,\n",
              "           4.4527e-01, -1.0111e-01],\n",
              "         [ 4.4487e-02,  9.7506e-02, -3.1829e-01,  ...,  6.0565e-02,\n",
              "           5.3990e-01, -4.2942e-01]]], grad_fn=<SqueezeBackward1>)"
            ]
          },
          "metadata": {},
          "execution_count": 81
        }
      ]
    },
    {
      "cell_type": "markdown",
      "source": [
        "For lower version, the above code may give error.\n",
        "\n",
        "`RuntimeError: Expected 4-dimensional input for 4-dimensional weight [10, 3, 3, 3], but got 3-dimensional input of size [3, 64, 64] instead`\n",
        "\n",
        "This is because our `nn.Conv2d()` layer expects a 4-dimensional tensor as input with size `(N, C, H, W)` or `[batch_size, color_channels, height, width]`.\n",
        "\n",
        "Right now our single image `test_image` only has a shape of `[color_channels, height, width]` or `[3, 64, 64]`.\n",
        "\n",
        "We can fix this for a single image using `test_image.unsqueeze(dim=0)` to add an extra dimension for `N`."
      ],
      "metadata": {
        "id": "uLcUrqZi1_d2"
      }
    },
    {
      "cell_type": "code",
      "source": [
        "# Add extra dimension to test image\n",
        "test_image.unsqueeze(dim=0).shape"
      ],
      "metadata": {
        "colab": {
          "base_uri": "https://localhost:8080/"
        },
        "id": "z3DN5ioB0aGQ",
        "outputId": "352aa751-1952-4dc9-900c-482a8c2b0113"
      },
      "execution_count": 82,
      "outputs": [
        {
          "output_type": "execute_result",
          "data": {
            "text/plain": [
              "torch.Size([1, 3, 64, 64])"
            ]
          },
          "metadata": {},
          "execution_count": 82
        }
      ]
    },
    {
      "cell_type": "code",
      "source": [
        "# Pass test image with extra dimension through conv_layer\n",
        "conv_layer(test_image.unsqueeze(dim=0)).shape"
      ],
      "metadata": {
        "colab": {
          "base_uri": "https://localhost:8080/"
        },
        "id": "4nvdzLh-0aIo",
        "outputId": "745ff2ba-0ceb-441c-c86c-b074c6703417"
      },
      "execution_count": 83,
      "outputs": [
        {
          "output_type": "execute_result",
          "data": {
            "text/plain": [
              "torch.Size([1, 10, 62, 62])"
            ]
          },
          "metadata": {},
          "execution_count": 83
        }
      ]
    },
    {
      "cell_type": "markdown",
      "source": [
        "Making some other CNN layer with different hyperparameters"
      ],
      "metadata": {
        "id": "mYrEiOEG2emf"
      }
    },
    {
      "cell_type": "code",
      "source": [
        "torch.manual_seed(42)\n",
        "# Create a new conv_layer with different values (try setting these to whatever you like)\n",
        "conv_layer_2 = nn.Conv2d(in_channels=3, # same number of color channels as our input image\n",
        "                         out_channels=10,\n",
        "                         kernel_size=(5, 5), # kernel is usually a square so a tuple also works\n",
        "                         stride=2,\n",
        "                         padding=0)\n",
        "\n",
        "# Pass single image through new conv_layer_2 (this calls nn.Conv2d()'s forward() method on the input)\n",
        "conv_layer_2(test_image.unsqueeze(dim=0)).shape"
      ],
      "metadata": {
        "colab": {
          "base_uri": "https://localhost:8080/"
        },
        "id": "oVcHRhg40aKZ",
        "outputId": "337f7f12-f7e3-4486-ee86-4bef51a45913"
      },
      "execution_count": 84,
      "outputs": [
        {
          "output_type": "execute_result",
          "data": {
            "text/plain": [
              "torch.Size([1, 10, 30, 30])"
            ]
          },
          "metadata": {},
          "execution_count": 84
        }
      ]
    },
    {
      "cell_type": "markdown",
      "source": [
        "From the 2 layers we made, we can see that the output shape comes different.\n",
        "\n",
        "This is because the CNN compresses the data according to its parameters, in order to lower the loss functions"
      ],
      "metadata": {
        "id": "s6DmURGR2lb7"
      }
    },
    {
      "cell_type": "code",
      "source": [
        "# Check out the conv_layer_2 internal parameters\n",
        "print(conv_layer_2.state_dict())"
      ],
      "metadata": {
        "colab": {
          "base_uri": "https://localhost:8080/"
        },
        "id": "D5HKSD8s0aNz",
        "outputId": "1fe961e8-a528-4dac-fe9a-e68b3df430aa"
      },
      "execution_count": 85,
      "outputs": [
        {
          "output_type": "stream",
          "name": "stdout",
          "text": [
            "OrderedDict([('weight', tensor([[[[ 0.0883,  0.0958, -0.0271,  0.1061, -0.0253],\n",
            "          [ 0.0233, -0.0562,  0.0678,  0.1018, -0.0847],\n",
            "          [ 0.1004,  0.0216,  0.0853,  0.0156,  0.0557],\n",
            "          [-0.0163,  0.0890,  0.0171, -0.0539,  0.0294],\n",
            "          [-0.0532, -0.0135, -0.0469,  0.0766, -0.0911]],\n",
            "\n",
            "         [[-0.0532, -0.0326, -0.0694,  0.0109, -0.1140],\n",
            "          [ 0.1043, -0.0981,  0.0891,  0.0192, -0.0375],\n",
            "          [ 0.0714,  0.0180,  0.0933,  0.0126, -0.0364],\n",
            "          [ 0.0310, -0.0313,  0.0486,  0.1031,  0.0667],\n",
            "          [-0.0505,  0.0667,  0.0207,  0.0586, -0.0704]],\n",
            "\n",
            "         [[-0.1143, -0.0446, -0.0886,  0.0947,  0.0333],\n",
            "          [ 0.0478,  0.0365, -0.0020,  0.0904, -0.0820],\n",
            "          [ 0.0073, -0.0788,  0.0356, -0.0398,  0.0354],\n",
            "          [-0.0241,  0.0958, -0.0684, -0.0689, -0.0689],\n",
            "          [ 0.1039,  0.0385,  0.1111, -0.0953, -0.1145]]],\n",
            "\n",
            "\n",
            "        [[[-0.0903, -0.0777,  0.0468,  0.0413,  0.0959],\n",
            "          [-0.0596, -0.0787,  0.0613, -0.0467,  0.0701],\n",
            "          [-0.0274,  0.0661, -0.0897, -0.0583,  0.0352],\n",
            "          [ 0.0244, -0.0294,  0.0688,  0.0785, -0.0837],\n",
            "          [-0.0616,  0.1057, -0.0390, -0.0409, -0.1117]],\n",
            "\n",
            "         [[-0.0661,  0.0288, -0.0152, -0.0838,  0.0027],\n",
            "          [-0.0789, -0.0980, -0.0636, -0.1011, -0.0735],\n",
            "          [ 0.1154,  0.0218,  0.0356, -0.1077, -0.0758],\n",
            "          [-0.0384,  0.0181, -0.1016, -0.0498, -0.0691],\n",
            "          [ 0.0003, -0.0430, -0.0080, -0.0782, -0.0793]],\n",
            "\n",
            "         [[-0.0674, -0.0395, -0.0911,  0.0968, -0.0229],\n",
            "          [ 0.0994,  0.0360, -0.0978,  0.0799, -0.0318],\n",
            "          [-0.0443, -0.0958, -0.1148,  0.0330, -0.0252],\n",
            "          [ 0.0450, -0.0948,  0.0857, -0.0848, -0.0199],\n",
            "          [ 0.0241,  0.0596,  0.0932,  0.1052, -0.0916]]],\n",
            "\n",
            "\n",
            "        [[[ 0.0291, -0.0497, -0.0127, -0.0864,  0.1052],\n",
            "          [-0.0847,  0.0617,  0.0406,  0.0375, -0.0624],\n",
            "          [ 0.1050,  0.0254,  0.0149, -0.1018,  0.0485],\n",
            "          [-0.0173, -0.0529,  0.0992,  0.0257, -0.0639],\n",
            "          [-0.0584, -0.0055,  0.0645, -0.0295, -0.0659]],\n",
            "\n",
            "         [[-0.0395, -0.0863,  0.0412,  0.0894, -0.1087],\n",
            "          [ 0.0268,  0.0597,  0.0209, -0.0411,  0.0603],\n",
            "          [ 0.0607,  0.0432, -0.0203, -0.0306,  0.0124],\n",
            "          [-0.0204, -0.0344,  0.0738,  0.0992, -0.0114],\n",
            "          [-0.0259,  0.0017, -0.0069,  0.0278,  0.0324]],\n",
            "\n",
            "         [[-0.1049, -0.0426,  0.0972,  0.0450, -0.0057],\n",
            "          [-0.0696, -0.0706, -0.1034, -0.0376,  0.0390],\n",
            "          [ 0.0736,  0.0533, -0.1021, -0.0694, -0.0182],\n",
            "          [ 0.1117,  0.0167, -0.0299,  0.0478, -0.0440],\n",
            "          [-0.0747,  0.0843, -0.0525, -0.0231, -0.1149]]],\n",
            "\n",
            "\n",
            "        [[[ 0.0773,  0.0875,  0.0421, -0.0805, -0.1140],\n",
            "          [-0.0938,  0.0861,  0.0554,  0.0972,  0.0605],\n",
            "          [ 0.0292, -0.0011, -0.0878, -0.0989, -0.1080],\n",
            "          [ 0.0473, -0.0567, -0.0232, -0.0665, -0.0210],\n",
            "          [-0.0813, -0.0754,  0.0383, -0.0343,  0.0713]],\n",
            "\n",
            "         [[-0.0370, -0.0847, -0.0204, -0.0560, -0.0353],\n",
            "          [-0.1099,  0.0646, -0.0804,  0.0580,  0.0524],\n",
            "          [ 0.0825, -0.0886,  0.0830, -0.0546,  0.0428],\n",
            "          [ 0.1084, -0.0163, -0.0009, -0.0266, -0.0964],\n",
            "          [ 0.0554, -0.1146,  0.0717,  0.0864,  0.1092]],\n",
            "\n",
            "         [[-0.0272, -0.0949,  0.0260,  0.0638, -0.1149],\n",
            "          [-0.0262, -0.0692, -0.0101, -0.0568, -0.0472],\n",
            "          [-0.0367, -0.1097,  0.0947,  0.0968, -0.0181],\n",
            "          [-0.0131, -0.0471, -0.1043, -0.1124,  0.0429],\n",
            "          [-0.0634, -0.0742, -0.0090, -0.0385, -0.0374]]],\n",
            "\n",
            "\n",
            "        [[[ 0.0037, -0.0245, -0.0398, -0.0553, -0.0940],\n",
            "          [ 0.0968, -0.0462,  0.0306, -0.0401,  0.0094],\n",
            "          [ 0.1077,  0.0532, -0.1001,  0.0458,  0.1096],\n",
            "          [ 0.0304,  0.0774,  0.1138, -0.0177,  0.0240],\n",
            "          [-0.0803, -0.0238,  0.0855,  0.0592, -0.0731]],\n",
            "\n",
            "         [[-0.0926, -0.0789, -0.1140, -0.0891, -0.0286],\n",
            "          [ 0.0779,  0.0193, -0.0878, -0.0926,  0.0574],\n",
            "          [-0.0859, -0.0142,  0.0554, -0.0534, -0.0126],\n",
            "          [-0.0101, -0.0273, -0.0585, -0.1029, -0.0933],\n",
            "          [-0.0618,  0.1115, -0.0558, -0.0775,  0.0280]],\n",
            "\n",
            "         [[ 0.0318,  0.0633,  0.0878,  0.0643, -0.1145],\n",
            "          [ 0.0102,  0.0699, -0.0107, -0.0680,  0.1101],\n",
            "          [-0.0432, -0.0657, -0.1041,  0.0052,  0.0512],\n",
            "          [ 0.0256,  0.0228, -0.0876, -0.1078,  0.0020],\n",
            "          [ 0.1053,  0.0666, -0.0672, -0.0150, -0.0851]]],\n",
            "\n",
            "\n",
            "        [[[-0.0557,  0.0209,  0.0629,  0.0957, -0.1060],\n",
            "          [ 0.0772, -0.0814,  0.0432,  0.0977,  0.0016],\n",
            "          [ 0.1051, -0.0984, -0.0441,  0.0673, -0.0252],\n",
            "          [-0.0236, -0.0481,  0.0796,  0.0566,  0.0370],\n",
            "          [-0.0649, -0.0937,  0.0125,  0.0342, -0.0533]],\n",
            "\n",
            "         [[-0.0323,  0.0780,  0.0092,  0.0052, -0.0284],\n",
            "          [-0.1046, -0.1086, -0.0552, -0.0587,  0.0360],\n",
            "          [-0.0336, -0.0452,  0.1101,  0.0402,  0.0823],\n",
            "          [-0.0559, -0.0472,  0.0424, -0.0769, -0.0755],\n",
            "          [-0.0056, -0.0422, -0.0866,  0.0685,  0.0929]],\n",
            "\n",
            "         [[ 0.0187, -0.0201, -0.1070, -0.0421,  0.0294],\n",
            "          [ 0.0544, -0.0146, -0.0457,  0.0643, -0.0920],\n",
            "          [ 0.0730, -0.0448,  0.0018, -0.0228,  0.0140],\n",
            "          [-0.0349,  0.0840, -0.0030,  0.0901,  0.1110],\n",
            "          [-0.0563, -0.0842,  0.0926,  0.0905, -0.0882]]],\n",
            "\n",
            "\n",
            "        [[[-0.0089, -0.1139, -0.0945,  0.0223,  0.0307],\n",
            "          [ 0.0245, -0.0314,  0.1065,  0.0165, -0.0681],\n",
            "          [-0.0065,  0.0277,  0.0404, -0.0816,  0.0433],\n",
            "          [-0.0590, -0.0959, -0.0631,  0.1114,  0.0987],\n",
            "          [ 0.1034,  0.0678,  0.0872, -0.0155, -0.0635]],\n",
            "\n",
            "         [[ 0.0577, -0.0598, -0.0779, -0.0369,  0.0242],\n",
            "          [ 0.0594, -0.0448, -0.0680,  0.0156, -0.0681],\n",
            "          [-0.0752,  0.0602, -0.0194,  0.1055,  0.1123],\n",
            "          [ 0.0345,  0.0397,  0.0266,  0.0018, -0.0084],\n",
            "          [ 0.0016,  0.0431,  0.1074, -0.0299, -0.0488]],\n",
            "\n",
            "         [[-0.0280, -0.0558,  0.0196,  0.0862,  0.0903],\n",
            "          [ 0.0530, -0.0850, -0.0620, -0.0254, -0.0213],\n",
            "          [ 0.0095, -0.1060,  0.0359, -0.0881, -0.0731],\n",
            "          [-0.0960,  0.1006, -0.1093,  0.0871, -0.0039],\n",
            "          [-0.0134,  0.0722, -0.0107,  0.0724,  0.0835]]],\n",
            "\n",
            "\n",
            "        [[[-0.1003,  0.0444,  0.0218,  0.0248,  0.0169],\n",
            "          [ 0.0316, -0.0555, -0.0148,  0.1097,  0.0776],\n",
            "          [-0.0043, -0.1086,  0.0051, -0.0786,  0.0939],\n",
            "          [-0.0701, -0.0083, -0.0256,  0.0205,  0.1087],\n",
            "          [ 0.0110,  0.0669,  0.0896,  0.0932, -0.0399]],\n",
            "\n",
            "         [[-0.0258,  0.0556, -0.0315,  0.0541, -0.0252],\n",
            "          [-0.0783,  0.0470,  0.0177,  0.0515,  0.1147],\n",
            "          [ 0.0788,  0.1095,  0.0062, -0.0993, -0.0810],\n",
            "          [-0.0717, -0.1018, -0.0579, -0.1063, -0.1065],\n",
            "          [-0.0690, -0.1138, -0.0709,  0.0440,  0.0963]],\n",
            "\n",
            "         [[-0.0343, -0.0336,  0.0617, -0.0570, -0.0546],\n",
            "          [ 0.0711, -0.1006,  0.0141,  0.1020,  0.0198],\n",
            "          [ 0.0314, -0.0672, -0.0016,  0.0063,  0.0283],\n",
            "          [ 0.0449,  0.1003, -0.0881,  0.0035, -0.0577],\n",
            "          [-0.0913, -0.0092, -0.1016,  0.0806,  0.0134]]],\n",
            "\n",
            "\n",
            "        [[[-0.0622,  0.0603, -0.1093, -0.0447, -0.0225],\n",
            "          [-0.0981, -0.0734, -0.0188,  0.0876,  0.1115],\n",
            "          [ 0.0735, -0.0689, -0.0755,  0.1008,  0.0408],\n",
            "          [ 0.0031,  0.0156, -0.0928, -0.0386,  0.1112],\n",
            "          [-0.0285, -0.0058, -0.0959, -0.0646, -0.0024]],\n",
            "\n",
            "         [[-0.0717, -0.0143,  0.0470, -0.1130,  0.0343],\n",
            "          [-0.0763, -0.0564,  0.0443,  0.0918, -0.0316],\n",
            "          [-0.0474, -0.1044, -0.0595, -0.1011, -0.0264],\n",
            "          [ 0.0236, -0.1082,  0.1008,  0.0724, -0.1130],\n",
            "          [-0.0552,  0.0377, -0.0237, -0.0126, -0.0521]],\n",
            "\n",
            "         [[ 0.0927, -0.0645,  0.0958,  0.0075,  0.0232],\n",
            "          [ 0.0901, -0.0190, -0.0657, -0.0187,  0.0937],\n",
            "          [-0.0857,  0.0262, -0.1135,  0.0605,  0.0427],\n",
            "          [ 0.0049,  0.0496,  0.0001,  0.0639, -0.0914],\n",
            "          [-0.0170,  0.0512,  0.1150,  0.0588, -0.0840]]],\n",
            "\n",
            "\n",
            "        [[[ 0.0888, -0.0257, -0.0247, -0.1050, -0.0182],\n",
            "          [ 0.0817,  0.0161, -0.0673,  0.0355, -0.0370],\n",
            "          [ 0.1054, -0.1002, -0.0365, -0.1115, -0.0455],\n",
            "          [ 0.0364,  0.1112,  0.0194,  0.1132,  0.0226],\n",
            "          [ 0.0667,  0.0926,  0.0965, -0.0646,  0.1062]],\n",
            "\n",
            "         [[ 0.0699, -0.0540, -0.0551, -0.0969,  0.0290],\n",
            "          [-0.0936,  0.0488,  0.0365, -0.1003,  0.0315],\n",
            "          [-0.0094,  0.0527,  0.0663, -0.1148,  0.1059],\n",
            "          [ 0.0968,  0.0459, -0.1055, -0.0412, -0.0335],\n",
            "          [-0.0297,  0.0651,  0.0420,  0.0915, -0.0432]],\n",
            "\n",
            "         [[ 0.0389,  0.0411, -0.0961, -0.1120, -0.0599],\n",
            "          [ 0.0790, -0.1087, -0.1005,  0.0647,  0.0623],\n",
            "          [ 0.0950, -0.0872, -0.0845,  0.0592,  0.1004],\n",
            "          [ 0.0691,  0.0181,  0.0381,  0.1096, -0.0745],\n",
            "          [-0.0524,  0.0808, -0.0790, -0.0637,  0.0843]]]])), ('bias', tensor([ 0.0364,  0.0373, -0.0489, -0.0016,  0.1057, -0.0693,  0.0009,  0.0549,\n",
            "        -0.0797,  0.1121]))])\n"
          ]
        }
      ]
    },
    {
      "cell_type": "code",
      "source": [
        "# Get shapes of weight and bias tensors within conv_layer_2\n",
        "print(f\"conv_layer_2 weight shape: \\n{conv_layer_2.weight.shape} -> [out_channels=10, in_channels=3, kernel_size=5, kernel_size=5]\")\n",
        "print(f\"\\nconv_layer_2 bias shape: \\n{conv_layer_2.bias.shape} -> [out_channels=10]\")\n"
      ],
      "metadata": {
        "colab": {
          "base_uri": "https://localhost:8080/"
        },
        "id": "BB8KQl-f29P0",
        "outputId": "61366c0b-6150-46d5-a770-e40d3633fefd"
      },
      "execution_count": 86,
      "outputs": [
        {
          "output_type": "stream",
          "name": "stdout",
          "text": [
            "conv_layer_2 weight shape: \n",
            "torch.Size([10, 3, 5, 5]) -> [out_channels=10, in_channels=3, kernel_size=5, kernel_size=5]\n",
            "\n",
            "conv_layer_2 bias shape: \n",
            "torch.Size([10]) -> [out_channels=10]\n"
          ]
        }
      ]
    },
    {
      "cell_type": "markdown",
      "source": [
        "#### Setup a loss function and optimizer for `model2`"
      ],
      "metadata": {
        "id": "KHJ0Jhhf0FRO"
      }
    },
    {
      "cell_type": "code",
      "source": [
        "# Setting up the loss function\n",
        "loss_fn = nn.CrossEntropyLoss()\n",
        "optimizer = torch.optim.SGD(params = model2.parameters(),\n",
        "                            lr=0.1)"
      ],
      "metadata": {
        "id": "eb-PdmBNzdXG"
      },
      "execution_count": 99,
      "outputs": []
    },
    {
      "cell_type": "markdown",
      "source": [
        "#### Training and testing the model"
      ],
      "metadata": {
        "id": "Abs9ys883TNg"
      }
    },
    {
      "cell_type": "code",
      "source": [
        "torch.manual_seed(42)\n",
        "\n",
        "# Measure time\n",
        "from timeit import default_timer as timer\n",
        "train_time_start_model2 = timer()\n",
        "\n",
        "# Train and test model\n",
        "epochs = 3\n",
        "for epoch in tqdm(range(epochs)):\n",
        "    print(f\"Epoch: {epoch}\\n---------\")\n",
        "    train_step(data_loader=train_dataloader,\n",
        "        model=model2,\n",
        "        loss_fn=loss_fn,\n",
        "        optimizer=optimizer,\n",
        "        accuracy_fn=accuracy_fn,\n",
        "        device=device\n",
        "    )\n",
        "    test_step(data_loader=test_dataloader,\n",
        "        model=model2,\n",
        "        loss_fn=loss_fn,\n",
        "        accuracy_fn=accuracy_fn,\n",
        "        device=device\n",
        "    )\n",
        "\n",
        "train_time_end_model2 = timer()\n",
        "total_train_time_model2 = print_train_time(start=train_time_start_model2,\n",
        "                                           end=train_time_end_model2,\n",
        "                                           device=device)"
      ],
      "metadata": {
        "colab": {
          "base_uri": "https://localhost:8080/",
          "height": 327,
          "referenced_widgets": [
            "0fc5a38a0648426d9b7a4e7f60046d8e",
            "19e260ce5a294811a6e160ae7fcfc377",
            "55f5ab55b8f541ac86c495527ca02fb9",
            "dc38a716dd3a4d5d9097bcf46607b0b9",
            "1180c2f3a2e4476184ac383ad5a0e7c2",
            "1f3a80735c4f42babf2eea4ce5dbaeb6",
            "51c48f4d59d642818893169bf413a356",
            "a0127ceed0fb46e1a0de2bf9befbc44d",
            "2df06cbb95e543399df3d3a953d40ab0",
            "6ffcfd709b4e4da689369aa9c84a0603",
            "24dd918ea9dc414e99a9b9ea348f7295"
          ]
        },
        "id": "bKmqAKUq3Lsg",
        "outputId": "8109001f-79c1-491c-cea6-b5e5cb2a36ef"
      },
      "execution_count": 100,
      "outputs": [
        {
          "output_type": "display_data",
          "data": {
            "text/plain": [
              "  0%|          | 0/3 [00:00<?, ?it/s]"
            ],
            "application/vnd.jupyter.widget-view+json": {
              "version_major": 2,
              "version_minor": 0,
              "model_id": "0fc5a38a0648426d9b7a4e7f60046d8e"
            }
          },
          "metadata": {}
        },
        {
          "output_type": "stream",
          "name": "stdout",
          "text": [
            "Epoch: 0\n",
            "---------\n",
            "Train loss: 0.59235 | Train accuracy: 78.37%\n",
            "Test loss: 0.39316 | Test accuracy: 85.82%\n",
            "\n",
            "Epoch: 1\n",
            "---------\n",
            "Train loss: 0.36262 | Train accuracy: 86.92%\n",
            "Test loss: 0.35343 | Test accuracy: 87.11%\n",
            "\n",
            "Epoch: 2\n",
            "---------\n",
            "Train loss: 0.32751 | Train accuracy: 88.17%\n",
            "Test loss: 0.33045 | Test accuracy: 88.05%\n",
            "\n",
            "Train time on cuda: 39.368 seconds\n"
          ]
        }
      ]
    },
    {
      "cell_type": "markdown",
      "source": [
        "#### Evaluating and getting model's results"
      ],
      "metadata": {
        "id": "LCGapFrS32r-"
      }
    },
    {
      "cell_type": "code",
      "source": [
        "# Get model_2 results\n",
        "model2_results = eval_model(\n",
        "    model=model2,\n",
        "    data_loader=test_dataloader,\n",
        "    loss_fn=loss_fn,\n",
        "    accuracy_fn=accuracy_fn\n",
        ")\n",
        "model2_results"
      ],
      "metadata": {
        "colab": {
          "base_uri": "https://localhost:8080/"
        },
        "id": "P5NDzyEW3aGP",
        "outputId": "e729803c-f99f-4883-f45d-fd1d651ea0c6"
      },
      "execution_count": 101,
      "outputs": [
        {
          "output_type": "execute_result",
          "data": {
            "text/plain": [
              "{'model_name': 'FashionMNISTModelV2',\n",
              " 'model_loss': 0.3304498493671417,\n",
              " 'model_acc': 88.0491214057508}"
            ]
          },
          "metadata": {},
          "execution_count": 101
        }
      ]
    },
    {
      "cell_type": "markdown",
      "source": [
        "### Comparing model results and training time"
      ],
      "metadata": {
        "id": "pwrlcu9b4phl"
      }
    },
    {
      "cell_type": "markdown",
      "source": [
        "![image.png](data:image/png;base64,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)"
      ],
      "metadata": {
        "id": "ocvdyeCm4uUU"
      }
    },
    {
      "cell_type": "code",
      "source": [
        "import pandas as pd\n",
        "compare_results = pd.DataFrame([model0_results, model1_results, model2_results])\n",
        "compare_results"
      ],
      "metadata": {
        "colab": {
          "base_uri": "https://localhost:8080/",
          "height": 143
        },
        "id": "fgNOPNqH38Kz",
        "outputId": "ab1d6f92-fe7a-462a-cfcf-f4039b1ee514"
      },
      "execution_count": 102,
      "outputs": [
        {
          "output_type": "execute_result",
          "data": {
            "text/plain": [
              "            model_name  model_loss  model_acc\n",
              "0  FashionMNISTModelV0    0.476639  83.426518\n",
              "1  FashionMNISTModelV1    0.685001  75.019968\n",
              "2  FashionMNISTModelV2    0.330450  88.049121"
            ],
            "text/html": [
              "\n",
              "\n",
              "  <div id=\"df-3808bac5-8e25-4495-89d5-101ff957c8b2\">\n",
              "    <div class=\"colab-df-container\">\n",
              "      <div>\n",
              "<style scoped>\n",
              "    .dataframe tbody tr th:only-of-type {\n",
              "        vertical-align: middle;\n",
              "    }\n",
              "\n",
              "    .dataframe tbody tr th {\n",
              "        vertical-align: top;\n",
              "    }\n",
              "\n",
              "    .dataframe thead th {\n",
              "        text-align: right;\n",
              "    }\n",
              "</style>\n",
              "<table border=\"1\" class=\"dataframe\">\n",
              "  <thead>\n",
              "    <tr style=\"text-align: right;\">\n",
              "      <th></th>\n",
              "      <th>model_name</th>\n",
              "      <th>model_loss</th>\n",
              "      <th>model_acc</th>\n",
              "    </tr>\n",
              "  </thead>\n",
              "  <tbody>\n",
              "    <tr>\n",
              "      <th>0</th>\n",
              "      <td>FashionMNISTModelV0</td>\n",
              "      <td>0.476639</td>\n",
              "      <td>83.426518</td>\n",
              "    </tr>\n",
              "    <tr>\n",
              "      <th>1</th>\n",
              "      <td>FashionMNISTModelV1</td>\n",
              "      <td>0.685001</td>\n",
              "      <td>75.019968</td>\n",
              "    </tr>\n",
              "    <tr>\n",
              "      <th>2</th>\n",
              "      <td>FashionMNISTModelV2</td>\n",
              "      <td>0.330450</td>\n",
              "      <td>88.049121</td>\n",
              "    </tr>\n",
              "  </tbody>\n",
              "</table>\n",
              "</div>\n",
              "      <button class=\"colab-df-convert\" onclick=\"convertToInteractive('df-3808bac5-8e25-4495-89d5-101ff957c8b2')\"\n",
              "              title=\"Convert this dataframe to an interactive table.\"\n",
              "              style=\"display:none;\">\n",
              "\n",
              "  <svg xmlns=\"http://www.w3.org/2000/svg\" height=\"24px\"viewBox=\"0 0 24 24\"\n",
              "       width=\"24px\">\n",
              "    <path d=\"M0 0h24v24H0V0z\" fill=\"none\"/>\n",
              "    <path d=\"M18.56 5.44l.94 2.06.94-2.06 2.06-.94-2.06-.94-.94-2.06-.94 2.06-2.06.94zm-11 1L8.5 8.5l.94-2.06 2.06-.94-2.06-.94L8.5 2.5l-.94 2.06-2.06.94zm10 10l.94 2.06.94-2.06 2.06-.94-2.06-.94-.94-2.06-.94 2.06-2.06.94z\"/><path d=\"M17.41 7.96l-1.37-1.37c-.4-.4-.92-.59-1.43-.59-.52 0-1.04.2-1.43.59L10.3 9.45l-7.72 7.72c-.78.78-.78 2.05 0 2.83L4 21.41c.39.39.9.59 1.41.59.51 0 1.02-.2 1.41-.59l7.78-7.78 2.81-2.81c.8-.78.8-2.07 0-2.86zM5.41 20L4 18.59l7.72-7.72 1.47 1.35L5.41 20z\"/>\n",
              "  </svg>\n",
              "      </button>\n",
              "\n",
              "\n",
              "\n",
              "    <div id=\"df-fdd5231c-3506-4734-b122-61717d96afeb\">\n",
              "      <button class=\"colab-df-quickchart\" onclick=\"quickchart('df-fdd5231c-3506-4734-b122-61717d96afeb')\"\n",
              "              title=\"Suggest charts.\"\n",
              "              style=\"display:none;\">\n",
              "\n",
              "<svg xmlns=\"http://www.w3.org/2000/svg\" height=\"24px\"viewBox=\"0 0 24 24\"\n",
              "     width=\"24px\">\n",
              "    <g>\n",
              "        <path d=\"M19 3H5c-1.1 0-2 .9-2 2v14c0 1.1.9 2 2 2h14c1.1 0 2-.9 2-2V5c0-1.1-.9-2-2-2zM9 17H7v-7h2v7zm4 0h-2V7h2v10zm4 0h-2v-4h2v4z\"/>\n",
              "    </g>\n",
              "</svg>\n",
              "      </button>\n",
              "    </div>\n",
              "\n",
              "<style>\n",
              "  .colab-df-quickchart {\n",
              "    background-color: #E8F0FE;\n",
              "    border: none;\n",
              "    border-radius: 50%;\n",
              "    cursor: pointer;\n",
              "    display: none;\n",
              "    fill: #1967D2;\n",
              "    height: 32px;\n",
              "    padding: 0 0 0 0;\n",
              "    width: 32px;\n",
              "  }\n",
              "\n",
              "  .colab-df-quickchart:hover {\n",
              "    background-color: #E2EBFA;\n",
              "    box-shadow: 0px 1px 2px rgba(60, 64, 67, 0.3), 0px 1px 3px 1px rgba(60, 64, 67, 0.15);\n",
              "    fill: #174EA6;\n",
              "  }\n",
              "\n",
              "  [theme=dark] .colab-df-quickchart {\n",
              "    background-color: #3B4455;\n",
              "    fill: #D2E3FC;\n",
              "  }\n",
              "\n",
              "  [theme=dark] .colab-df-quickchart:hover {\n",
              "    background-color: #434B5C;\n",
              "    box-shadow: 0px 1px 3px 1px rgba(0, 0, 0, 0.15);\n",
              "    filter: drop-shadow(0px 1px 2px rgba(0, 0, 0, 0.3));\n",
              "    fill: #FFFFFF;\n",
              "  }\n",
              "</style>\n",
              "\n",
              "    <script>\n",
              "      async function quickchart(key) {\n",
              "        const containerElement = document.querySelector('#' + key);\n",
              "        const charts = await google.colab.kernel.invokeFunction(\n",
              "            'suggestCharts', [key], {});\n",
              "      }\n",
              "    </script>\n",
              "\n",
              "      <script>\n",
              "\n",
              "function displayQuickchartButton(domScope) {\n",
              "  let quickchartButtonEl =\n",
              "    domScope.querySelector('#df-fdd5231c-3506-4734-b122-61717d96afeb button.colab-df-quickchart');\n",
              "  quickchartButtonEl.style.display =\n",
              "    google.colab.kernel.accessAllowed ? 'block' : 'none';\n",
              "}\n",
              "\n",
              "        displayQuickchartButton(document);\n",
              "      </script>\n",
              "      <style>\n",
              "    .colab-df-container {\n",
              "      display:flex;\n",
              "      flex-wrap:wrap;\n",
              "      gap: 12px;\n",
              "    }\n",
              "\n",
              "    .colab-df-convert {\n",
              "      background-color: #E8F0FE;\n",
              "      border: none;\n",
              "      border-radius: 50%;\n",
              "      cursor: pointer;\n",
              "      display: none;\n",
              "      fill: #1967D2;\n",
              "      height: 32px;\n",
              "      padding: 0 0 0 0;\n",
              "      width: 32px;\n",
              "    }\n",
              "\n",
              "    .colab-df-convert:hover {\n",
              "      background-color: #E2EBFA;\n",
              "      box-shadow: 0px 1px 2px rgba(60, 64, 67, 0.3), 0px 1px 3px 1px rgba(60, 64, 67, 0.15);\n",
              "      fill: #174EA6;\n",
              "    }\n",
              "\n",
              "    [theme=dark] .colab-df-convert {\n",
              "      background-color: #3B4455;\n",
              "      fill: #D2E3FC;\n",
              "    }\n",
              "\n",
              "    [theme=dark] .colab-df-convert:hover {\n",
              "      background-color: #434B5C;\n",
              "      box-shadow: 0px 1px 3px 1px rgba(0, 0, 0, 0.15);\n",
              "      filter: drop-shadow(0px 1px 2px rgba(0, 0, 0, 0.3));\n",
              "      fill: #FFFFFF;\n",
              "    }\n",
              "  </style>\n",
              "\n",
              "      <script>\n",
              "        const buttonEl =\n",
              "          document.querySelector('#df-3808bac5-8e25-4495-89d5-101ff957c8b2 button.colab-df-convert');\n",
              "        buttonEl.style.display =\n",
              "          google.colab.kernel.accessAllowed ? 'block' : 'none';\n",
              "\n",
              "        async function convertToInteractive(key) {\n",
              "          const element = document.querySelector('#df-3808bac5-8e25-4495-89d5-101ff957c8b2');\n",
              "          const dataTable =\n",
              "            await google.colab.kernel.invokeFunction('convertToInteractive',\n",
              "                                                     [key], {});\n",
              "          if (!dataTable) return;\n",
              "\n",
              "          const docLinkHtml = 'Like what you see? Visit the ' +\n",
              "            '<a target=\"_blank\" href=https://colab.research.google.com/notebooks/data_table.ipynb>data table notebook</a>'\n",
              "            + ' to learn more about interactive tables.';\n",
              "          element.innerHTML = '';\n",
              "          dataTable['output_type'] = 'display_data';\n",
              "          await google.colab.output.renderOutput(dataTable, element);\n",
              "          const docLink = document.createElement('div');\n",
              "          docLink.innerHTML = docLinkHtml;\n",
              "          element.appendChild(docLink);\n",
              "        }\n",
              "      </script>\n",
              "    </div>\n",
              "  </div>\n"
            ]
          },
          "metadata": {},
          "execution_count": 102
        }
      ]
    },
    {
      "cell_type": "code",
      "source": [
        "# Add training times to results comparison\n",
        "compare_results[\"training_time\"] = [total_train_time_model0,\n",
        "                                    total_train_time_model_1,\n",
        "                                    total_train_time_model2]\n",
        "compare_results"
      ],
      "metadata": {
        "colab": {
          "base_uri": "https://localhost:8080/",
          "height": 143
        },
        "id": "GfNJVyWg4xBf",
        "outputId": "a54e7662-6538-4330-a6a6-4114e4d2bdce"
      },
      "execution_count": 105,
      "outputs": [
        {
          "output_type": "execute_result",
          "data": {
            "text/plain": [
              "            model_name  model_loss  model_acc  training_time\n",
              "0  FashionMNISTModelV0    0.476639  83.426518      24.515355\n",
              "1  FashionMNISTModelV1    0.685001  75.019968      31.869088\n",
              "2  FashionMNISTModelV2    0.330450  88.049121      39.367802"
            ],
            "text/html": [
              "\n",
              "\n",
              "  <div id=\"df-25d1bcd7-7ae4-42b0-acd6-ee812e5ec463\">\n",
              "    <div class=\"colab-df-container\">\n",
              "      <div>\n",
              "<style scoped>\n",
              "    .dataframe tbody tr th:only-of-type {\n",
              "        vertical-align: middle;\n",
              "    }\n",
              "\n",
              "    .dataframe tbody tr th {\n",
              "        vertical-align: top;\n",
              "    }\n",
              "\n",
              "    .dataframe thead th {\n",
              "        text-align: right;\n",
              "    }\n",
              "</style>\n",
              "<table border=\"1\" class=\"dataframe\">\n",
              "  <thead>\n",
              "    <tr style=\"text-align: right;\">\n",
              "      <th></th>\n",
              "      <th>model_name</th>\n",
              "      <th>model_loss</th>\n",
              "      <th>model_acc</th>\n",
              "      <th>training_time</th>\n",
              "    </tr>\n",
              "  </thead>\n",
              "  <tbody>\n",
              "    <tr>\n",
              "      <th>0</th>\n",
              "      <td>FashionMNISTModelV0</td>\n",
              "      <td>0.476639</td>\n",
              "      <td>83.426518</td>\n",
              "      <td>24.515355</td>\n",
              "    </tr>\n",
              "    <tr>\n",
              "      <th>1</th>\n",
              "      <td>FashionMNISTModelV1</td>\n",
              "      <td>0.685001</td>\n",
              "      <td>75.019968</td>\n",
              "      <td>31.869088</td>\n",
              "    </tr>\n",
              "    <tr>\n",
              "      <th>2</th>\n",
              "      <td>FashionMNISTModelV2</td>\n",
              "      <td>0.330450</td>\n",
              "      <td>88.049121</td>\n",
              "      <td>39.367802</td>\n",
              "    </tr>\n",
              "  </tbody>\n",
              "</table>\n",
              "</div>\n",
              "      <button class=\"colab-df-convert\" onclick=\"convertToInteractive('df-25d1bcd7-7ae4-42b0-acd6-ee812e5ec463')\"\n",
              "              title=\"Convert this dataframe to an interactive table.\"\n",
              "              style=\"display:none;\">\n",
              "\n",
              "  <svg xmlns=\"http://www.w3.org/2000/svg\" height=\"24px\"viewBox=\"0 0 24 24\"\n",
              "       width=\"24px\">\n",
              "    <path d=\"M0 0h24v24H0V0z\" fill=\"none\"/>\n",
              "    <path d=\"M18.56 5.44l.94 2.06.94-2.06 2.06-.94-2.06-.94-.94-2.06-.94 2.06-2.06.94zm-11 1L8.5 8.5l.94-2.06 2.06-.94-2.06-.94L8.5 2.5l-.94 2.06-2.06.94zm10 10l.94 2.06.94-2.06 2.06-.94-2.06-.94-.94-2.06-.94 2.06-2.06.94z\"/><path d=\"M17.41 7.96l-1.37-1.37c-.4-.4-.92-.59-1.43-.59-.52 0-1.04.2-1.43.59L10.3 9.45l-7.72 7.72c-.78.78-.78 2.05 0 2.83L4 21.41c.39.39.9.59 1.41.59.51 0 1.02-.2 1.41-.59l7.78-7.78 2.81-2.81c.8-.78.8-2.07 0-2.86zM5.41 20L4 18.59l7.72-7.72 1.47 1.35L5.41 20z\"/>\n",
              "  </svg>\n",
              "      </button>\n",
              "\n",
              "\n",
              "\n",
              "    <div id=\"df-056b0c9d-1985-4969-90bb-0e662cd58864\">\n",
              "      <button class=\"colab-df-quickchart\" onclick=\"quickchart('df-056b0c9d-1985-4969-90bb-0e662cd58864')\"\n",
              "              title=\"Suggest charts.\"\n",
              "              style=\"display:none;\">\n",
              "\n",
              "<svg xmlns=\"http://www.w3.org/2000/svg\" height=\"24px\"viewBox=\"0 0 24 24\"\n",
              "     width=\"24px\">\n",
              "    <g>\n",
              "        <path d=\"M19 3H5c-1.1 0-2 .9-2 2v14c0 1.1.9 2 2 2h14c1.1 0 2-.9 2-2V5c0-1.1-.9-2-2-2zM9 17H7v-7h2v7zm4 0h-2V7h2v10zm4 0h-2v-4h2v4z\"/>\n",
              "    </g>\n",
              "</svg>\n",
              "      </button>\n",
              "    </div>\n",
              "\n",
              "<style>\n",
              "  .colab-df-quickchart {\n",
              "    background-color: #E8F0FE;\n",
              "    border: none;\n",
              "    border-radius: 50%;\n",
              "    cursor: pointer;\n",
              "    display: none;\n",
              "    fill: #1967D2;\n",
              "    height: 32px;\n",
              "    padding: 0 0 0 0;\n",
              "    width: 32px;\n",
              "  }\n",
              "\n",
              "  .colab-df-quickchart:hover {\n",
              "    background-color: #E2EBFA;\n",
              "    box-shadow: 0px 1px 2px rgba(60, 64, 67, 0.3), 0px 1px 3px 1px rgba(60, 64, 67, 0.15);\n",
              "    fill: #174EA6;\n",
              "  }\n",
              "\n",
              "  [theme=dark] .colab-df-quickchart {\n",
              "    background-color: #3B4455;\n",
              "    fill: #D2E3FC;\n",
              "  }\n",
              "\n",
              "  [theme=dark] .colab-df-quickchart:hover {\n",
              "    background-color: #434B5C;\n",
              "    box-shadow: 0px 1px 3px 1px rgba(0, 0, 0, 0.15);\n",
              "    filter: drop-shadow(0px 1px 2px rgba(0, 0, 0, 0.3));\n",
              "    fill: #FFFFFF;\n",
              "  }\n",
              "</style>\n",
              "\n",
              "    <script>\n",
              "      async function quickchart(key) {\n",
              "        const containerElement = document.querySelector('#' + key);\n",
              "        const charts = await google.colab.kernel.invokeFunction(\n",
              "            'suggestCharts', [key], {});\n",
              "      }\n",
              "    </script>\n",
              "\n",
              "      <script>\n",
              "\n",
              "function displayQuickchartButton(domScope) {\n",
              "  let quickchartButtonEl =\n",
              "    domScope.querySelector('#df-056b0c9d-1985-4969-90bb-0e662cd58864 button.colab-df-quickchart');\n",
              "  quickchartButtonEl.style.display =\n",
              "    google.colab.kernel.accessAllowed ? 'block' : 'none';\n",
              "}\n",
              "\n",
              "        displayQuickchartButton(document);\n",
              "      </script>\n",
              "      <style>\n",
              "    .colab-df-container {\n",
              "      display:flex;\n",
              "      flex-wrap:wrap;\n",
              "      gap: 12px;\n",
              "    }\n",
              "\n",
              "    .colab-df-convert {\n",
              "      background-color: #E8F0FE;\n",
              "      border: none;\n",
              "      border-radius: 50%;\n",
              "      cursor: pointer;\n",
              "      display: none;\n",
              "      fill: #1967D2;\n",
              "      height: 32px;\n",
              "      padding: 0 0 0 0;\n",
              "      width: 32px;\n",
              "    }\n",
              "\n",
              "    .colab-df-convert:hover {\n",
              "      background-color: #E2EBFA;\n",
              "      box-shadow: 0px 1px 2px rgba(60, 64, 67, 0.3), 0px 1px 3px 1px rgba(60, 64, 67, 0.15);\n",
              "      fill: #174EA6;\n",
              "    }\n",
              "\n",
              "    [theme=dark] .colab-df-convert {\n",
              "      background-color: #3B4455;\n",
              "      fill: #D2E3FC;\n",
              "    }\n",
              "\n",
              "    [theme=dark] .colab-df-convert:hover {\n",
              "      background-color: #434B5C;\n",
              "      box-shadow: 0px 1px 3px 1px rgba(0, 0, 0, 0.15);\n",
              "      filter: drop-shadow(0px 1px 2px rgba(0, 0, 0, 0.3));\n",
              "      fill: #FFFFFF;\n",
              "    }\n",
              "  </style>\n",
              "\n",
              "      <script>\n",
              "        const buttonEl =\n",
              "          document.querySelector('#df-25d1bcd7-7ae4-42b0-acd6-ee812e5ec463 button.colab-df-convert');\n",
              "        buttonEl.style.display =\n",
              "          google.colab.kernel.accessAllowed ? 'block' : 'none';\n",
              "\n",
              "        async function convertToInteractive(key) {\n",
              "          const element = document.querySelector('#df-25d1bcd7-7ae4-42b0-acd6-ee812e5ec463');\n",
              "          const dataTable =\n",
              "            await google.colab.kernel.invokeFunction('convertToInteractive',\n",
              "                                                     [key], {});\n",
              "          if (!dataTable) return;\n",
              "\n",
              "          const docLinkHtml = 'Like what you see? Visit the ' +\n",
              "            '<a target=\"_blank\" href=https://colab.research.google.com/notebooks/data_table.ipynb>data table notebook</a>'\n",
              "            + ' to learn more about interactive tables.';\n",
              "          element.innerHTML = '';\n",
              "          dataTable['output_type'] = 'display_data';\n",
              "          await google.colab.output.renderOutput(dataTable, element);\n",
              "          const docLink = document.createElement('div');\n",
              "          docLink.innerHTML = docLinkHtml;\n",
              "          element.appendChild(docLink);\n",
              "        }\n",
              "      </script>\n",
              "    </div>\n",
              "  </div>\n"
            ]
          },
          "metadata": {},
          "execution_count": 105
        }
      ]
    },
    {
      "cell_type": "code",
      "source": [],
      "metadata": {
        "id": "G-Fbhy4X41Zj"
      },
      "execution_count": null,
      "outputs": []
    },
    {
      "cell_type": "markdown",
      "source": [
        "### Performance-speed trade-off"
      ],
      "metadata": {
        "id": "Sc_hQFCm46v_"
      }
    },
    {
      "cell_type": "code",
      "source": [
        "# Visualize our model results\n",
        "compare_results.set_index(\"model_name\")[\"model_acc\"].plot(kind=\"barh\")\n",
        "plt.xlabel(\"accuracy (%)\")\n",
        "plt.ylabel(\"model\");"
      ],
      "metadata": {
        "colab": {
          "base_uri": "https://localhost:8080/",
          "height": 415
        },
        "id": "BVJE901749GF",
        "outputId": "104d9bad-935c-4ca6-b7c5-83543a7e0227"
      },
      "execution_count": 106,
      "outputs": [
        {
          "output_type": "display_data",
          "data": {
            "text/plain": [
              "<Figure size 640x480 with 1 Axes>"
            ],
            "image/png": "[encoded data removed]"
          },
          "metadata": {}
        }
      ]
    },
    {
      "cell_type": "markdown",
      "source": [
        "### Make and evaluate random predictions with best model"
      ],
      "metadata": {
        "id": "_GdofwrY5JAD"
      }
    },
    {
      "cell_type": "code",
      "source": [
        "def make_predictions(model: torch.nn.Module, data: list, device: torch.device = device):\n",
        "    pred_probs = []\n",
        "    model.eval()\n",
        "    with torch.inference_mode():\n",
        "        for sample in data:\n",
        "            # Prepare sample\n",
        "            sample = torch.unsqueeze(sample, dim=0).to(device) # Add an extra dimension and send sample to device\n",
        "\n",
        "            # Forward pass (model outputs raw logit)\n",
        "            pred_logit = model(sample)\n",
        "\n",
        "            # Get prediction probability (logit -> prediction probability)\n",
        "            pred_prob = torch.softmax(pred_logit.squeeze(), dim=0) # note: perform softmax on the \"logits\" dimension, not \"batch\" dimension (in this case we have a batch size of 1, so can perform on dim=0)\n",
        "\n",
        "            # Get pred_prob off GPU for further calculations\n",
        "            pred_probs.append(pred_prob.cpu())\n",
        "\n",
        "    # Stack the pred_probs to turn list into a tensor\n",
        "    return torch.stack(pred_probs)"
      ],
      "metadata": {
        "id": "8jLtn1l35At2"
      },
      "execution_count": 107,
      "outputs": []
    },
    {
      "cell_type": "code",
      "source": [
        "import random\n",
        "random.seed(42)\n",
        "test_samples = []\n",
        "test_labels = []\n",
        "for sample, label in random.sample(list(test_data), k=9):\n",
        "  test_samples.append(sample)\n",
        "  test_labels.append(label)\n",
        "\n",
        "# View the test samples\n",
        "print(f\"Test sample image shape: {test_samples[0].shape}\\nTest sample label: {test_labels[0]} ({class_names[test_labels[0]]})\")"
      ],
      "metadata": {
        "colab": {
          "base_uri": "https://localhost:8080/"
        },
        "id": "TrsK0v-g5M-p",
        "outputId": "66281a3a-b1be-45c5-9bd1-cda2f9fe4f7a"
      },
      "execution_count": 108,
      "outputs": [
        {
          "output_type": "stream",
          "name": "stdout",
          "text": [
            "Test sample image shape: torch.Size([1, 28, 28])\n",
            "Test sample label: 5 (Sandal)\n"
          ]
        }
      ]
    },
    {
      "cell_type": "code",
      "source": [
        "# Make predictions on test samples with model 2\n",
        "pred_probs= make_predictions(model=model2,\n",
        "                             data=test_samples)\n",
        "\n",
        "# View first two prediction probabilities list\n",
        "pred_probs[:2]"
      ],
      "metadata": {
        "colab": {
          "base_uri": "https://localhost:8080/"
        },
        "id": "_QznYQ-_5fq0",
        "outputId": "195627e1-fc64-40bc-9a28-7debc1fb51b8"
      },
      "execution_count": 110,
      "outputs": [
        {
          "output_type": "execute_result",
          "data": {
            "text/plain": [
              "tensor([[4.5696e-08, 7.7387e-10, 4.1119e-09, 6.4151e-09, 2.5712e-08, 9.9995e-01,\n",
              "         1.1268e-07, 2.3490e-06, 6.0359e-06, 3.7417e-05],\n",
              "        [3.0747e-01, 1.9916e-01, 3.8503e-03, 1.7894e-01, 9.7171e-02, 1.7107e-04,\n",
              "         2.1239e-01, 4.4002e-04, 3.0923e-04, 1.0591e-04]])"
            ]
          },
          "metadata": {},
          "execution_count": 110
        }
      ]
    },
    {
      "cell_type": "markdown",
      "source": [
        "And now we can use our make_predictions() function to predict on test_samples."
      ],
      "metadata": {
        "id": "7KX03D0A5puC"
      }
    },
    {
      "cell_type": "code",
      "source": [
        "# Turn the prediction probabilities into prediction labels by taking the argmax()\n",
        "pred_classes = pred_probs.argmax(dim=1)\n",
        "pred_classes"
      ],
      "metadata": {
        "colab": {
          "base_uri": "https://localhost:8080/"
        },
        "id": "nAeaMSq85iV-",
        "outputId": "1480e80b-f035-4563-8e97-15c14b399970"
      },
      "execution_count": 111,
      "outputs": [
        {
          "output_type": "execute_result",
          "data": {
            "text/plain": [
              "tensor([5, 0, 7, 4, 3, 0, 4, 7, 1])"
            ]
          },
          "metadata": {},
          "execution_count": 111
        }
      ]
    },
    {
      "cell_type": "code",
      "source": [
        "# Are our predictions in the same form as our test labels?\n",
        "test_labels, pred_classes"
      ],
      "metadata": {
        "colab": {
          "base_uri": "https://localhost:8080/"
        },
        "id": "4sAXOVm95ulN",
        "outputId": "3561b67a-260a-4e04-944c-6d849834c738"
      },
      "execution_count": 112,
      "outputs": [
        {
          "output_type": "execute_result",
          "data": {
            "text/plain": [
              "([5, 1, 7, 4, 3, 0, 4, 7, 1], tensor([5, 0, 7, 4, 3, 0, 4, 7, 1]))"
            ]
          },
          "metadata": {},
          "execution_count": 112
        }
      ]
    },
    {
      "cell_type": "code",
      "source": [
        "# Plot predictions\n",
        "plt.figure(figsize=(9, 9))\n",
        "nrows = 3\n",
        "ncols = 3\n",
        "for i, sample in enumerate(test_samples):\n",
        "  # Create a subplot\n",
        "  plt.subplot(nrows, ncols, i+1)\n",
        "\n",
        "  # Plot the target image\n",
        "  plt.imshow(sample.squeeze(), cmap=\"gray\")\n",
        "\n",
        "  # Find the prediction label (in text form, e.g. \"Sandal\")\n",
        "  pred_label = class_names[pred_classes[i]]\n",
        "\n",
        "  # Get the truth label (in text form, e.g. \"T-shirt\")\n",
        "  truth_label = class_names[test_labels[i]]\n",
        "\n",
        "  # Create the title text of the plot\n",
        "  title_text = f\"Pred: {pred_label} | Truth: {truth_label}\"\n",
        "\n",
        "  # Check for equality and change title colour accordingly\n",
        "  if pred_label == truth_label:\n",
        "      plt.title(title_text, fontsize=10, c=\"g\") # green text if correct\n",
        "  else:\n",
        "      plt.title(title_text, fontsize=10, c=\"r\") # red text if wrong\n",
        "  plt.axis(False);"
      ],
      "metadata": {
        "colab": {
          "base_uri": "https://localhost:8080/",
          "height": 662
        },
        "id": "QqXP2LZs5w3N",
        "outputId": "6a98af28-26b9-4d42-d48b-cd678932b369"
      },
      "execution_count": 113,
      "outputs": [
        {
          "output_type": "display_data",
          "data": {
            "text/plain": [
              "<Figure size 900x900 with 9 Axes>"
            ],
            "image/png": "[encoded data removed]"
          },
          "metadata": {}
        }
      ]
    },
    {
      "cell_type": "markdown",
      "source": [
        "It seems that the model was not able to classify trousers for that particular image, else it is working well"
      ],
      "metadata": {
        "id": "M2f-Xxbp57wE"
      }
    },
    {
      "cell_type": "markdown",
      "source": [
        "### Making confusion matric for further prediction evaluation"
      ],
      "metadata": {
        "id": "pRZRTx9e6Ecs"
      }
    },
    {
      "cell_type": "markdown",
      "source": [
        "![image.png](data:image/png;base64,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)"
      ],
      "metadata": {
        "id": "_F6YHU8X6LMX"
      }
    },
    {
      "cell_type": "markdown",
      "source": [
        "Making predictions using the trained model"
      ],
      "metadata": {
        "id": "c58hfhHj6PCB"
      }
    },
    {
      "cell_type": "code",
      "source": [
        "# Import tqdm for progress bar\n",
        "from tqdm.auto import tqdm\n",
        "\n",
        "# 1. Make predictions with trained model\n",
        "y_preds = []\n",
        "model2.eval()\n",
        "with torch.inference_mode():\n",
        "  for X, y in tqdm(test_dataloader, desc=\"Making predictions\"):\n",
        "    # Send data and targets to target device\n",
        "    X, y = X.to(device), y.to(device)\n",
        "\n",
        "    # forward pass\n",
        "    y_logit = model2(X)\n",
        "\n",
        "    # Turn predictions from logits -> prediction probabilities -> predictions labels\n",
        "    y_pred = torch.softmax(y_logit, dim=1).argmax(dim=1) # note: perform softmax on the \"logits\" dimension, not \"batch\" dimension (in this case we have a batch size of 32, so can perform on dim=1)\n",
        "\n",
        "    # Put predictions on CPU for evaluation\n",
        "    y_preds.append(y_pred.cpu())\n",
        "\n",
        "# Concatenate list of predictions into a tensor\n",
        "y_pred_tensor = torch.cat(y_preds)"
      ],
      "metadata": {
        "colab": {
          "base_uri": "https://localhost:8080/",
          "height": 77,
          "referenced_widgets": [
            "a2bf320f00584d19b72e85526cf42db6",
            "f851799ead3145c19eebdaf828e507b0",
            "97d3cae7ea924da7a7b409c0c938702d",
            "4906c61f3d004fa1b19b33e4677a8cdb",
            "9727a1173ccb41c1acc0e18f99b96afa",
            "4de09f6940db4629a7b58d075aeb694a",
            "0bde1c36e1f04221984b9d255a17b0b0",
            "dbc17954c613491f9b5088e40dded54a",
            "e0c2deb812f242149d0bdbc948d71261",
            "72a3c037910947fe9b41ce839083389a",
            "d10fab5aac4a4c34838f7ac9dfbbf91a"
          ]
        },
        "id": "Bxno8hyT52SQ",
        "outputId": "8bccd18a-1d36-471e-c83d-7dc877a26fbd"
      },
      "execution_count": 114,
      "outputs": [
        {
          "output_type": "display_data",
          "data": {
            "text/plain": [
              "Making predictions:   0%|          | 0/313 [00:00<?, ?it/s]"
            ],
            "application/vnd.jupyter.widget-view+json": {
              "version_major": 2,
              "version_minor": 0,
              "model_id": "a2bf320f00584d19b72e85526cf42db6"
            }
          },
          "metadata": {}
        }
      ]
    },
    {
      "cell_type": "markdown",
      "source": [
        "Installing `torchmetrics` and `mlxtend` if not installed"
      ],
      "metadata": {
        "id": "Ns8PIlDM6bFX"
      }
    },
    {
      "cell_type": "code",
      "source": [
        "# See if torchmetrics exists, if not, install it\n",
        "try:\n",
        "    import torchmetrics, mlxtend\n",
        "    print(f\"mlxtend version: {mlxtend.__version__}\")\n",
        "    assert int(mlxtend.__version__.split(\".\")[1]) >= 19, \"mlxtend verison should be 0.19.0 or higher\"\n",
        "except:\n",
        "    !pip install -q torchmetrics -U mlxtend # <- Note: If you're using Google Colab, this may require restarting the runtime\n",
        "    import torchmetrics, mlxtend\n",
        "    print(f\"mlxtend version: {mlxtend.__version__}\")"
      ],
      "metadata": {
        "colab": {
          "base_uri": "https://localhost:8080/"
        },
        "id": "tfj8S5d56WZX",
        "outputId": "ea0543c5-cbab-4b89-acf5-4d3517246678"
      },
      "execution_count": 115,
      "outputs": [
        {
          "output_type": "stream",
          "name": "stdout",
          "text": [
            "\u001b[?25l     \u001b[90m━━━━━━━━━━━━━━━━━━━━━━━━━━━━━━━━━━━━━━━━\u001b[0m \u001b[32m0.0/731.1 kB\u001b[0m \u001b[31m?\u001b[0m eta \u001b[36m-:--:--\u001b[0m\r\u001b[2K     \u001b[91m━━━━━━\u001b[0m\u001b[90m╺\u001b[0m\u001b[90m━━━━━━━━━━━━━━━━━━━━━━━━━━━━━━━━\u001b[0m \u001b[32m112.6/731.1 kB\u001b[0m \u001b[31m3.1 MB/s\u001b[0m eta \u001b[36m0:00:01\u001b[0m\r\u001b[2K     \u001b[90m━━━━━━━━━━━━━━━━━━━━━━━━━━━━━━━━━━━━━━\u001b[0m \u001b[32m731.1/731.1 kB\u001b[0m \u001b[31m12.8 MB/s\u001b[0m eta \u001b[36m0:00:00\u001b[0m\n",
            "\u001b[?25hmlxtend version: 0.22.0\n"
          ]
        }
      ]
    },
    {
      "cell_type": "code",
      "source": [
        "from torchmetrics import ConfusionMatrix\n",
        "from mlxtend.plotting import plot_confusion_matrix\n",
        "\n",
        "# 2. Setup confusion matrix instance and compare predictions to targets\n",
        "confmat = ConfusionMatrix(num_classes=len(class_names), task='multiclass')\n",
        "confmat_tensor = confmat(preds=y_pred_tensor,\n",
        "                         target=test_data.targets)\n",
        "\n",
        "# 3. Plot the confusion matrix\n",
        "fig, ax = plot_confusion_matrix(\n",
        "    conf_mat=confmat_tensor.numpy(), # matplotlib likes working with NumPy\n",
        "    class_names=class_names, # turn the row and column labels into class names\n",
        "    figsize=(10, 7)\n",
        ");"
      ],
      "metadata": {
        "colab": {
          "base_uri": "https://localhost:8080/",
          "height": 651
        },
        "id": "v72jQjbg6h6P",
        "outputId": "7084df1b-924b-4147-bd00-9adca38b85d5"
      },
      "execution_count": 116,
      "outputs": [
        {
          "output_type": "display_data",
          "data": {
            "text/plain": [
              "<Figure size 1000x700 with 1 Axes>"
            ],
            "image/png": "[encoded data removed]"
          },
          "metadata": {}
        }
      ]
    },
    {
      "cell_type": "markdown",
      "source": [
        "From the matrix, we can see that\n",
        "* The model confuses itself with shirt and t-shirt/top\n",
        "* This is same with case of coat and pullover\n",
        "* There are a few more similar cases"
      ],
      "metadata": {
        "id": "g9bBD9-56t_z"
      }
    },
    {
      "cell_type": "markdown",
      "source": [
        "### Save and load best performing model"
      ],
      "metadata": {
        "id": "CkTp9hLp6_ll"
      }
    },
    {
      "cell_type": "markdown",
      "source": [
        "Firstly, making a directory and saving the model in it"
      ],
      "metadata": {
        "id": "Syk0UPEk7v-N"
      }
    },
    {
      "cell_type": "code",
      "source": [
        "from pathlib import Path\n",
        "\n",
        "# Create the model directory\n",
        "MODEL_PATH = Path(\"models\")\n",
        "MODEL_PATH.mkdir(parents=True, # Create parent directories if needed\n",
        "                 exist_ok=True) # if already exists, then give no error\n",
        "\n",
        "# Create the model save path\n",
        "MODEL_NAME = \"cnn_computer_vision_model.pth\"\n",
        "MODEL_SAVE_PATH = MODEL_PATH / MODEL_NAME\n",
        "\n",
        "# Save the model state dict\n",
        "print(f\"Saving model to: {MODEL_SAVE_PATH}\")\n",
        "torch.save(obj=model2.state_dict(),\n",
        "           f=MODEL_SAVE_PATH)"
      ],
      "metadata": {
        "colab": {
          "base_uri": "https://localhost:8080/"
        },
        "id": "UhSaJ2Un6p3T",
        "outputId": "3a405bbe-8032-4e92-da07-e289229359a2"
      },
      "execution_count": 117,
      "outputs": [
        {
          "output_type": "stream",
          "name": "stdout",
          "text": [
            "Saving model to: models/cnn_computer_vision_model.pth\n"
          ]
        }
      ]
    },
    {
      "cell_type": "markdown",
      "source": [
        "Now, loading the saved model"
      ],
      "metadata": {
        "id": "2WndBYNR70S3"
      }
    },
    {
      "cell_type": "code",
      "source": [
        "# Create a new model instance\n",
        "loaded_model2 = FashionMNISTModelV2(input_shape=1,\n",
        "                                    hidden_units=10,\n",
        "                                    output_shape=10)\n",
        "\n",
        "# Load in the saved state_dict()\n",
        "loaded_model2.load_state_dict(torch.load(f=MODEL_SAVE_PATH))\n",
        "\n",
        "# Send model to GPU\n",
        "loaded_model2 = loaded_model2.to(device)"
      ],
      "metadata": {
        "id": "pL4XUnVJ7sah"
      },
      "execution_count": 118,
      "outputs": []
    },
    {
      "cell_type": "markdown",
      "source": [
        "Evaluating the loaded model"
      ],
      "metadata": {
        "id": "0mdzpnPU8Owg"
      }
    },
    {
      "cell_type": "code",
      "source": [
        "# Evaluate loaded model\n",
        "torch.manual_seed(42)\n",
        "\n",
        "loaded_model2_results = eval_model(\n",
        "    model=loaded_model2,\n",
        "    data_loader=test_dataloader,\n",
        "    loss_fn=loss_fn,\n",
        "    accuracy_fn=accuracy_fn\n",
        ")\n",
        "\n",
        "loaded_model2_results"
      ],
      "metadata": {
        "colab": {
          "base_uri": "https://localhost:8080/"
        },
        "id": "Dg4VuEwt8Mt_",
        "outputId": "1a5c98d2-9757-4005-f0e8-c85c0579f0b1"
      },
      "execution_count": 121,
      "outputs": [
        {
          "output_type": "execute_result",
          "data": {
            "text/plain": [
              "{'model_name': 'FashionMNISTModelV2',\n",
              " 'model_loss': 0.3304498493671417,\n",
              " 'model_acc': 88.0491214057508}"
            ]
          },
          "metadata": {},
          "execution_count": 121
        }
      ]
    },
    {
      "cell_type": "code",
      "source": [
        "model2_results"
      ],
      "metadata": {
        "colab": {
          "base_uri": "https://localhost:8080/"
        },
        "id": "0zUzr3nd8QFV",
        "outputId": "ec859b5b-157e-4b46-c2f2-5eeac555e30d"
      },
      "execution_count": 123,
      "outputs": [
        {
          "output_type": "execute_result",
          "data": {
            "text/plain": [
              "{'model_name': 'FashionMNISTModelV2',\n",
              " 'model_loss': 0.3304498493671417,\n",
              " 'model_acc': 88.0491214057508}"
            ]
          },
          "metadata": {},
          "execution_count": 123
        }
      ]
    },
    {
      "cell_type": "markdown",
      "source": [
        "Checking if the loaded model's result is close to the original model"
      ],
      "metadata": {
        "id": "0BREpg9e8aWO"
      }
    },
    {
      "cell_type": "code",
      "source": [
        "# Check to see if results are close to each other (if they are very far away, there may be an error)\n",
        "torch.isclose(torch.tensor(model2_results[\"model_loss\"]),\n",
        "              torch.tensor(loaded_model2_results[\"model_loss\"]),\n",
        "              atol=1e-08, # absolute tolerance\n",
        "              rtol=0.0001) # relative tolerance"
      ],
      "metadata": {
        "colab": {
          "base_uri": "https://localhost:8080/"
        },
        "id": "B6VYDv-18XgT",
        "outputId": "a23a4f6e-6ef8-4004-ca22-8e4e5a61df91"
      },
      "execution_count": 124,
      "outputs": [
        {
          "output_type": "execute_result",
          "data": {
            "text/plain": [
              "tensor(True)"
            ]
          },
          "metadata": {},
          "execution_count": 124
        }
      ]
    },
    {
      "cell_type": "code",
      "source": [],
      "metadata": {
        "id": "_fSDH_iM8hPi"
      },
      "execution_count": null,
      "outputs": []
    },
    {
      "cell_type": "code",
      "source": [],
      "metadata": {
        "id": "od6lKTPx8l-l"
      },
      "execution_count": null,
      "outputs": []
    }
  ]
}