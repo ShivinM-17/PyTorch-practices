{
  "nbformat": 4,
  "nbformat_minor": 0,
  "metadata": {
    "colab": {
      "provenance": [],
      "gpuType": "T4",
      "collapsed_sections": [
        "DkWMX8-Tg2E8",
        "lDCF-yS9g_HM",
        "8zOcMF6fjqAB",
        "oHd8BK4fkLb5",
        "-S5hVvZMkt4p",
        "qqYR88fAmQtZ",
        "z6soysqEoRfy",
        "H4Pu2gP_psed",
        "X0mVugdLpm5s",
        "NczpSA9atFDR",
        "2EY2IE9uzeYH",
        "7z1PXHlE0DOU",
        "X0jttoMu0buU"
      ],
      "authorship_tag": "ABX9TyM8xGtqHJrbpJg3sS2InMAm",
      "include_colab_link": true
    },
    "kernelspec": {
      "name": "python3",
      "display_name": "Python 3"
    },
    "language_info": {
      "name": "python"
    },
    "accelerator": "GPU"
  },
  "cells": [
    {
      "cell_type": "markdown",
      "metadata": {
        "id": "view-in-github",
        "colab_type": "text"
      },
      "source": [
        "<a href=\"https://colab.research.google.com/github/ShivinM-17/PyTorch-practices/blob/main/PyTorch_fundamentals.ipynb\" target=\"_parent\"><img src=\"https://colab.research.google.com/assets/colab-badge.svg\" alt=\"Open In Colab\"/></a>"
      ]
    },
    {
      "cell_type": "markdown",
      "source": [
        "### Pytorch Introduction"
      ],
      "metadata": {
        "id": "DkWMX8-Tg2E8"
      }
    },
    {
      "cell_type": "code",
      "source": [
        "import torch\n",
        "torch.__version__"
      ],
      "metadata": {
        "colab": {
          "base_uri": "https://localhost:8080/",
          "height": 36
        },
        "id": "aXgiOnnlg1mi",
        "outputId": "8226f33a-5d7b-447a-d7dd-19658ae2d673"
      },
      "execution_count": 5,
      "outputs": [
        {
          "output_type": "execute_result",
          "data": {
            "text/plain": [
              "'2.0.1+cu118'"
            ],
            "application/vnd.google.colaboratory.intrinsic+json": {
              "type": "string"
            }
          },
          "metadata": {},
          "execution_count": 5
        }
      ]
    },
    {
      "cell_type": "markdown",
      "source": [
        "### Tensors"
      ],
      "metadata": {
        "id": "_LT-FGTBg9Us"
      }
    },
    {
      "cell_type": "markdown",
      "source": [
        "#### Creating tensors"
      ],
      "metadata": {
        "id": "lDCF-yS9g_HM"
      }
    },
    {
      "cell_type": "markdown",
      "source": [
        "**Scalar** - tensor with no dimension"
      ],
      "metadata": {
        "id": "_RXoeZPPhCY3"
      }
    },
    {
      "cell_type": "code",
      "execution_count": 6,
      "metadata": {
        "colab": {
          "base_uri": "https://localhost:8080/"
        },
        "id": "YHokfYPXgdVO",
        "outputId": "415e598a-0a1b-476b-fd35-916ba02102ef"
      },
      "outputs": [
        {
          "output_type": "execute_result",
          "data": {
            "text/plain": [
              "tensor(7)"
            ]
          },
          "metadata": {},
          "execution_count": 6
        }
      ],
      "source": [
        "scalar=torch.tensor(7)\n",
        "scalar"
      ]
    },
    {
      "cell_type": "code",
      "source": [
        "# Retrieving the number from the tensor\n",
        "scalar.item()"
      ],
      "metadata": {
        "colab": {
          "base_uri": "https://localhost:8080/"
        },
        "id": "LxXNSMP6hG46",
        "outputId": "e976fa8f-db43-4e51-8365-cebbff7cf668"
      },
      "execution_count": 7,
      "outputs": [
        {
          "output_type": "execute_result",
          "data": {
            "text/plain": [
              "7"
            ]
          },
          "metadata": {},
          "execution_count": 7
        }
      ]
    },
    {
      "cell_type": "markdown",
      "source": [
        "**Vector** - tensor with 1 dimension (can have many elements)"
      ],
      "metadata": {
        "id": "FCgCclschVeY"
      }
    },
    {
      "cell_type": "code",
      "source": [
        "vector=torch.tensor([1,2,3,4])\n",
        "vector"
      ],
      "metadata": {
        "id": "-upK-E3nhTPr",
        "colab": {
          "base_uri": "https://localhost:8080/"
        },
        "outputId": "f2b156a6-02e1-4a5f-fb9c-ac9adfaedea2"
      },
      "execution_count": 8,
      "outputs": [
        {
          "output_type": "execute_result",
          "data": {
            "text/plain": [
              "tensor([1, 2, 3, 4])"
            ]
          },
          "metadata": {},
          "execution_count": 8
        }
      ]
    },
    {
      "cell_type": "code",
      "source": [
        "vector.ndim"
      ],
      "metadata": {
        "id": "EsxM6il6hdhi",
        "colab": {
          "base_uri": "https://localhost:8080/"
        },
        "outputId": "2881dbb2-ba5a-4801-b4c1-d63423ff10c4"
      },
      "execution_count": 9,
      "outputs": [
        {
          "output_type": "execute_result",
          "data": {
            "text/plain": [
              "1"
            ]
          },
          "metadata": {},
          "execution_count": 9
        }
      ]
    },
    {
      "cell_type": "code",
      "source": [
        "# checking the shape of the vector\n",
        "vector.shape"
      ],
      "metadata": {
        "id": "cW1keVkwhffA",
        "colab": {
          "base_uri": "https://localhost:8080/"
        },
        "outputId": "1325cdbf-c4b1-45e4-c29a-f37f034e9a65"
      },
      "execution_count": 10,
      "outputs": [
        {
          "output_type": "execute_result",
          "data": {
            "text/plain": [
              "torch.Size([4])"
            ]
          },
          "metadata": {},
          "execution_count": 10
        }
      ]
    },
    {
      "cell_type": "markdown",
      "source": [
        "This gives output as 4, since there are 4 elements in the tensor"
      ],
      "metadata": {
        "id": "JVdENWIkh0kM"
      }
    },
    {
      "cell_type": "markdown",
      "source": [
        "**Matrix** - this is a series of different vectors, thus having dimension as 2"
      ],
      "metadata": {
        "id": "n6-DxYt-h5EM"
      }
    },
    {
      "cell_type": "code",
      "source": [
        "matrix=torch.tensor([[1,2],[2,3]])\n",
        "matrix"
      ],
      "metadata": {
        "id": "ReACwhk9hf-o",
        "colab": {
          "base_uri": "https://localhost:8080/"
        },
        "outputId": "52dacbe7-7bd5-43d6-e4ce-bd82cf866a2d"
      },
      "execution_count": 11,
      "outputs": [
        {
          "output_type": "execute_result",
          "data": {
            "text/plain": [
              "tensor([[1, 2],\n",
              "        [2, 3]])"
            ]
          },
          "metadata": {},
          "execution_count": 11
        }
      ]
    },
    {
      "cell_type": "code",
      "source": [
        "# Checking the dimensions of the matrix\n",
        "matrix.ndim"
      ],
      "metadata": {
        "id": "XHKQzlDbhgAp",
        "colab": {
          "base_uri": "https://localhost:8080/"
        },
        "outputId": "ce44e19c-81ad-484b-dbe4-1e5fde114778"
      },
      "execution_count": 12,
      "outputs": [
        {
          "output_type": "execute_result",
          "data": {
            "text/plain": [
              "2"
            ]
          },
          "metadata": {},
          "execution_count": 12
        }
      ]
    },
    {
      "cell_type": "markdown",
      "source": [
        "Output comes as 2, since we have made a 2x2 matrix, thus 2 dimensions"
      ],
      "metadata": {
        "id": "XnHrqAlViaOx"
      }
    },
    {
      "cell_type": "code",
      "source": [
        "# Checking the shape of the matrix\n",
        "matrix.shape"
      ],
      "metadata": {
        "id": "r_Yi2mvmhgCs",
        "colab": {
          "base_uri": "https://localhost:8080/"
        },
        "outputId": "ea76a28b-60ac-4dab-a32b-9bb93b1620c2"
      },
      "execution_count": 13,
      "outputs": [
        {
          "output_type": "execute_result",
          "data": {
            "text/plain": [
              "torch.Size([2, 2])"
            ]
          },
          "metadata": {},
          "execution_count": 13
        }
      ]
    },
    {
      "cell_type": "markdown",
      "source": [
        "Output comes as [2,2] since we only have 2 row, which consists of 2 elements each"
      ],
      "metadata": {
        "id": "oCrzthbcigDl"
      }
    },
    {
      "cell_type": "markdown",
      "source": [
        "**Tensor** - tensors having n dimensions"
      ],
      "metadata": {
        "id": "DOt-S5x4ixqL"
      }
    },
    {
      "cell_type": "code",
      "source": [
        "TENSOR=torch.tensor([[1,2,3],\n",
        "                     [2,3,4],\n",
        "                     [3,4,5]])"
      ],
      "metadata": {
        "id": "zvF_gyTBhgFz"
      },
      "execution_count": 14,
      "outputs": []
    },
    {
      "cell_type": "code",
      "source": [
        "TENSOR"
      ],
      "metadata": {
        "id": "vxDmyDQKhgHp",
        "colab": {
          "base_uri": "https://localhost:8080/"
        },
        "outputId": "33cc8f35-7dc0-45e8-c0eb-0fae3544fb1d"
      },
      "execution_count": 15,
      "outputs": [
        {
          "output_type": "execute_result",
          "data": {
            "text/plain": [
              "tensor([[1, 2, 3],\n",
              "        [2, 3, 4],\n",
              "        [3, 4, 5]])"
            ]
          },
          "metadata": {},
          "execution_count": 15
        }
      ]
    },
    {
      "cell_type": "code",
      "source": [
        "# Checking the shape of the tensor\n",
        "TENSOR.shape"
      ],
      "metadata": {
        "id": "jTJYd-hthgLB",
        "colab": {
          "base_uri": "https://localhost:8080/"
        },
        "outputId": "7d6464ba-bc68-4f7f-b9f0-3e0513545f87"
      },
      "execution_count": 16,
      "outputs": [
        {
          "output_type": "execute_result",
          "data": {
            "text/plain": [
              "torch.Size([3, 3])"
            ]
          },
          "metadata": {},
          "execution_count": 16
        }
      ]
    },
    {
      "cell_type": "code",
      "source": [
        "# Checking the dimensions of the tensor\n",
        "TENSOR.ndim"
      ],
      "metadata": {
        "colab": {
          "base_uri": "https://localhost:8080/"
        },
        "id": "sOebKSWFjftf",
        "outputId": "4f919c60-2e27-4413-ff45-56103b3a1ded"
      },
      "execution_count": 18,
      "outputs": [
        {
          "output_type": "execute_result",
          "data": {
            "text/plain": [
              "2"
            ]
          },
          "metadata": {},
          "execution_count": 18
        }
      ]
    },
    {
      "cell_type": "markdown",
      "source": [
        "#### Random tensors"
      ],
      "metadata": {
        "id": "8zOcMF6fjqAB"
      }
    },
    {
      "cell_type": "code",
      "source": [
        "# Creating a random tensor of size(3,4)\n",
        "random_tensor=torch.rand(size=(3,4))\n",
        "random_tensor, random_tensor.dtype"
      ],
      "metadata": {
        "colab": {
          "base_uri": "https://localhost:8080/"
        },
        "id": "QZHIVLr9ji4M",
        "outputId": "551a0f36-c0e4-4aa0-d0aa-de84c7c7b286"
      },
      "execution_count": 19,
      "outputs": [
        {
          "output_type": "execute_result",
          "data": {
            "text/plain": [
              "(tensor([[0.3065, 0.3592, 0.4898, 0.0284],\n",
              "         [0.2644, 0.6477, 0.3683, 0.5563],\n",
              "         [0.8208, 0.0948, 0.9225, 0.0053]]),\n",
              " torch.float32)"
            ]
          },
          "metadata": {},
          "execution_count": 19
        }
      ]
    },
    {
      "cell_type": "code",
      "source": [
        "# Create a random tensor of size (224, 224, 3)\n",
        "random_tensor=torch.rand(size=(224,224,3))\n",
        "random_tensor, random_tensor.dtype"
      ],
      "metadata": {
        "colab": {
          "base_uri": "https://localhost:8080/"
        },
        "id": "kukStVMHj9CM",
        "outputId": "15ac6187-7e0e-464d-cf34-20ef244822a0"
      },
      "execution_count": 20,
      "outputs": [
        {
          "output_type": "execute_result",
          "data": {
            "text/plain": [
              "(tensor([[[0.1129, 0.2014, 0.0729],\n",
              "          [0.7569, 0.6038, 0.1097],\n",
              "          [0.9254, 0.2966, 0.3934],\n",
              "          ...,\n",
              "          [0.9061, 0.1714, 0.7553],\n",
              "          [0.9560, 0.3770, 0.1861],\n",
              "          [0.0909, 0.6581, 0.3811]],\n",
              " \n",
              "         [[0.4523, 0.9102, 0.9384],\n",
              "          [0.7032, 0.0899, 0.8657],\n",
              "          [0.3260, 0.5907, 0.1219],\n",
              "          ...,\n",
              "          [0.6183, 0.8716, 0.2722],\n",
              "          [0.0249, 0.7274, 0.3351],\n",
              "          [0.9239, 0.6722, 0.7898]],\n",
              " \n",
              "         [[0.5008, 0.0184, 0.8271],\n",
              "          [0.3545, 0.1911, 0.1454],\n",
              "          [0.5657, 0.4615, 0.2465],\n",
              "          ...,\n",
              "          [0.3150, 0.7879, 0.4120],\n",
              "          [0.8010, 0.4748, 0.2513],\n",
              "          [0.9397, 0.9675, 0.6743]],\n",
              " \n",
              "         ...,\n",
              " \n",
              "         [[0.5432, 0.0878, 0.6938],\n",
              "          [0.7390, 0.0341, 0.5725],\n",
              "          [0.2862, 0.6009, 0.8405],\n",
              "          ...,\n",
              "          [0.0225, 0.2350, 0.7639],\n",
              "          [0.7710, 0.7177, 0.4450],\n",
              "          [0.8736, 0.5070, 0.8522]],\n",
              " \n",
              "         [[0.5971, 0.7629, 0.3409],\n",
              "          [0.0855, 0.8285, 0.2130],\n",
              "          [0.3724, 0.3814, 0.7631],\n",
              "          ...,\n",
              "          [0.6099, 0.1416, 0.7375],\n",
              "          [0.4608, 0.1429, 0.5839],\n",
              "          [0.2673, 0.5553, 0.1458]],\n",
              " \n",
              "         [[0.9262, 0.1434, 0.4258],\n",
              "          [0.6542, 0.9493, 0.1874],\n",
              "          [0.5915, 0.3713, 0.7670],\n",
              "          ...,\n",
              "          [0.9880, 0.8137, 0.7377],\n",
              "          [0.6969, 0.5490, 0.2718],\n",
              "          [0.3254, 0.8030, 0.9422]]]),\n",
              " torch.float32)"
            ]
          },
          "metadata": {},
          "execution_count": 20
        }
      ]
    },
    {
      "cell_type": "markdown",
      "source": [
        "#### Zeros and Ones\n",
        "Sometimes we require the tensors to be filled with just 0's and 1's, thus creating such tensors"
      ],
      "metadata": {
        "id": "oHd8BK4fkLb5"
      }
    },
    {
      "cell_type": "code",
      "source": [
        "# Create a tensor of all zeros\n",
        "zeros=torch.zeros(size=(3,4))\n",
        "zeros"
      ],
      "metadata": {
        "colab": {
          "base_uri": "https://localhost:8080/"
        },
        "id": "FkM_JDJ1kJHO",
        "outputId": "6cc06184-5949-4f3b-f936-f892c416c59e"
      },
      "execution_count": 21,
      "outputs": [
        {
          "output_type": "execute_result",
          "data": {
            "text/plain": [
              "tensor([[0., 0., 0., 0.],\n",
              "        [0., 0., 0., 0.],\n",
              "        [0., 0., 0., 0.]])"
            ]
          },
          "metadata": {},
          "execution_count": 21
        }
      ]
    },
    {
      "cell_type": "code",
      "source": [
        "# Create a tensor of all ones\n",
        "ones=torch.zeros(size=(3,4))\n",
        "ones"
      ],
      "metadata": {
        "colab": {
          "base_uri": "https://localhost:8080/"
        },
        "id": "Sfh2X1BKklPo",
        "outputId": "9e387a5c-8fc5-4528-d6e8-174562e53761"
      },
      "execution_count": 22,
      "outputs": [
        {
          "output_type": "execute_result",
          "data": {
            "text/plain": [
              "tensor([[0., 0., 0., 0.],\n",
              "        [0., 0., 0., 0.],\n",
              "        [0., 0., 0., 0.]])"
            ]
          },
          "metadata": {},
          "execution_count": 22
        }
      ]
    },
    {
      "cell_type": "markdown",
      "source": [
        "#### Tensors with range of numbers\n",
        "\n",
        "Use ``torch.arange(start,end,step)`` to perform this.                           \n",
        "**Note:-**torch.range() is a deprecated function"
      ],
      "metadata": {
        "id": "-S5hVvZMkt4p"
      }
    },
    {
      "cell_type": "code",
      "source": [
        "# Creating a tensor with range of numbers\n",
        "tn_ranges=torch.arange(start=0,end=100,step=5)\n",
        "tn_ranges"
      ],
      "metadata": {
        "colab": {
          "base_uri": "https://localhost:8080/"
        },
        "id": "nET_FQYUkq2n",
        "outputId": "3c187f4a-bba2-46a6-9451-37458d338be9"
      },
      "execution_count": 23,
      "outputs": [
        {
          "output_type": "execute_result",
          "data": {
            "text/plain": [
              "tensor([ 0,  5, 10, 15, 20, 25, 30, 35, 40, 45, 50, 55, 60, 65, 70, 75, 80, 85,\n",
              "        90, 95])"
            ]
          },
          "metadata": {},
          "execution_count": 23
        }
      ]
    },
    {
      "cell_type": "code",
      "source": [
        "# Create a tensor similar to tn_ranges\n",
        "tn_similar=torch.zeros_like(input=tn_ranges)\n",
        "tn_similar"
      ],
      "metadata": {
        "colab": {
          "base_uri": "https://localhost:8080/"
        },
        "id": "bB_JPWSolxQ-",
        "outputId": "d83b7c62-3ff4-4c8c-ceaf-34cfe7e23c3c"
      },
      "execution_count": 24,
      "outputs": [
        {
          "output_type": "execute_result",
          "data": {
            "text/plain": [
              "tensor([0, 0, 0, 0, 0, 0, 0, 0, 0, 0, 0, 0, 0, 0, 0, 0, 0, 0, 0, 0])"
            ]
          },
          "metadata": {},
          "execution_count": 24
        }
      ]
    },
    {
      "cell_type": "markdown",
      "source": [
        "#### Tensor Datatypes\n",
        "Default datatype of tensor - float32"
      ],
      "metadata": {
        "id": "qqYR88fAmQtZ"
      }
    },
    {
      "cell_type": "code",
      "source": [
        "# Creating the tensor with default tensor datatype\n",
        "tens=torch.tensor([3.0, 6.0, 9.0],\n",
        "                  dtype=None,  # defaults to None, i.e, float32\n",
        "                  device=None, # defaults to None, which uses the default type\n",
        "                  requires_grad=False) # if true, operations performed as recorded\n",
        "tens, tens.shape, tens.dtype, tens.device"
      ],
      "metadata": {
        "colab": {
          "base_uri": "https://localhost:8080/"
        },
        "id": "2CdBcP6YmM7z",
        "outputId": "9ace5646-3905-4453-fb06-b2685dda5a72"
      },
      "execution_count": 27,
      "outputs": [
        {
          "output_type": "execute_result",
          "data": {
            "text/plain": [
              "(tensor([3., 6., 9.]), torch.Size([3]), torch.float32, device(type='cpu'))"
            ]
          },
          "metadata": {},
          "execution_count": 27
        }
      ]
    },
    {
      "cell_type": "code",
      "source": [
        "# Creating a tensor with float16 datatype\n",
        "tens=torch.tensor([3.0, 6.0, 9.0],\n",
        "                  dtype=torch.float16)\n",
        "tens, tens.shape, tens.dtype, tens.ndim"
      ],
      "metadata": {
        "colab": {
          "base_uri": "https://localhost:8080/"
        },
        "id": "i3R4kjDQnpl-",
        "outputId": "41ed9c26-8716-46f5-9c2c-86ac192de5d9"
      },
      "execution_count": 29,
      "outputs": [
        {
          "output_type": "execute_result",
          "data": {
            "text/plain": [
              "(tensor([3., 6., 9.], dtype=torch.float16), torch.Size([3]), torch.float16, 1)"
            ]
          },
          "metadata": {},
          "execution_count": 29
        }
      ]
    },
    {
      "cell_type": "code",
      "source": [],
      "metadata": {
        "id": "4I4m3pLaoCEq"
      },
      "execution_count": null,
      "outputs": []
    },
    {
      "cell_type": "markdown",
      "source": [
        "### Getting information from tensors\n",
        "eg.- shape, dtype and device"
      ],
      "metadata": {
        "id": "z6soysqEoRfy"
      }
    },
    {
      "cell_type": "code",
      "source": [
        "# Creating a random tensor\n",
        "tens=torch.rand(3,4)\n",
        "\n",
        "# Getting the details of the tensor\n",
        "print(tens)\n",
        "print(f\"Shape of the tensor is {tens.shape}\")\n",
        "print(f\"Datatype of the tensor is {tens.dtype}\")\n",
        "print(f\"Device tensor is stored on {tens.device}\")"
      ],
      "metadata": {
        "colab": {
          "base_uri": "https://localhost:8080/"
        },
        "id": "zQzt61kLoYBQ",
        "outputId": "277a92ca-855c-4e6f-d9d4-07841d3b1ece"
      },
      "execution_count": 30,
      "outputs": [
        {
          "output_type": "stream",
          "name": "stdout",
          "text": [
            "tensor([[0.5635, 0.9325, 0.5801, 0.3655],\n",
            "        [0.1261, 0.1399, 0.2188, 0.0104],\n",
            "        [0.6034, 0.5312, 0.0157, 0.6259]])\n",
            "Shape of the tensor is torch.Size([3, 4])\n",
            "Datatype of the tensor is torch.float32\n",
            "Device tensor is stored on cpu\n"
          ]
        }
      ]
    },
    {
      "cell_type": "markdown",
      "source": [
        "### Tensor operations"
      ],
      "metadata": {
        "id": "SKuB7DJkouMj"
      }
    },
    {
      "cell_type": "markdown",
      "source": [
        "#### Performing operations\n",
        "operations like addition, subtraction, multiplication, division, etc."
      ],
      "metadata": {
        "id": "H4Pu2gP_psed"
      }
    },
    {
      "cell_type": "code",
      "source": [
        "# Adding a number to a tensor\n",
        "tens=torch.rand(3,4)\n",
        "tens+10"
      ],
      "metadata": {
        "colab": {
          "base_uri": "https://localhost:8080/"
        },
        "id": "3bhWmGO0or0d",
        "outputId": "c2f1ec8d-662b-4abe-e335-a4d0fbe81ec3"
      },
      "execution_count": 31,
      "outputs": [
        {
          "output_type": "execute_result",
          "data": {
            "text/plain": [
              "tensor([[10.0790, 10.4467, 10.9160, 10.0118],\n",
              "        [10.6188, 10.9013, 10.7313, 10.7023],\n",
              "        [10.3311, 10.6848, 10.2263, 10.5454]])"
            ]
          },
          "metadata": {},
          "execution_count": 31
        }
      ]
    },
    {
      "cell_type": "code",
      "source": [
        "# Multiplying a number to a tensor\n",
        "tens*10"
      ],
      "metadata": {
        "colab": {
          "base_uri": "https://localhost:8080/"
        },
        "id": "jymgVygwo2iH",
        "outputId": "7954cf92-7d15-4cc1-b46c-0c0b0767df93"
      },
      "execution_count": 33,
      "outputs": [
        {
          "output_type": "execute_result",
          "data": {
            "text/plain": [
              "tensor([[0.7901, 4.4671, 9.1604, 0.1177],\n",
              "        [6.1884, 9.0131, 7.3128, 7.0229],\n",
              "        [3.3106, 6.8480, 2.2632, 5.4541]])"
            ]
          },
          "metadata": {},
          "execution_count": 33
        }
      ]
    },
    {
      "cell_type": "code",
      "source": [
        "# Even after such operations, original tensor does not change\n",
        "tens"
      ],
      "metadata": {
        "colab": {
          "base_uri": "https://localhost:8080/"
        },
        "id": "oE8UOzz2o2j-",
        "outputId": "81cb6c32-fc18-4e4a-8029-5c44ec8dbbeb"
      },
      "execution_count": 34,
      "outputs": [
        {
          "output_type": "execute_result",
          "data": {
            "text/plain": [
              "tensor([[0.0790, 0.4467, 0.9160, 0.0118],\n",
              "        [0.6188, 0.9013, 0.7313, 0.7023],\n",
              "        [0.3311, 0.6848, 0.2263, 0.5454]])"
            ]
          },
          "metadata": {},
          "execution_count": 34
        }
      ]
    },
    {
      "cell_type": "code",
      "source": [
        "# Subtracting values\n",
        "tens=torch.tensor([1,2,3,4])\n",
        "tens-10"
      ],
      "metadata": {
        "colab": {
          "base_uri": "https://localhost:8080/"
        },
        "id": "trI8q62ko2l7",
        "outputId": "5d5c3e4a-02d6-4801-f003-c055aaeed6fe"
      },
      "execution_count": 35,
      "outputs": [
        {
          "output_type": "execute_result",
          "data": {
            "text/plain": [
              "tensor([-9, -8, -7, -6])"
            ]
          },
          "metadata": {},
          "execution_count": 35
        }
      ]
    },
    {
      "cell_type": "code",
      "source": [
        "# Performing element-wise multiplication of the tensor\n",
        "tens*tens"
      ],
      "metadata": {
        "colab": {
          "base_uri": "https://localhost:8080/"
        },
        "id": "TXuxfjF_o2nI",
        "outputId": "6056cf5b-b2c5-49a4-da16-0d795729f160"
      },
      "execution_count": 36,
      "outputs": [
        {
          "output_type": "execute_result",
          "data": {
            "text/plain": [
              "tensor([ 1,  4,  9, 16])"
            ]
          },
          "metadata": {},
          "execution_count": 36
        }
      ]
    },
    {
      "cell_type": "code",
      "source": [],
      "metadata": {
        "id": "g90ZiHUIpzoe"
      },
      "execution_count": null,
      "outputs": []
    },
    {
      "cell_type": "markdown",
      "source": [
        "#### Matrix multiplication\n",
        "\n",
        "* Element-wise multiplication - ``tensor*tensor``\n",
        "* Matrix multiplication - ``torch.matmul(tensor, tensor)``"
      ],
      "metadata": {
        "id": "X0mVugdLpm5s"
      }
    },
    {
      "cell_type": "code",
      "source": [
        "# Creating a tensor\n",
        "tensor = torch.tensor([1, 2, 3])\n",
        "tensor.shape"
      ],
      "metadata": {
        "colab": {
          "base_uri": "https://localhost:8080/"
        },
        "id": "SuIHJl9JsOGP",
        "outputId": "cce08f53-9316-427f-cc52-d8fdd19d0070"
      },
      "execution_count": 37,
      "outputs": [
        {
          "output_type": "execute_result",
          "data": {
            "text/plain": [
              "torch.Size([3])"
            ]
          },
          "metadata": {},
          "execution_count": 37
        }
      ]
    },
    {
      "cell_type": "code",
      "source": [
        "# Element-wise matrix multiplication\n",
        "tensor*tensor"
      ],
      "metadata": {
        "colab": {
          "base_uri": "https://localhost:8080/"
        },
        "id": "gXzGMR8do2pD",
        "outputId": "7a4e324d-ecb3-4245-d14a-cc83b5c3760b"
      },
      "execution_count": 38,
      "outputs": [
        {
          "output_type": "execute_result",
          "data": {
            "text/plain": [
              "tensor([1, 4, 9])"
            ]
          },
          "metadata": {},
          "execution_count": 38
        }
      ]
    },
    {
      "cell_type": "code",
      "source": [
        "# Matrix multiplication\n",
        "torch.matmul(tensor, tensor)"
      ],
      "metadata": {
        "colab": {
          "base_uri": "https://localhost:8080/"
        },
        "id": "S1USZkvRo2q4",
        "outputId": "781a35db-6ab3-43f3-9eed-023c74268c21"
      },
      "execution_count": 40,
      "outputs": [
        {
          "output_type": "execute_result",
          "data": {
            "text/plain": [
              "tensor(14)"
            ]
          },
          "metadata": {},
          "execution_count": 40
        }
      ]
    },
    {
      "cell_type": "code",
      "source": [
        "# using @ to multiply\n",
        "tensor @ tensor"
      ],
      "metadata": {
        "colab": {
          "base_uri": "https://localhost:8080/"
        },
        "id": "C9ql79jho2sP",
        "outputId": "3ae1961b-db2b-4804-d3db-bdb9914c0dbd"
      },
      "execution_count": 41,
      "outputs": [
        {
          "output_type": "execute_result",
          "data": {
            "text/plain": [
              "tensor(14)"
            ]
          },
          "metadata": {},
          "execution_count": 41
        }
      ]
    },
    {
      "cell_type": "code",
      "source": [
        "# Getting the time taken for multiplication\n",
        "%%time\n",
        "torch.matmul(tensor, tensor)"
      ],
      "metadata": {
        "colab": {
          "base_uri": "https://localhost:8080/"
        },
        "id": "BqITVKxwo2uL",
        "outputId": "f055275e-f028-4e0e-cd2a-bca7b63d301a"
      },
      "execution_count": 43,
      "outputs": [
        {
          "output_type": "stream",
          "name": "stdout",
          "text": [
            "CPU times: user 91 µs, sys: 4 µs, total: 95 µs\n",
            "Wall time: 98.5 µs\n"
          ]
        },
        {
          "output_type": "execute_result",
          "data": {
            "text/plain": [
              "tensor(14)"
            ]
          },
          "metadata": {},
          "execution_count": 43
        }
      ]
    },
    {
      "cell_type": "code",
      "source": [],
      "metadata": {
        "id": "nhwOnsXCo2xJ"
      },
      "execution_count": null,
      "outputs": []
    },
    {
      "cell_type": "markdown",
      "source": [
        "#### Shape errors in multiplication"
      ],
      "metadata": {
        "id": "NczpSA9atFDR"
      }
    },
    {
      "cell_type": "code",
      "source": [
        "# Shapes need to be in the right way\n",
        "tensor_A = torch.tensor([[1, 2],\n",
        "                         [3, 4],\n",
        "                         [5, 6]], dtype=torch.float32)\n",
        "\n",
        "tensor_B = torch.tensor([[7, 10],\n",
        "                         [8, 11],\n",
        "                         [9, 12]], dtype=torch.float32)\n",
        "\n",
        "torch.matmul(tensor_A, tensor_B) # (this will error)"
      ],
      "metadata": {
        "colab": {
          "base_uri": "https://localhost:8080/",
          "height": 200
        },
        "id": "bhEr2xNfo20p",
        "outputId": "4377b402-959e-41a7-ad68-2540bdf3e7ff"
      },
      "execution_count": 44,
      "outputs": [
        {
          "output_type": "error",
          "ename": "RuntimeError",
          "evalue": "ignored",
          "traceback": [
            "\u001b[0;31m---------------------------------------------------------------------------\u001b[0m",
            "\u001b[0;31mRuntimeError\u001b[0m                              Traceback (most recent call last)",
            "\u001b[0;32m<ipython-input-44-aceec990e652>\u001b[0m in \u001b[0;36m<cell line: 10>\u001b[0;34m()\u001b[0m\n\u001b[1;32m      8\u001b[0m                          [9, 12]], dtype=torch.float32)\n\u001b[1;32m      9\u001b[0m \u001b[0;34m\u001b[0m\u001b[0m\n\u001b[0;32m---> 10\u001b[0;31m \u001b[0mtorch\u001b[0m\u001b[0;34m.\u001b[0m\u001b[0mmatmul\u001b[0m\u001b[0;34m(\u001b[0m\u001b[0mtensor_A\u001b[0m\u001b[0;34m,\u001b[0m \u001b[0mtensor_B\u001b[0m\u001b[0;34m)\u001b[0m \u001b[0;31m# (this will error)\u001b[0m\u001b[0;34m\u001b[0m\u001b[0;34m\u001b[0m\u001b[0m\n\u001b[0m",
            "\u001b[0;31mRuntimeError\u001b[0m: mat1 and mat2 shapes cannot be multiplied (3x2 and 3x2)"
          ]
        }
      ]
    },
    {
      "cell_type": "markdown",
      "source": [
        "This gives an error, since we can't multiply 2 (3x2) tensor.\n",
        "\n",
        "Multiplication can only have, given that the matrices are of form (mxn) and (nxp)"
      ],
      "metadata": {
        "id": "0vAdOfK5tQxl"
      }
    },
    {
      "cell_type": "code",
      "source": [
        "print(tensor_A)\n",
        "print(tensor_B)"
      ],
      "metadata": {
        "colab": {
          "base_uri": "https://localhost:8080/"
        },
        "id": "X89poxFXtNt7",
        "outputId": "4da4a32b-ee85-4134-98ad-195d2e38b284"
      },
      "execution_count": 45,
      "outputs": [
        {
          "output_type": "stream",
          "name": "stdout",
          "text": [
            "tensor([[1., 2.],\n",
            "        [3., 4.],\n",
            "        [5., 6.]])\n",
            "tensor([[ 7., 10.],\n",
            "        [ 8., 11.],\n",
            "        [ 9., 12.]])\n"
          ]
        }
      ]
    },
    {
      "cell_type": "code",
      "source": [
        "print(tensor_A)\n",
        "print(tensor_B.T)"
      ],
      "metadata": {
        "colab": {
          "base_uri": "https://localhost:8080/"
        },
        "id": "aBXdSy3ptmNt",
        "outputId": "8b14138a-7b3f-4b54-ded8-97f22807e6b2"
      },
      "execution_count": 46,
      "outputs": [
        {
          "output_type": "stream",
          "name": "stdout",
          "text": [
            "tensor([[1., 2.],\n",
            "        [3., 4.],\n",
            "        [5., 6.]])\n",
            "tensor([[ 7.,  8.,  9.],\n",
            "        [10., 11., 12.]])\n"
          ]
        }
      ]
    },
    {
      "cell_type": "code",
      "source": [
        "torch.matmul(tensor_A, tensor_B.T)"
      ],
      "metadata": {
        "colab": {
          "base_uri": "https://localhost:8080/"
        },
        "id": "3sDHe12ttnx_",
        "outputId": "62f521e3-f519-4dd1-a5b0-d80787a2cae9"
      },
      "execution_count": 47,
      "outputs": [
        {
          "output_type": "execute_result",
          "data": {
            "text/plain": [
              "tensor([[ 27.,  30.,  33.],\n",
              "        [ 61.,  68.,  75.],\n",
              "        [ 95., 106., 117.]])"
            ]
          },
          "metadata": {},
          "execution_count": 47
        }
      ]
    },
    {
      "cell_type": "code",
      "source": [
        "# The operation works when tensor_B is transposed\n",
        "print(f\"Original shapes: tensor_A = {tensor_A.shape},\\n tensor_B = {tensor_B.shape}\\n\")\n",
        "print(f\"New shapes: tensor_A = {tensor_A.shape} (same as above),\\n tensor_B.T = {tensor_B.T.shape}\\n\")\n",
        "print(f\"Multiplying: {tensor_A.shape} * {tensor_B.T.shape} <- inner dimensions match\\n\")\n",
        "print(\"Output:\\n\")\n",
        "output = torch.matmul(tensor_A, tensor_B.T)\n",
        "print(output)\n",
        "print(f\"\\nOutput shape: {output.shape}\")"
      ],
      "metadata": {
        "colab": {
          "base_uri": "https://localhost:8080/"
        },
        "id": "DMpcgbNPtreP",
        "outputId": "e8b01df1-7c09-478f-ee68-03b87a1c35a3"
      },
      "execution_count": 49,
      "outputs": [
        {
          "output_type": "stream",
          "name": "stdout",
          "text": [
            "Original shapes: tensor_A = torch.Size([3, 2]),\n",
            " tensor_B = torch.Size([3, 2])\n",
            "\n",
            "New shapes: tensor_A = torch.Size([3, 2]) (same as above),\n",
            " tensor_B.T = torch.Size([2, 3])\n",
            "\n",
            "Multiplying: torch.Size([3, 2]) * torch.Size([2, 3]) <- inner dimensions match\n",
            "\n",
            "Output:\n",
            "\n",
            "tensor([[ 27.,  30.,  33.],\n",
            "        [ 61.,  68.,  75.],\n",
            "        [ 95., 106., 117.]])\n",
            "\n",
            "Output shape: torch.Size([3, 3])\n"
          ]
        }
      ]
    },
    {
      "cell_type": "code",
      "source": [
        "# torch.mm is a shortcut for matmul\n",
        "torch.mm(tensor_A, tensor_B.T)"
      ],
      "metadata": {
        "colab": {
          "base_uri": "https://localhost:8080/"
        },
        "id": "SyYFvJ9ettvX",
        "outputId": "e33550aa-78e7-4be8-bfd9-3e5fd842d4fe"
      },
      "execution_count": 50,
      "outputs": [
        {
          "output_type": "execute_result",
          "data": {
            "text/plain": [
              "tensor([[ 27.,  30.,  33.],\n",
              "        [ 61.,  68.,  75.],\n",
              "        [ 95., 106., 117.]])"
            ]
          },
          "metadata": {},
          "execution_count": 50
        }
      ]
    },
    {
      "cell_type": "markdown",
      "source": [
        "#### Finding min, max, mean, sum, etc. (aggregation)"
      ],
      "metadata": {
        "id": "2EY2IE9uzeYH"
      }
    },
    {
      "cell_type": "code",
      "source": [
        "# Create a tensor\n",
        "x=torch.arange(0,100,10)\n",
        "x"
      ],
      "metadata": {
        "colab": {
          "base_uri": "https://localhost:8080/"
        },
        "id": "x2ic8PD6t1vc",
        "outputId": "8abd3f37-2d40-47f6-e49a-bfaaefebd8b6"
      },
      "execution_count": 52,
      "outputs": [
        {
          "output_type": "execute_result",
          "data": {
            "text/plain": [
              "tensor([ 0, 10, 20, 30, 40, 50, 60, 70, 80, 90])"
            ]
          },
          "metadata": {},
          "execution_count": 52
        }
      ]
    },
    {
      "cell_type": "code",
      "source": [
        "print(f\"Minimum: {x.min()}\")\n",
        "print(f\"Maximum: {x.max()}\")\n",
        "# print(f\"Mean: {x.mean()}\") --> will give an error\n",
        "print(f\"Mean: {x.type(torch.float32).mean()}\")\n",
        "print(f\"Sum: {x.sum()}\")"
      ],
      "metadata": {
        "colab": {
          "base_uri": "https://localhost:8080/"
        },
        "id": "cfcreKYmznCt",
        "outputId": "013a3657-90f6-4a17-90bf-6bd1d849ade3"
      },
      "execution_count": 53,
      "outputs": [
        {
          "output_type": "stream",
          "name": "stdout",
          "text": [
            "Minimum: 0\n",
            "Maximum: 90\n",
            "Mean: 45.0\n",
            "Sum: 450\n"
          ]
        }
      ]
    },
    {
      "cell_type": "code",
      "source": [
        "torch.max(x), torch.min(x), torch.mean(x.type(torch.float32)), torch.sum(x)"
      ],
      "metadata": {
        "colab": {
          "base_uri": "https://localhost:8080/"
        },
        "id": "EUm460Xtz92e",
        "outputId": "1ae73b28-5c31-488b-9119-be586e53b5ae"
      },
      "execution_count": 54,
      "outputs": [
        {
          "output_type": "execute_result",
          "data": {
            "text/plain": [
              "(tensor(90), tensor(0), tensor(45.), tensor(450))"
            ]
          },
          "metadata": {},
          "execution_count": 54
        }
      ]
    },
    {
      "cell_type": "markdown",
      "source": [
        "#### Positional min/max\n",
        "Finding the index of the maximum or minimum occurance in a tensor"
      ],
      "metadata": {
        "id": "7z1PXHlE0DOU"
      }
    },
    {
      "cell_type": "code",
      "source": [
        "tensor=torch.arange(10,100,10)\n",
        "print(f\"Tensor: {tensor}\")\n",
        "\n",
        "# Returning index of maximum and minimum indexes\n",
        "print(f\"Minimum index: {tensor.argmin()}\")\n",
        "print(f\"Maximum index: {tensor.argmax()}\")"
      ],
      "metadata": {
        "colab": {
          "base_uri": "https://localhost:8080/"
        },
        "id": "huw3BXls0AyQ",
        "outputId": "cb9cdc7f-f651-45d5-8cbc-6022775f459e"
      },
      "execution_count": 55,
      "outputs": [
        {
          "output_type": "stream",
          "name": "stdout",
          "text": [
            "Tensor: tensor([10, 20, 30, 40, 50, 60, 70, 80, 90])\n",
            "Minimum index: 0\n",
            "Maximum index: 8\n"
          ]
        }
      ]
    },
    {
      "cell_type": "markdown",
      "source": [
        "#### Change tensor datatype"
      ],
      "metadata": {
        "id": "X0jttoMu0buU"
      }
    },
    {
      "cell_type": "code",
      "source": [
        "# Create a tensor\n",
        "tensor=torch.arange(10., 100., 10.)  # float32 datatype\n",
        "tensor.dtype"
      ],
      "metadata": {
        "colab": {
          "base_uri": "https://localhost:8080/"
        },
        "id": "cLojDS1h0Z7b",
        "outputId": "a13ad16d-c57c-49f2-92dc-d50dc3c0c3c2"
      },
      "execution_count": 58,
      "outputs": [
        {
          "output_type": "execute_result",
          "data": {
            "text/plain": [
              "torch.float32"
            ]
          },
          "metadata": {},
          "execution_count": 58
        }
      ]
    },
    {
      "cell_type": "code",
      "source": [
        "# Creating a float16 tensor\n",
        "tens_16=tensor.type(torch.float16)\n",
        "tens_16"
      ],
      "metadata": {
        "colab": {
          "base_uri": "https://localhost:8080/"
        },
        "id": "4ZWE0LgS0uWh",
        "outputId": "ef3c5ff1-1dce-4353-fad9-bbc9c4a49d11"
      },
      "execution_count": 59,
      "outputs": [
        {
          "output_type": "execute_result",
          "data": {
            "text/plain": [
              "tensor([10., 20., 30., 40., 50., 60., 70., 80., 90.], dtype=torch.float16)"
            ]
          },
          "metadata": {},
          "execution_count": 59
        }
      ]
    },
    {
      "cell_type": "code",
      "source": [
        "# Create a int8 tensor\n",
        "tens_8=tensor.type(torch.int8)\n",
        "tens_8"
      ],
      "metadata": {
        "colab": {
          "base_uri": "https://localhost:8080/"
        },
        "id": "p7k6Ho3C02Ic",
        "outputId": "7e43c31c-3a61-4549-acbe-03fd89868813"
      },
      "execution_count": 60,
      "outputs": [
        {
          "output_type": "execute_result",
          "data": {
            "text/plain": [
              "tensor([10, 20, 30, 40, 50, 60, 70, 80, 90], dtype=torch.int8)"
            ]
          },
          "metadata": {},
          "execution_count": 60
        }
      ]
    },
    {
      "cell_type": "code",
      "source": [],
      "metadata": {
        "id": "qRxCTWtI0_Hb"
      },
      "execution_count": null,
      "outputs": []
    },
    {
      "cell_type": "markdown",
      "source": [
        "### Reshaping, stacking, squeezing and unsqueezing"
      ],
      "metadata": {
        "id": "osz2WOtE1Ayo"
      }
    },
    {
      "cell_type": "code",
      "source": [
        "# Creating a tensor\n",
        "import torch\n",
        "x=torch.arange(1.,8.)\n",
        "x, x.shape"
      ],
      "metadata": {
        "colab": {
          "base_uri": "https://localhost:8080/"
        },
        "id": "D369gexa1E6R",
        "outputId": "5dac3150-d1fb-4b06-d5cb-37330903bca2"
      },
      "execution_count": 61,
      "outputs": [
        {
          "output_type": "execute_result",
          "data": {
            "text/plain": [
              "(tensor([1., 2., 3., 4., 5., 6., 7.]), torch.Size([7]))"
            ]
          },
          "metadata": {},
          "execution_count": 61
        }
      ]
    },
    {
      "cell_type": "markdown",
      "source": [
        "Adding an extra dimension using ``torch.reshape()``"
      ],
      "metadata": {
        "id": "UVFjb-Ut1X2M"
      }
    },
    {
      "cell_type": "code",
      "source": [
        "x_reshaped=x.reshape(1,7)\n",
        "x_reshaped, x_reshaped.shape"
      ],
      "metadata": {
        "colab": {
          "base_uri": "https://localhost:8080/"
        },
        "id": "_MEf154b1XAW",
        "outputId": "5fb8a07b-3a46-42fe-f24f-52cddccbd7da"
      },
      "execution_count": 63,
      "outputs": [
        {
          "output_type": "execute_result",
          "data": {
            "text/plain": [
              "(tensor([[1., 2., 3., 4., 5., 6., 7.]]), torch.Size([1, 7]))"
            ]
          },
          "metadata": {},
          "execution_count": 63
        }
      ]
    },
    {
      "cell_type": "markdown",
      "source": [
        "Changing the view with ``torch.view()``"
      ],
      "metadata": {
        "id": "Hhq4HUdJ1i1T"
      }
    },
    {
      "cell_type": "code",
      "source": [
        "z=x.view(1,7)\n",
        "z, z.shape"
      ],
      "metadata": {
        "colab": {
          "base_uri": "https://localhost:8080/"
        },
        "id": "TZ22nXXe1fnP",
        "outputId": "e629e572-8678-49e8-ea05-ef7198894dae"
      },
      "execution_count": 64,
      "outputs": [
        {
          "output_type": "execute_result",
          "data": {
            "text/plain": [
              "(tensor([[1., 2., 3., 4., 5., 6., 7.]]), torch.Size([1, 7]))"
            ]
          },
          "metadata": {},
          "execution_count": 64
        }
      ]
    },
    {
      "cell_type": "code",
      "source": [
        "x"
      ],
      "metadata": {
        "colab": {
          "base_uri": "https://localhost:8080/"
        },
        "id": "CT7e6s_s1pAM",
        "outputId": "22bd1014-cd26-40bd-8ce3-94d9a1a0cc30"
      },
      "execution_count": 65,
      "outputs": [
        {
          "output_type": "execute_result",
          "data": {
            "text/plain": [
              "tensor([1., 2., 3., 4., 5., 6., 7.])"
            ]
          },
          "metadata": {},
          "execution_count": 65
        }
      ]
    },
    {
      "cell_type": "markdown",
      "source": [
        "**Note:-** Remember that using torch.view() also changes the original tensor"
      ],
      "metadata": {
        "id": "qdAlcRBp1the"
      }
    },
    {
      "cell_type": "code",
      "source": [
        "# Changing z changes x\n",
        "z[:, 0] = 5\n",
        "z, x"
      ],
      "metadata": {
        "colab": {
          "base_uri": "https://localhost:8080/"
        },
        "id": "odldgjq-1tGV",
        "outputId": "bf7de164-1bc5-490a-e76d-a28f36d672ff"
      },
      "execution_count": 66,
      "outputs": [
        {
          "output_type": "execute_result",
          "data": {
            "text/plain": [
              "(tensor([[5., 2., 3., 4., 5., 6., 7.]]), tensor([5., 2., 3., 4., 5., 6., 7.]))"
            ]
          },
          "metadata": {},
          "execution_count": 66
        }
      ]
    },
    {
      "cell_type": "markdown",
      "source": [
        "Stacking the tensor on top of itself, using ``torch.stack()``"
      ],
      "metadata": {
        "id": "f2_MLLGV17x5"
      }
    },
    {
      "cell_type": "code",
      "source": [
        "x_stacked = torch.stack([x,x,x,x], dim=0)\n",
        "x_stacked"
      ],
      "metadata": {
        "colab": {
          "base_uri": "https://localhost:8080/"
        },
        "id": "ZoESpd3C17Ex",
        "outputId": "f51be625-b6c9-4a1d-eff5-8bd3f5e8be12"
      },
      "execution_count": 67,
      "outputs": [
        {
          "output_type": "execute_result",
          "data": {
            "text/plain": [
              "tensor([[5., 2., 3., 4., 5., 6., 7.],\n",
              "        [5., 2., 3., 4., 5., 6., 7.],\n",
              "        [5., 2., 3., 4., 5., 6., 7.],\n",
              "        [5., 2., 3., 4., 5., 6., 7.]])"
            ]
          },
          "metadata": {},
          "execution_count": 67
        }
      ]
    },
    {
      "cell_type": "code",
      "source": [
        "x_stacked = torch.stack([x,x,x,x], dim=1)\n",
        "x_stacked"
      ],
      "metadata": {
        "colab": {
          "base_uri": "https://localhost:8080/"
        },
        "id": "IswGNRDx2Gxs",
        "outputId": "fb4f964a-2be7-4d02-cf90-1d8f7b12e06f"
      },
      "execution_count": 68,
      "outputs": [
        {
          "output_type": "execute_result",
          "data": {
            "text/plain": [
              "tensor([[5., 5., 5., 5.],\n",
              "        [2., 2., 2., 2.],\n",
              "        [3., 3., 3., 3.],\n",
              "        [4., 4., 4., 4.],\n",
              "        [5., 5., 5., 5.],\n",
              "        [6., 6., 6., 6.],\n",
              "        [7., 7., 7., 7.]])"
            ]
          },
          "metadata": {},
          "execution_count": 68
        }
      ]
    },
    {
      "cell_type": "markdown",
      "source": [
        "Using ``torch.squeeze()`` to squeeze the tensor, i.e., changing the tensor to a dimension of 1"
      ],
      "metadata": {
        "id": "8dNSSTdE2LDX"
      }
    },
    {
      "cell_type": "code",
      "source": [
        "print(f\"Previous tensor: {x_reshaped}\")\n",
        "print(f\"Previous shape: {x_reshaped.shape}\")\n",
        "\n",
        "# Remove extra dimension from x_reshaped\n",
        "x_squeezed = x_reshaped.squeeze()\n",
        "print(f\"\\nNew tensor: {x_squeezed}\")\n",
        "print(f\"New shape: {x_squeezed.shape}\")"
      ],
      "metadata": {
        "colab": {
          "base_uri": "https://localhost:8080/"
        },
        "id": "E_rRIBdW2IbZ",
        "outputId": "ecd5749c-9e02-4b40-d7a3-680056b7b125"
      },
      "execution_count": 69,
      "outputs": [
        {
          "output_type": "stream",
          "name": "stdout",
          "text": [
            "Previous tensor: tensor([[5., 2., 3., 4., 5., 6., 7.]])\n",
            "Previous shape: torch.Size([1, 7])\n",
            "\n",
            "New tensor: tensor([5., 2., 3., 4., 5., 6., 7.])\n",
            "New shape: torch.Size([7])\n"
          ]
        }
      ]
    },
    {
      "cell_type": "markdown",
      "source": [
        "Using ``torch.unsqueeze()`` to unsqueeze the tensor"
      ],
      "metadata": {
        "id": "oe34Dg5e2lVA"
      }
    },
    {
      "cell_type": "code",
      "source": [
        "# Create tensor with specific shape\n",
        "x_original = torch.rand(size=(224, 224, 3))\n",
        "\n",
        "# Permute the original tensor to rearrange the axis order\n",
        "x_permuted = x_original.permute(2, 0, 1) # shifts axis 0->1, 1->2, 2->0\n",
        "\n",
        "print(f\"Previous shape: {x_original.shape}\")\n",
        "print(f\"New shape: {x_permuted.shape}\")"
      ],
      "metadata": {
        "colab": {
          "base_uri": "https://localhost:8080/"
        },
        "id": "Cb5p-Pys2htX",
        "outputId": "b03790c4-391a-4dd1-a240-fe9248ade1d6"
      },
      "execution_count": 71,
      "outputs": [
        {
          "output_type": "stream",
          "name": "stdout",
          "text": [
            "Previous shape: torch.Size([224, 224, 3])\n",
            "New shape: torch.Size([3, 224, 224])\n"
          ]
        }
      ]
    },
    {
      "cell_type": "markdown",
      "source": [
        "### Indexing (selecting data from tensors)"
      ],
      "metadata": {
        "id": "C_i5PsDa4_H0"
      }
    },
    {
      "cell_type": "code",
      "source": [
        "# Create tensor\n",
        "x=torch.arange(1,10).reshape(1,3,3)\n",
        "x, x.shape"
      ],
      "metadata": {
        "colab": {
          "base_uri": "https://localhost:8080/"
        },
        "id": "KxZtEMOU2uWg",
        "outputId": "15d1dc2e-172d-4fbc-f3b0-6f13c577c7fb"
      },
      "execution_count": 72,
      "outputs": [
        {
          "output_type": "execute_result",
          "data": {
            "text/plain": [
              "(tensor([[[1, 2, 3],\n",
              "          [4, 5, 6],\n",
              "          [7, 8, 9]]]),\n",
              " torch.Size([1, 3, 3]))"
            ]
          },
          "metadata": {},
          "execution_count": 72
        }
      ]
    },
    {
      "cell_type": "code",
      "source": [
        "# Doing bracket indexing\n",
        "print(f\"First square bracket:\\n{x[0]}\")\n",
        "print(f\"Second square bracket: {x[0][0]}\")\n",
        "print(f\"Third square bracket: {x[0][0][0]}\")"
      ],
      "metadata": {
        "colab": {
          "base_uri": "https://localhost:8080/"
        },
        "id": "ZOG2UA2n5zEH",
        "outputId": "a685e48d-5401-4956-a14e-1b9946a57925"
      },
      "execution_count": 73,
      "outputs": [
        {
          "output_type": "stream",
          "name": "stdout",
          "text": [
            "First square bracket:\n",
            "tensor([[1, 2, 3],\n",
            "        [4, 5, 6],\n",
            "        [7, 8, 9]])\n",
            "Second square bracket: tensor([1, 2, 3])\n",
            "Third square bracket: 1\n"
          ]
        }
      ]
    },
    {
      "cell_type": "code",
      "source": [
        "# Get all values of 0th dimension and the 0 index of 1st dimension\n",
        "x[:, 0]"
      ],
      "metadata": {
        "colab": {
          "base_uri": "https://localhost:8080/"
        },
        "id": "1HUKCfIi6jDl",
        "outputId": "be1b0e50-0248-42ad-efa6-b327294e1fac"
      },
      "execution_count": 74,
      "outputs": [
        {
          "output_type": "execute_result",
          "data": {
            "text/plain": [
              "tensor([[1, 2, 3]])"
            ]
          },
          "metadata": {},
          "execution_count": 74
        }
      ]
    },
    {
      "cell_type": "code",
      "source": [
        "# Get all values of 0th & 1st dimensions but only index 1 of 2nd dimension\n",
        "x[:, :, 1]"
      ],
      "metadata": {
        "colab": {
          "base_uri": "https://localhost:8080/"
        },
        "id": "wpsCneNI6qyM",
        "outputId": "0c497a82-0cc1-4a10-fb46-502b2fe716b4"
      },
      "execution_count": 75,
      "outputs": [
        {
          "output_type": "execute_result",
          "data": {
            "text/plain": [
              "tensor([[2, 5, 8]])"
            ]
          },
          "metadata": {},
          "execution_count": 75
        }
      ]
    },
    {
      "cell_type": "code",
      "source": [
        "# Get all values of the 0 dimension but only the 1 index value of the 1st and 2nd dimension\n",
        "x[:, 1, 1]"
      ],
      "metadata": {
        "colab": {
          "base_uri": "https://localhost:8080/"
        },
        "id": "e4E3Kud66sJc",
        "outputId": "5bacf13b-8185-42f8-c9d0-c716d517b7cf"
      },
      "execution_count": 76,
      "outputs": [
        {
          "output_type": "execute_result",
          "data": {
            "text/plain": [
              "tensor([5])"
            ]
          },
          "metadata": {},
          "execution_count": 76
        }
      ]
    },
    {
      "cell_type": "code",
      "source": [
        "# Get index 0 of 0th and 1st dimension and all values of 2nd dimension\n",
        "x[0, 0, :] # same as x[0][0]"
      ],
      "metadata": {
        "colab": {
          "base_uri": "https://localhost:8080/"
        },
        "id": "4p2j4E4k6tfK",
        "outputId": "1bbf16fc-102a-465a-cc14-61fae425e2f2"
      },
      "execution_count": 77,
      "outputs": [
        {
          "output_type": "execute_result",
          "data": {
            "text/plain": [
              "tensor([1, 2, 3])"
            ]
          },
          "metadata": {},
          "execution_count": 77
        }
      ]
    },
    {
      "cell_type": "code",
      "source": [],
      "metadata": {
        "id": "sTbK1UWa6wni"
      },
      "execution_count": null,
      "outputs": []
    },
    {
      "cell_type": "markdown",
      "source": [
        "### PyTorch tensors and NumPy\n",
        "\n",
        "Performing the following 2 conversions:\n",
        "* NumPy array -> PyTorch tensor :- ``torch.from_numpy(ndarray)``\n",
        "* PyTorch tensor -> NumPy array :- ``torch.Tensor.numpy()``"
      ],
      "metadata": {
        "id": "-sTmGUE263Pn"
      }
    },
    {
      "cell_type": "code",
      "source": [
        "# Numpy array to Tensor\n",
        "import torch\n",
        "import numpy as np\n",
        "array=np.arange(1.0, 8.0)\n",
        "tensor=torch.from_numpy(array)\n",
        "tensor"
      ],
      "metadata": {
        "colab": {
          "base_uri": "https://localhost:8080/"
        },
        "id": "aMWxHOsl658m",
        "outputId": "b9f69bc2-cd0b-4202-a79f-b6c70e39f2ee"
      },
      "execution_count": 79,
      "outputs": [
        {
          "output_type": "execute_result",
          "data": {
            "text/plain": [
              "tensor([1., 2., 3., 4., 5., 6., 7.], dtype=torch.float64)"
            ]
          },
          "metadata": {},
          "execution_count": 79
        }
      ]
    },
    {
      "cell_type": "markdown",
      "source": [
        "**Note:** By default, NumPy arrays are created with the datatype float64 and if you convert it to a PyTorch tensor, it'll keep the same datatype (as above).\n",
        "\n",
        "However, many PyTorch calculations default to using float32.\n",
        "\n",
        "So if you want to convert your NumPy array (float64) -> PyTorch tensor (float64) -> PyTorch tensor (float32), you can use tensor = torch.from_numpy(array).type(torch.float32)"
      ],
      "metadata": {
        "id": "3bnhjnHx7pOS"
      }
    },
    {
      "cell_type": "code",
      "source": [
        "# Change the array, keep the tensor\n",
        "array = array + 1\n",
        "array, tensor"
      ],
      "metadata": {
        "colab": {
          "base_uri": "https://localhost:8080/"
        },
        "id": "3dSzchDD7gy-",
        "outputId": "9247ff93-15b5-4f09-e7df-e4e92d675573"
      },
      "execution_count": 80,
      "outputs": [
        {
          "output_type": "execute_result",
          "data": {
            "text/plain": [
              "(array([2., 3., 4., 5., 6., 7., 8.]),\n",
              " tensor([1., 2., 3., 4., 5., 6., 7.], dtype=torch.float64))"
            ]
          },
          "metadata": {},
          "execution_count": 80
        }
      ]
    },
    {
      "cell_type": "code",
      "source": [
        "# Tensor to NumPy array\n",
        "tensor=torch.ones(7)\n",
        "numpy_tensor=tensor.numpy()  # will be dtype=float32 unless changed\n",
        "tensor, numpy_tensor"
      ],
      "metadata": {
        "colab": {
          "base_uri": "https://localhost:8080/"
        },
        "id": "7IXDcX2A70Io",
        "outputId": "bd8b6204-d5df-4144-ed8d-33d99f2e854b"
      },
      "execution_count": 82,
      "outputs": [
        {
          "output_type": "execute_result",
          "data": {
            "text/plain": [
              "(tensor([1., 1., 1., 1., 1., 1., 1.]),\n",
              " array([1., 1., 1., 1., 1., 1., 1.], dtype=float32))"
            ]
          },
          "metadata": {},
          "execution_count": 82
        }
      ]
    },
    {
      "cell_type": "code",
      "source": [
        "# Change the tensor, keep the array the same\n",
        "tensor = tensor + 1\n",
        "tensor, numpy_tensor"
      ],
      "metadata": {
        "colab": {
          "base_uri": "https://localhost:8080/"
        },
        "id": "eWnc1cLD78B3",
        "outputId": "f169f70f-f6bb-40f6-b543-6e08d47c5ada"
      },
      "execution_count": 83,
      "outputs": [
        {
          "output_type": "execute_result",
          "data": {
            "text/plain": [
              "(tensor([2., 2., 2., 2., 2., 2., 2.]),\n",
              " array([1., 1., 1., 1., 1., 1., 1.], dtype=float32))"
            ]
          },
          "metadata": {},
          "execution_count": 83
        }
      ]
    },
    {
      "cell_type": "code",
      "source": [],
      "metadata": {
        "id": "uzeDHKQj7_Sb"
      },
      "execution_count": null,
      "outputs": []
    },
    {
      "cell_type": "markdown",
      "source": [
        "### Reproducibility\n",
        "Getting to know more about randomness of numbers we can get using some functions"
      ],
      "metadata": {
        "id": "Efi83b258AoT"
      }
    },
    {
      "cell_type": "code",
      "source": [
        "import torch\n",
        "import random\n",
        "\n",
        "# Setting the random seed\n",
        "random_seed=42\n",
        "torch.manual_seed(seed=random_seed)\n",
        "random_tensor_C = torch.rand(3,4)\n",
        "\n",
        "# An issue - seed is needed to be reset everytime rand() is called\n",
        "torch.random.manual_seed(seed=random_seed)\n",
        "random_tensor_D=torch.rand(3,4)\n",
        "\n",
        "print(f\"Tensor C:\\n{random_tensor_C}\\n\")\n",
        "print(f\"Tensor D:\\n{random_tensor_D}\\n\")\n",
        "print(f\"Does Tensor C equal Tensor D? (anywhere)\")\n",
        "random_tensor_C == random_tensor_D"
      ],
      "metadata": {
        "colab": {
          "base_uri": "https://localhost:8080/"
        },
        "id": "hZG186Vj8PG6",
        "outputId": "d1a0da2e-ac59-4a07-bdb7-25b4cf225773"
      },
      "execution_count": 85,
      "outputs": [
        {
          "output_type": "stream",
          "name": "stdout",
          "text": [
            "Tensor C:\n",
            "tensor([[0.8823, 0.9150, 0.3829, 0.9593],\n",
            "        [0.3904, 0.6009, 0.2566, 0.7936],\n",
            "        [0.9408, 0.1332, 0.9346, 0.5936]])\n",
            "\n",
            "Tensor D:\n",
            "tensor([[0.8823, 0.9150, 0.3829, 0.9593],\n",
            "        [0.3904, 0.6009, 0.2566, 0.7936],\n",
            "        [0.9408, 0.1332, 0.9346, 0.5936]])\n",
            "\n",
            "Does Tensor C equal Tensor D? (anywhere)\n"
          ]
        },
        {
          "output_type": "execute_result",
          "data": {
            "text/plain": [
              "tensor([[True, True, True, True],\n",
              "        [True, True, True, True],\n",
              "        [True, True, True, True]])"
            ]
          },
          "metadata": {},
          "execution_count": 85
        }
      ]
    },
    {
      "cell_type": "code",
      "source": [],
      "metadata": {
        "id": "_f-xy_gM90C8"
      },
      "execution_count": null,
      "outputs": []
    },
    {
      "cell_type": "markdown",
      "source": [
        "### Running tensors on GPUs"
      ],
      "metadata": {
        "id": "937Pb7UI95f0"
      }
    },
    {
      "cell_type": "code",
      "source": [
        "!nvidia-smi"
      ],
      "metadata": {
        "colab": {
          "base_uri": "https://localhost:8080/"
        },
        "id": "55dSl4sd99aJ",
        "outputId": "7d46cb23-8f9b-4a21-eae0-5f3c2c9deebd"
      },
      "execution_count": 86,
      "outputs": [
        {
          "output_type": "stream",
          "name": "stdout",
          "text": [
            "Fri Jul 21 19:40:58 2023       \n",
            "+-----------------------------------------------------------------------------+\n",
            "| NVIDIA-SMI 525.105.17   Driver Version: 525.105.17   CUDA Version: 12.0     |\n",
            "|-------------------------------+----------------------+----------------------+\n",
            "| GPU  Name        Persistence-M| Bus-Id        Disp.A | Volatile Uncorr. ECC |\n",
            "| Fan  Temp  Perf  Pwr:Usage/Cap|         Memory-Usage | GPU-Util  Compute M. |\n",
            "|                               |                      |               MIG M. |\n",
            "|===============================+======================+======================|\n",
            "|   0  Tesla T4            Off  | 00000000:00:04.0 Off |                    0 |\n",
            "| N/A   34C    P8     9W /  70W |      0MiB / 15360MiB |      0%      Default |\n",
            "|                               |                      |                  N/A |\n",
            "+-------------------------------+----------------------+----------------------+\n",
            "                                                                               \n",
            "+-----------------------------------------------------------------------------+\n",
            "| Processes:                                                                  |\n",
            "|  GPU   GI   CI        PID   Type   Process name                  GPU Memory |\n",
            "|        ID   ID                                                   Usage      |\n",
            "|=============================================================================|\n",
            "|  No running processes found                                                 |\n",
            "+-----------------------------------------------------------------------------+\n"
          ]
        }
      ]
    },
    {
      "cell_type": "markdown",
      "source": [
        "Currently, using the Tesla T4 GPU"
      ],
      "metadata": {
        "id": "ogJzP5HG-Gfh"
      }
    },
    {
      "cell_type": "markdown",
      "source": [
        "#### Getting PyTorch to run on GPU"
      ],
      "metadata": {
        "id": "fVf8UEIh-LEn"
      }
    },
    {
      "cell_type": "code",
      "source": [
        "import torch\n",
        "torch.cuda.is_available()"
      ],
      "metadata": {
        "colab": {
          "base_uri": "https://localhost:8080/"
        },
        "id": "WDMhX3lN-D2m",
        "outputId": "fbafa0e4-dd0e-4cd8-a4e2-3bed7442751c"
      },
      "execution_count": 87,
      "outputs": [
        {
          "output_type": "execute_result",
          "data": {
            "text/plain": [
              "True"
            ]
          },
          "metadata": {},
          "execution_count": 87
        }
      ]
    },
    {
      "cell_type": "markdown",
      "source": [
        "Since true, this means that PyTorch can use the GPU"
      ],
      "metadata": {
        "id": "RmwBweed-Td0"
      }
    },
    {
      "cell_type": "code",
      "source": [
        "# Set device type\n",
        "device = \"cuda\" if torch.cuda.is_available() else \"cpu\"\n",
        "device"
      ],
      "metadata": {
        "colab": {
          "base_uri": "https://localhost:8080/",
          "height": 36
        },
        "id": "8AF4Slks-2cC",
        "outputId": "3c8b2a11-db29-484f-e5b1-f0e23f8ade78"
      },
      "execution_count": 90,
      "outputs": [
        {
          "output_type": "execute_result",
          "data": {
            "text/plain": [
              "'cuda'"
            ],
            "application/vnd.google.colaboratory.intrinsic+json": {
              "type": "string"
            }
          },
          "metadata": {},
          "execution_count": 90
        }
      ]
    },
    {
      "cell_type": "code",
      "source": [
        "# Getting count of devices using the GPU\n",
        "torch.cuda.device_count()"
      ],
      "metadata": {
        "colab": {
          "base_uri": "https://localhost:8080/"
        },
        "id": "9pye0Aco-Skt",
        "outputId": "6d64da22-44bf-416b-dd1a-bc1ca42b2918"
      },
      "execution_count": 88,
      "outputs": [
        {
          "output_type": "execute_result",
          "data": {
            "text/plain": [
              "1"
            ]
          },
          "metadata": {},
          "execution_count": 88
        }
      ]
    },
    {
      "cell_type": "markdown",
      "source": [
        "#### Putting tensors on the GPU"
      ],
      "metadata": {
        "id": "mURnuizB-t1u"
      }
    },
    {
      "cell_type": "code",
      "source": [
        "# Create tensor (default on CPU)\n",
        "tensor = torch.tensor([1, 2, 3])\n",
        "\n",
        "# Tensor not on GPU\n",
        "print(tensor, tensor.device)\n",
        "\n",
        "# Move tensor to GPU (if available)\n",
        "tensor_on_gpu = tensor.to(device)\n",
        "tensor_on_gpu"
      ],
      "metadata": {
        "colab": {
          "base_uri": "https://localhost:8080/"
        },
        "id": "THUBpvrS-l_j",
        "outputId": "047dc77b-4a79-4e9d-ced6-bbe182d494d1"
      },
      "execution_count": 91,
      "outputs": [
        {
          "output_type": "stream",
          "name": "stdout",
          "text": [
            "tensor([1, 2, 3]) cpu\n"
          ]
        },
        {
          "output_type": "execute_result",
          "data": {
            "text/plain": [
              "tensor([1, 2, 3], device='cuda:0')"
            ]
          },
          "metadata": {},
          "execution_count": 91
        }
      ]
    },
    {
      "cell_type": "markdown",
      "source": [
        "Here `cuda:0` means that the tensor is stored on the 0th GPU avaible (0th indexed GPU)"
      ],
      "metadata": {
        "id": "1jne_cS7-8Yg"
      }
    },
    {
      "cell_type": "markdown",
      "source": [
        "#### Moving back to CPU"
      ],
      "metadata": {
        "id": "k8mLJWs8_GZN"
      }
    },
    {
      "cell_type": "code",
      "source": [
        "# If tensor is on GPU, can't transform it to NumPy (this will error)\n",
        "tensor_on_gpu.numpy()"
      ],
      "metadata": {
        "colab": {
          "base_uri": "https://localhost:8080/",
          "height": 200
        },
        "id": "AITmd2OZ-yRX",
        "outputId": "9267d0f8-04af-4ec8-fa05-188293e3a255"
      },
      "execution_count": 92,
      "outputs": [
        {
          "output_type": "error",
          "ename": "TypeError",
          "evalue": "ignored",
          "traceback": [
            "\u001b[0;31m---------------------------------------------------------------------------\u001b[0m",
            "\u001b[0;31mTypeError\u001b[0m                                 Traceback (most recent call last)",
            "\u001b[0;32m<ipython-input-92-53175578f49e>\u001b[0m in \u001b[0;36m<cell line: 2>\u001b[0;34m()\u001b[0m\n\u001b[1;32m      1\u001b[0m \u001b[0;31m# If tensor is on GPU, can't transform it to NumPy (this will error)\u001b[0m\u001b[0;34m\u001b[0m\u001b[0;34m\u001b[0m\u001b[0m\n\u001b[0;32m----> 2\u001b[0;31m \u001b[0mtensor_on_gpu\u001b[0m\u001b[0;34m.\u001b[0m\u001b[0mnumpy\u001b[0m\u001b[0;34m(\u001b[0m\u001b[0;34m)\u001b[0m\u001b[0;34m\u001b[0m\u001b[0;34m\u001b[0m\u001b[0m\n\u001b[0m",
            "\u001b[0;31mTypeError\u001b[0m: can't convert cuda:0 device type tensor to numpy. Use Tensor.cpu() to copy the tensor to host memory first."
          ]
        }
      ]
    },
    {
      "cell_type": "code",
      "source": [
        "# Instead, copy the tensor back to cpu\n",
        "tensor_back_on_cpu = tensor_on_gpu.cpu().numpy()\n",
        "tensor_back_on_cpu"
      ],
      "metadata": {
        "colab": {
          "base_uri": "https://localhost:8080/"
        },
        "id": "UK7saONv_Jbl",
        "outputId": "3f73d773-d4da-4522-8fc9-7a981eb59da2"
      },
      "execution_count": 93,
      "outputs": [
        {
          "output_type": "execute_result",
          "data": {
            "text/plain": [
              "array([1, 2, 3])"
            ]
          },
          "metadata": {},
          "execution_count": 93
        }
      ]
    },
    {
      "cell_type": "code",
      "source": [
        "tensor_on_gpu"
      ],
      "metadata": {
        "colab": {
          "base_uri": "https://localhost:8080/"
        },
        "id": "XQmj7Ga0_Lo1",
        "outputId": "ca1fbc6c-ba39-40e4-e300-6b9f58be5a68"
      },
      "execution_count": 94,
      "outputs": [
        {
          "output_type": "execute_result",
          "data": {
            "text/plain": [
              "tensor([1, 2, 3], device='cuda:0')"
            ]
          },
          "metadata": {},
          "execution_count": 94
        }
      ]
    },
    {
      "cell_type": "code",
      "source": [],
      "metadata": {
        "id": "lyKUjJ52_Mcm"
      },
      "execution_count": null,
      "outputs": []
    }
  ]
}